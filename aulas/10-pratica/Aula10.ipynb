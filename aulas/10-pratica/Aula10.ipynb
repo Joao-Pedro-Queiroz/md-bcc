{
 "cells": [
  {
   "cell_type": "markdown",
   "id": "f62ded59",
   "metadata": {},
   "source": [
    "# Prática com base `classicmodels`"
   ]
  },
  {
   "cell_type": "markdown",
   "id": "8a630554",
   "metadata": {},
   "source": [
    "Nesta aula iremos praticar **SQL** e fixar os conteúdos aprendidos nas últimas aulas.\n",
    "\n",
    "## Instalação da base\n",
    "\n",
    "Vamos utilizar a base de dados exemplo disponível em https://www.mysqltutorial.org/wp-content/uploads/2018/03/mysqlsampledatabase.zip. Faça o download e execute o script `mysqlsampledatabase.sql` para gerar a base de dados.\n",
    "\n",
    "Para facilitar, o arquivo `.sql` (zip) e o diagrama do modelo relacional também foram disponibilizados (pasta `sql`). Você pode abrir o modelo no Workbench ou pelo arquivo PDF.\n",
    "\n",
    "<img src=\"img/classicmodels.png\">\n",
    "\n",
    "## Como resolver os exercícios?\n",
    "\n",
    "Indicamos que crie uma cópia da base de dados em sua máquina (passo anterior). Utilize o MySQL Workbench ou o conector para testar as queries. Quando estiver bastante certo de que a resposta está correta, faça a submissão para o servidor.\n",
    "\n",
    "## Import das bibliotecas\n",
    "\n",
    "Vamos realizar o import das bibliotecas."
   ]
  },
  {
   "cell_type": "code",
   "execution_count": 1,
   "id": "b2f1597a",
   "metadata": {},
   "outputs": [],
   "source": [
    "import mysql.connector\n",
    "from functools import partial\n",
    "import os\n",
    "import insperautograder.jupyter as ia\n",
    "from dotenv import load_dotenv"
   ]
  },
  {
   "cell_type": "markdown",
   "id": "33eefa0d",
   "metadata": {},
   "source": [
    "E vamos criar nosso HELPER de conexão com o banco! Perceba que, uma vez configurado o `.env` não precisaremos mais informar usuários, senhas e URLs!"
   ]
  },
  {
   "cell_type": "code",
   "execution_count": null,
   "id": "f5147533",
   "metadata": {},
   "outputs": [],
   "source": [
    "load_dotenv(override=True)\n",
    "\n",
    "def get_connection_helper():\n",
    "\n",
    "    def run_db_query(connection, query, args=None):\n",
    "        with connection.cursor() as cursor:\n",
    "            print(\"Executando query:\")\n",
    "            cursor.execute(query, args)\n",
    "            for result in cursor:\n",
    "                print(result)\n",
    "\n",
    "    connection = mysql.connector.connect(\n",
    "        host=os.getenv(\"MD_DB_SERVER\"),\n",
    "        user=os.getenv(\"MD_DB_USERNAME\"),\n",
    "        password=os.getenv(\"MD_DB_PASSWORD\"),\n",
    "        port=int(os.getenv(\"MD_DB_PORT\", 3306)),\n",
    "        database=\"classicmodels\",\n",
    "    )\n",
    "    return connection, partial(run_db_query, connection)\n",
    "\n",
    "\n",
    "connection, db = get_connection_helper()"
   ]
  },
  {
   "cell_type": "markdown",
   "id": "86e481dc",
   "metadata": {},
   "source": [
    "### Tarefas e Notas\n",
    "Vamos conferir as tarefas e notas"
   ]
  },
  {
   "cell_type": "code",
   "execution_count": 2,
   "id": "47c6bae1",
   "metadata": {},
   "outputs": [
    {
     "data": {
      "text/markdown": [
       "|    | Atividade    | De                  | Até                 | Conta como ATV?   | % Nota Atraso   |\n",
       "|---:|:-------------|:--------------------|:--------------------|:------------------|:----------------|\n",
       "|  0 | newborn      | 2025-08-11 00:00:00 | 2025-11-30 00:00:00 | Não               | 0%              |\n",
       "|  1 | select01     | 2025-08-14 00:00:00 | 2025-08-22 23:59:59 | Sim               | 25%             |\n",
       "|  2 | ddl          | 2025-08-25 12:00:00 | 2025-08-31 23:59:59 | Sim               | 25%             |\n",
       "|  3 | dml          | 2025-08-28 16:30:00 | 2025-09-04 23:59:59 | Sim               | 25%             |\n",
       "|  4 | agg_join     | 2025-09-01 14:00:00 | 2025-09-07 23:59:59 | Sim               | 25%             |\n",
       "|  5 | group_having | 2025-09-04 16:30:00 | 2025-09-11 23:59:59 | Sim               | 25%             |\n",
       "|  6 | views        | 2025-09-08 14:15:00 | 2025-09-14 23:59:59 | Sim               | 25%             |\n",
       "|  7 | sql_review1  | 2025-09-11 14:15:00 | 2025-09-18 23:59:59 | Sim               | 25%             |"
      ],
      "text/plain": [
       "<IPython.core.display.Markdown object>"
      ]
     },
     "metadata": {},
     "output_type": "display_data"
    }
   ],
   "source": [
    "ia.tasks()"
   ]
  },
  {
   "cell_type": "code",
   "execution_count": 3,
   "id": "bfbfcd1f-8d59-4820-880d-5ec881598472",
   "metadata": {},
   "outputs": [
    {
     "data": {
      "text/markdown": [
       "|    | Tarefa       |   Nota | Conta como ATV?   |\n",
       "|---:|:-------------|-------:|:------------------|\n",
       "|  0 | newborn      |     10 | Não               |\n",
       "|  1 | select01     |     10 | Sim               |\n",
       "|  2 | ddl          |     10 | Sim               |\n",
       "|  3 | dml          |     10 | Sim               |\n",
       "|  4 | agg_join     |     10 | Sim               |\n",
       "|  5 | group_having |     10 | Sim               |\n",
       "|  6 | views        |     10 | Sim               |\n",
       "|  7 | sql_review1  |      0 | Sim               |"
      ],
      "text/plain": [
       "<IPython.core.display.Markdown object>"
      ]
     },
     "metadata": {},
     "output_type": "display_data"
    }
   ],
   "source": [
    "ia.grades(by=\"TASK\")"
   ]
  },
  {
   "cell_type": "code",
   "execution_count": 4,
   "id": "9d0c9a82",
   "metadata": {},
   "outputs": [
    {
     "data": {
      "text/markdown": [
       "|    | Atividade   | Exercício   |   Peso |   Nota |   Nota Sem Atraso |   Nota Com Atraso |\n",
       "|---:|:------------|:------------|-------:|-------:|------------------:|------------------:|\n",
       "|  0 | sql_review1 | ex01        |      1 |      0 |                 0 |                 0 |\n",
       "|  1 | sql_review1 | ex02        |      1 |      0 |                 0 |                 0 |\n",
       "|  2 | sql_review1 | ex03        |      1 |      0 |                 0 |                 0 |\n",
       "|  3 | sql_review1 | ex04        |      1 |      0 |                 0 |                 0 |\n",
       "|  4 | sql_review1 | ex05        |      1 |      0 |                 0 |                 0 |\n",
       "|  5 | sql_review1 | ex06        |      1 |      0 |                 0 |                 0 |\n",
       "|  6 | sql_review1 | ex07        |      2 |      0 |                 0 |                 0 |\n",
       "|  7 | sql_review1 | ex08        |      3 |      0 |                 0 |                 0 |\n",
       "|  8 | sql_review1 | ex09        |      2 |      0 |                 0 |                 0 |\n",
       "|  9 | sql_review1 | ex10        |      1 |      0 |                 0 |                 0 |\n",
       "| 10 | sql_review1 | ex11        |      3 |      0 |                 0 |                 0 |\n",
       "| 11 | sql_review1 | ex12        |      3 |      0 |                 0 |                 0 |"
      ],
      "text/plain": [
       "<IPython.core.display.Markdown object>"
      ]
     },
     "metadata": {},
     "output_type": "display_data"
    }
   ],
   "source": [
    "ia.grades(task=\"sql_review1\")"
   ]
  },
  {
   "cell_type": "code",
   "execution_count": 5,
   "id": "3b21c561",
   "metadata": {},
   "outputs": [
    {
     "data": {
      "text/markdown": [
       "|    |   Média de ATV |\n",
       "|---:|---------------:|\n",
       "|  0 |             10 |"
      ],
      "text/plain": [
       "<IPython.core.display.Markdown object>"
      ]
     },
     "metadata": {},
     "output_type": "display_data"
    }
   ],
   "source": [
    "# Média de ATV, dividindo por n-2\n",
    "ia.average(excluded_count=2)"
   ]
  },
  {
   "cell_type": "markdown",
   "id": "c167b70e",
   "metadata": {},
   "source": [
    "**Exercício 1**: Crie uma query que conte a quantidade de registros na tabela `offices`."
   ]
  },
  {
   "cell_type": "code",
   "execution_count": 7,
   "id": "0203756a",
   "metadata": {},
   "outputs": [],
   "source": [
    "sql_ex01 = \"\"\"\n",
    "    SELECT COUNT(*) AS total_offices\n",
    "    FROM offices;\n",
    "\"\"\"\n",
    "\n",
    "# db(sql_ex01)"
   ]
  },
  {
   "cell_type": "markdown",
   "id": "ed653f31",
   "metadata": {},
   "source": [
    "Após testar localmente e considerar sua solução correta, faça o envio clicando no botão abaixo!"
   ]
  },
  {
   "cell_type": "code",
   "execution_count": 8,
   "id": "b38f883b",
   "metadata": {},
   "outputs": [
    {
     "data": {
      "application/vnd.jupyter.widget-view+json": {
       "model_id": "cb4184827e394a20ac29300865115dd0",
       "version_major": 2,
       "version_minor": 0
      },
      "text/plain": [
       "interactive(children=(Button(description='Enviar ex01', style=ButtonStyle()), Output()), _dom_classes=('widget…"
      ]
     },
     "metadata": {},
     "output_type": "display_data"
    }
   ],
   "source": [
    "ia.sender(answer=\"sql_ex01\", task=\"sql_review1\", question=\"ex01\", answer_type=\"pyvar\")"
   ]
  },
  {
   "cell_type": "markdown",
   "id": "718b1256",
   "metadata": {},
   "source": [
    "#### Conferir a nota\n",
    "Se obter um **correto**, confira se a nota foi atualizada:"
   ]
  },
  {
   "cell_type": "code",
   "execution_count": 9,
   "id": "769b5ee8",
   "metadata": {},
   "outputs": [
    {
     "data": {
      "text/markdown": [
       "|    | Atividade   | Exercício   |   Peso |   Nota |   Nota Sem Atraso |   Nota Com Atraso |\n",
       "|---:|:------------|:------------|-------:|-------:|------------------:|------------------:|\n",
       "|  0 | sql_review1 | ex01        |      1 |     10 |                10 |                 0 |\n",
       "|  1 | sql_review1 | ex02        |      1 |      0 |                 0 |                 0 |\n",
       "|  2 | sql_review1 | ex03        |      1 |      0 |                 0 |                 0 |\n",
       "|  3 | sql_review1 | ex04        |      1 |      0 |                 0 |                 0 |\n",
       "|  4 | sql_review1 | ex05        |      1 |      0 |                 0 |                 0 |\n",
       "|  5 | sql_review1 | ex06        |      1 |      0 |                 0 |                 0 |\n",
       "|  6 | sql_review1 | ex07        |      2 |      0 |                 0 |                 0 |\n",
       "|  7 | sql_review1 | ex08        |      3 |      0 |                 0 |                 0 |\n",
       "|  8 | sql_review1 | ex09        |      2 |      0 |                 0 |                 0 |\n",
       "|  9 | sql_review1 | ex10        |      1 |      0 |                 0 |                 0 |\n",
       "| 10 | sql_review1 | ex11        |      3 |      0 |                 0 |                 0 |\n",
       "| 11 | sql_review1 | ex12        |      3 |      0 |                 0 |                 0 |"
      ],
      "text/plain": [
       "<IPython.core.display.Markdown object>"
      ]
     },
     "metadata": {},
     "output_type": "display_data"
    }
   ],
   "source": [
    "ia.grades(task=\"sql_review1\")"
   ]
  },
  {
   "cell_type": "markdown",
   "id": "4799a2b3",
   "metadata": {},
   "source": [
    "**Exercício 2**: Crie uma query que retorne todos os países diferentes considerando os registros da tabela de consumidores. Ainda, retorne em ordem crescente pelo nome do país."
   ]
  },
  {
   "cell_type": "code",
   "execution_count": 10,
   "id": "3be41b9a",
   "metadata": {
    "scrolled": true
   },
   "outputs": [],
   "source": [
    "sql_ex02 = \"\"\"\n",
    "SELECT DISTINCT country\n",
    "FROM customers\n",
    "ORDER BY country ASC;\n",
    "\"\"\"\n",
    "\n",
    "# db(sql_ex02)"
   ]
  },
  {
   "cell_type": "markdown",
   "id": "b5a7c345",
   "metadata": {},
   "source": [
    "Após testar localmente e considerar sua solução correta, faça o envio clicando no botão abaixo!"
   ]
  },
  {
   "cell_type": "code",
   "execution_count": 11,
   "id": "9046bc51",
   "metadata": {},
   "outputs": [
    {
     "data": {
      "application/vnd.jupyter.widget-view+json": {
       "model_id": "045daf03a3a44acbbaee1cb13ce1836d",
       "version_major": 2,
       "version_minor": 0
      },
      "text/plain": [
       "interactive(children=(Button(description='Enviar ex02', style=ButtonStyle()), Output()), _dom_classes=('widget…"
      ]
     },
     "metadata": {},
     "output_type": "display_data"
    }
   ],
   "source": [
    "ia.sender(answer=\"sql_ex02\", task=\"sql_review1\", question=\"ex02\", answer_type=\"pyvar\")"
   ]
  },
  {
   "cell_type": "markdown",
   "id": "01da05ca",
   "metadata": {},
   "source": [
    "**Exercício 3**: Crie uma query que CONTE quantos são os países diferentes (sem repetição) considerando os registros da tabela de consumidores."
   ]
  },
  {
   "cell_type": "code",
   "execution_count": 12,
   "id": "261f49cb",
   "metadata": {
    "scrolled": true
   },
   "outputs": [],
   "source": [
    "sql_ex03 = \"\"\"\n",
    "SELECT COUNT(DISTINCT country) AS total_paises\n",
    "FROM customers;\n",
    "\"\"\"\n",
    "\n",
    "# db(sql_ex03)"
   ]
  },
  {
   "cell_type": "markdown",
   "id": "7c1caa11",
   "metadata": {},
   "source": [
    "Após testar localmente e considerar sua solução correta, faça o envio clicando no botão abaixo!"
   ]
  },
  {
   "cell_type": "code",
   "execution_count": 13,
   "id": "9439ee14",
   "metadata": {},
   "outputs": [
    {
     "data": {
      "application/vnd.jupyter.widget-view+json": {
       "model_id": "3eece9f9200d4da69cc28a966f1d88cc",
       "version_major": 2,
       "version_minor": 0
      },
      "text/plain": [
       "interactive(children=(Button(description='Enviar ex03', style=ButtonStyle()), Output()), _dom_classes=('widget…"
      ]
     },
     "metadata": {},
     "output_type": "display_data"
    }
   ],
   "source": [
    "ia.sender(answer=\"sql_ex03\", task=\"sql_review1\", question=\"ex03\", answer_type=\"pyvar\")"
   ]
  },
  {
   "cell_type": "markdown",
   "id": "caeec0a6",
   "metadata": {},
   "source": [
    "**Exercício 4**: Crie uma query que retorne o **Nome do consumidor** e **telefone** de todos os consumidores que possuem a substring `Ltd` em seu nome. Ainda, retorne em ordem decrescente por nome."
   ]
  },
  {
   "cell_type": "code",
   "execution_count": 14,
   "id": "b757e995",
   "metadata": {
    "scrolled": true
   },
   "outputs": [],
   "source": [
    "sql_ex04 = \"\"\"\n",
    "SELECT customerName, phone\n",
    "FROM customers\n",
    "WHERE customerName LIKE '%Ltd%'\n",
    "ORDER BY customerName DESC;\n",
    "\"\"\"\n",
    "\n",
    "# db(sql_ex04)"
   ]
  },
  {
   "cell_type": "markdown",
   "id": "58d5f71f",
   "metadata": {},
   "source": [
    "Após testar localmente e considerar sua solução correta, faça o envio clicando no botão abaixo!"
   ]
  },
  {
   "cell_type": "code",
   "execution_count": 15,
   "id": "94416a57",
   "metadata": {},
   "outputs": [
    {
     "data": {
      "application/vnd.jupyter.widget-view+json": {
       "model_id": "118d15827ebf455ab5877198924fdea9",
       "version_major": 2,
       "version_minor": 0
      },
      "text/plain": [
       "interactive(children=(Button(description='Enviar ex04', style=ButtonStyle()), Output()), _dom_classes=('widget…"
      ]
     },
     "metadata": {},
     "output_type": "display_data"
    }
   ],
   "source": [
    "ia.sender(answer=\"sql_ex04\", task=\"sql_review1\", question=\"ex04\", answer_type=\"pyvar\")"
   ]
  },
  {
   "cell_type": "markdown",
   "id": "a6cd4aa2",
   "metadata": {},
   "source": [
    "**Exercício 5**: Considerando os **produtos** e **categorias** cadastradas, crie uma query que retorne:\n",
    "- o **id** do produto\n",
    "- o **nome** do produto\n",
    "- o **id da categoria** do produto\n",
    "- a **descrição** da categoria cadastrada\n",
    "\n",
    "Restrições:\n",
    "- Ordene pelo **nome** do produto\n",
    "- Exiba apenas os primeiros `5` registros\n",
    "- Retorne as colunas na ordem requisitada\n",
    "- As três primeiras colunas deverão manter o mesmo nome dos campos na base. A quarta coluna (**descrição** da categoria cadastrada) deverá se chamar `productLineDescription`."
   ]
  },
  {
   "cell_type": "code",
   "execution_count": 16,
   "id": "191a5519",
   "metadata": {
    "scrolled": true
   },
   "outputs": [],
   "source": [
    "sql_ex05 = \"\"\"\n",
    "SELECT \n",
    "    p.productCode,\n",
    "    p.productName,\n",
    "    p.productLine,\n",
    "    pl.textDescription AS productLineDescription\n",
    "FROM products p\n",
    "JOIN productlines pl \n",
    "    ON p.productLine = pl.productLine\n",
    "ORDER BY p.productName ASC\n",
    "LIMIT 5;\n",
    "\"\"\"\n",
    "\n",
    "# db(sql_ex05)"
   ]
  },
  {
   "cell_type": "markdown",
   "id": "5662f55d",
   "metadata": {},
   "source": [
    "Após testar localmente e considerar sua solução correta, faça o envio clicando no botão abaixo!"
   ]
  },
  {
   "cell_type": "code",
   "execution_count": 17,
   "id": "703369f2",
   "metadata": {},
   "outputs": [
    {
     "data": {
      "application/vnd.jupyter.widget-view+json": {
       "model_id": "48d56f795cd64b888ad180e2785c34e9",
       "version_major": 2,
       "version_minor": 0
      },
      "text/plain": [
       "interactive(children=(Button(description='Enviar ex05', style=ButtonStyle()), Output()), _dom_classes=('widget…"
      ]
     },
     "metadata": {},
     "output_type": "display_data"
    }
   ],
   "source": [
    "ia.sender(answer=\"sql_ex05\", task=\"sql_review1\", question=\"ex05\", answer_type=\"pyvar\")"
   ]
  },
  {
   "cell_type": "markdown",
   "id": "6e69bb3b",
   "metadata": {},
   "source": [
    "**Exercício 6**: Crie uma query que retorne o **código** e **nome** dos produtos sem nenhuma venda."
   ]
  },
  {
   "cell_type": "code",
   "execution_count": 18,
   "id": "930f6550",
   "metadata": {
    "scrolled": true
   },
   "outputs": [],
   "source": [
    "sql_ex06 = \"\"\"\n",
    "SELECT \n",
    "    p.productCode,\n",
    "    p.productName\n",
    "FROM \n",
    "    products p\n",
    "LEFT JOIN \n",
    "    orderdetails od ON p.productCode = od.productCode\n",
    "WHERE \n",
    "    od.productCode IS NULL;\n",
    "\"\"\"\n",
    "\n",
    "# db(sql_ex06)"
   ]
  },
  {
   "cell_type": "markdown",
   "id": "dcc8cc88",
   "metadata": {},
   "source": [
    "Após testar localmente e considerar sua solução correta, faça o envio clicando no botão abaixo!"
   ]
  },
  {
   "cell_type": "code",
   "execution_count": 19,
   "id": "8690469c",
   "metadata": {},
   "outputs": [
    {
     "data": {
      "application/vnd.jupyter.widget-view+json": {
       "model_id": "369971e6265546aebb905a7063211f9c",
       "version_major": 2,
       "version_minor": 0
      },
      "text/plain": [
       "interactive(children=(Button(description='Enviar ex06', style=ButtonStyle()), Output()), _dom_classes=('widget…"
      ]
     },
     "metadata": {},
     "output_type": "display_data"
    }
   ],
   "source": [
    "ia.sender(answer=\"sql_ex06\", task=\"sql_review1\", question=\"ex06\", answer_type=\"pyvar\")"
   ]
  },
  {
   "cell_type": "markdown",
   "id": "3f97b901",
   "metadata": {},
   "source": [
    "**Exercício 7**: Crie uma query que retorne o **código**, **nome** e **total vendido** dos cinco produtos com maior valor total vendido.\n",
    "\n",
    "**Requisitos**:\n",
    "- As duas primeiras colunas devem seguir a mesma nomenclatura dos campos na tabela\n",
    "- A coluna com a informação do **total vendido** (valor) deve se chamar `totalOrdered`\n",
    "- Retorne em ordem decrescente por **total vendido**"
   ]
  },
  {
   "cell_type": "code",
   "execution_count": 21,
   "id": "724d965e",
   "metadata": {
    "scrolled": true
   },
   "outputs": [],
   "source": [
    "sql_ex07 = \"\"\"\n",
    "SELECT \n",
    "    p.productCode,\n",
    "    p.productName,\n",
    "    SUM(od.quantityOrdered * od.priceEach) AS totalOrdered\n",
    "FROM \n",
    "    products p\n",
    "JOIN \n",
    "    orderdetails od ON p.productCode = od.productCode\n",
    "GROUP BY \n",
    "    p.productCode, p.productName\n",
    "ORDER BY \n",
    "    totalOrdered DESC\n",
    "LIMIT 5;\n",
    "\"\"\"\n",
    "\n",
    "# db(sql_ex07)"
   ]
  },
  {
   "cell_type": "markdown",
   "id": "acb3c6bb",
   "metadata": {},
   "source": [
    "Após testar localmente e considerar sua solução correta, faça o envio clicando no botão abaixo!"
   ]
  },
  {
   "cell_type": "code",
   "execution_count": 22,
   "id": "af7929e6",
   "metadata": {
    "scrolled": true
   },
   "outputs": [
    {
     "data": {
      "application/vnd.jupyter.widget-view+json": {
       "model_id": "7121f2bc9f2944fe9d262dd26fbd9017",
       "version_major": 2,
       "version_minor": 0
      },
      "text/plain": [
       "interactive(children=(Button(description='Enviar ex07', style=ButtonStyle()), Output()), _dom_classes=('widget…"
      ]
     },
     "metadata": {},
     "output_type": "display_data"
    }
   ],
   "source": [
    "ia.sender(answer=\"sql_ex07\", task=\"sql_review1\", question=\"ex07\", answer_type=\"pyvar\")"
   ]
  },
  {
   "cell_type": "markdown",
   "id": "1b44f6e9",
   "metadata": {},
   "source": [
    "**Exercício 8**: Considere a descrição do exercício anterior, com a seguinte alteração:\n",
    "\n",
    "**Requisitos**:\n",
    "- Retorne em ordem **crescente** por **total vendido**"
   ]
  },
  {
   "cell_type": "code",
   "execution_count": 33,
   "id": "ba848805",
   "metadata": {
    "scrolled": true
   },
   "outputs": [],
   "source": [
    "sql_ex08 = \"\"\"\n",
    "SELECT \n",
    "    t.productCode,\n",
    "    t.productName,\n",
    "    t.totalOrdered\n",
    "FROM (\n",
    "    SELECT \n",
    "        p.productCode,\n",
    "        p.productName,\n",
    "        SUM(od.quantityOrdered * od.priceEach) AS totalOrdered\n",
    "    FROM \n",
    "        products p\n",
    "    JOIN \n",
    "        orderdetails od ON p.productCode = od.productCode\n",
    "    GROUP BY \n",
    "        p.productCode, p.productName\n",
    "    ORDER BY \n",
    "        totalOrdered DESC\n",
    "    LIMIT 5\n",
    ") AS t\n",
    "ORDER BY \n",
    "    t.totalOrdered ASC;\n",
    "\"\"\"\n",
    "\n",
    "# db(sql_ex08)"
   ]
  },
  {
   "cell_type": "markdown",
   "id": "17541fc5",
   "metadata": {},
   "source": [
    "Após testar localmente e considerar sua solução correta, faça o envio clicando no botão abaixo!"
   ]
  },
  {
   "cell_type": "code",
   "execution_count": 34,
   "id": "b52219b8",
   "metadata": {
    "scrolled": true
   },
   "outputs": [
    {
     "data": {
      "application/vnd.jupyter.widget-view+json": {
       "model_id": "7819858373b14083a26b3fabb3d80218",
       "version_major": 2,
       "version_minor": 0
      },
      "text/plain": [
       "interactive(children=(Button(description='Enviar ex08', style=ButtonStyle()), Output()), _dom_classes=('widget…"
      ]
     },
     "metadata": {},
     "output_type": "display_data"
    }
   ],
   "source": [
    "ia.sender(answer=\"sql_ex08\", task=\"sql_review1\", question=\"ex08\", answer_type=\"pyvar\")"
   ]
  },
  {
   "cell_type": "markdown",
   "id": "a3a9626f",
   "metadata": {},
   "source": [
    "**Exercício 9**: Crie uma query que retorne o **código**, **nome** e **total vendido** dos quatro produtos com **menor** valor total vendido.\n",
    "\n",
    "**Requisitos**:\n",
    "- As duas primeiras colunas devem seguir a mesma nomenclatura dos campos na tabela\n",
    "- A coluna com a informação do **total vendido** (valor) deve se chamar `totalOrdered`\n",
    "- Retorne em ordem crescente por **total vendido**\n",
    "- Se um produto não teve vendas, teve aparecer o valor `0.00`"
   ]
  },
  {
   "cell_type": "code",
   "execution_count": 35,
   "id": "fc356309",
   "metadata": {
    "scrolled": true
   },
   "outputs": [],
   "source": [
    "sql_ex09 = \"\"\"\n",
    "SELECT \n",
    "    p.productCode,\n",
    "    p.productName,\n",
    "    COALESCE(SUM(od.quantityOrdered * od.priceEach), 0) AS totalOrdered\n",
    "FROM \n",
    "    products p\n",
    "LEFT JOIN \n",
    "    orderdetails od ON p.productCode = od.productCode\n",
    "GROUP BY \n",
    "    p.productCode, p.productName\n",
    "ORDER BY \n",
    "    totalOrdered ASC\n",
    "LIMIT 4;\n",
    "\"\"\"\n",
    "\n",
    "# db(sql_ex09)"
   ]
  },
  {
   "cell_type": "markdown",
   "id": "d901e24e",
   "metadata": {},
   "source": [
    "Após testar localmente e considerar sua solução correta, faça o envio clicando no botão abaixo!"
   ]
  },
  {
   "cell_type": "code",
   "execution_count": 36,
   "id": "bb9cb9db",
   "metadata": {
    "scrolled": true
   },
   "outputs": [
    {
     "data": {
      "application/vnd.jupyter.widget-view+json": {
       "model_id": "d4c781517c03435fbf65727c9c7562bf",
       "version_major": 2,
       "version_minor": 0
      },
      "text/plain": [
       "interactive(children=(Button(description='Enviar ex09', style=ButtonStyle()), Output()), _dom_classes=('widget…"
      ]
     },
     "metadata": {},
     "output_type": "display_data"
    }
   ],
   "source": [
    "ia.sender(answer=\"sql_ex09\", task=\"sql_review1\", question=\"ex09\", answer_type=\"pyvar\")"
   ]
  },
  {
   "cell_type": "markdown",
   "id": "e69de1ca",
   "metadata": {},
   "source": [
    "**Exercício 10**: Crie uma query que retorne o **código**, **nome** e **total vendido** dos  produtos com valor total vendido maior que 190.000,00 (cento e noventa mil).\n",
    "\n",
    "**Requisitos**:\n",
    "- As duas primeiras colunas devem seguir a mesma nomenclatura dos campos na tabela\n",
    "- A coluna com a informação do **total vendido** (valor) deve se chamar `totalOrdered`\n",
    "- Retorne em ordem **crescente** por **total vendido**"
   ]
  },
  {
   "cell_type": "code",
   "execution_count": 37,
   "id": "8f0710c4",
   "metadata": {
    "scrolled": true
   },
   "outputs": [],
   "source": [
    "sql_ex10 = \"\"\"\n",
    "SELECT \n",
    "    p.productCode,\n",
    "    p.productName,\n",
    "    SUM(od.quantityOrdered * od.priceEach) AS totalOrdered\n",
    "FROM \n",
    "    products p\n",
    "JOIN \n",
    "    orderdetails od ON p.productCode = od.productCode\n",
    "GROUP BY \n",
    "    p.productCode, p.productName\n",
    "HAVING \n",
    "    totalOrdered > 190000\n",
    "ORDER BY \n",
    "    totalOrdered ASC;\n",
    "\"\"\"\n",
    "\n",
    "# db(sql_ex10)"
   ]
  },
  {
   "cell_type": "markdown",
   "id": "974be964",
   "metadata": {},
   "source": [
    "Após testar localmente e considerar sua solução correta, faça o envio clicando no botão abaixo!"
   ]
  },
  {
   "cell_type": "code",
   "execution_count": 38,
   "id": "35c4948e",
   "metadata": {
    "scrolled": true
   },
   "outputs": [
    {
     "data": {
      "application/vnd.jupyter.widget-view+json": {
       "model_id": "b4d65dfbf43c4bbe83a7d2d7f70e57c4",
       "version_major": 2,
       "version_minor": 0
      },
      "text/plain": [
       "interactive(children=(Button(description='Enviar ex10', style=ButtonStyle()), Output()), _dom_classes=('widget…"
      ]
     },
     "metadata": {},
     "output_type": "display_data"
    }
   ],
   "source": [
    "ia.sender(answer=\"sql_ex10\", task=\"sql_review1\", question=\"ex10\", answer_type=\"pyvar\")"
   ]
  },
  {
   "cell_type": "markdown",
   "id": "0817444a",
   "metadata": {},
   "source": [
    "**Exercício 11**: Crie uma query que retorne o valor unitário médio dos produtos vendidos em cada mês de cada ano.\n",
    "\n",
    "Sua query deve retornar as colunas:\n",
    "- `orderYear`: valor inteiro que representa o ano. Ex: 2002, 2003, 2004\n",
    "- `orderMonth`: valor inteiro que representa o mês. Ex: 1, 2, ..., 12\n",
    "- `productCode`: código do produto\n",
    "- `productName`: descrição do produto\n",
    "- `averagePrice`: preço médio unitário\n",
    "\n",
    "**Requisitos**:\n",
    "- Retorne apenas os dados de 2003 e 2004\n",
    "- Retorne apenas as informações do primeiro trimestre do ano\n",
    "- Retorne apenas os produtos com a substring `ford` no nome do produto\n",
    "- Produtos sem venda em algum mês ou sem vendas de forma geral não devem ser retornados\n",
    "- Ordene por múltiplos critérios, nesta ordem:\n",
    "    - `orderYear`\n",
    "    - `orderMonth`\n",
    "    - `productName`\n",
    "\n",
    "**Obs**:\n",
    "- Aqui, o valor médio unitário é por venda, desconsiderando a **quantidade** unitária do produto dentro da venda."
   ]
  },
  {
   "cell_type": "code",
   "execution_count": 39,
   "id": "97bcc859",
   "metadata": {},
   "outputs": [],
   "source": [
    "sql_ex11 = \"\"\"\n",
    "SELECT\n",
    "  YEAR(o.orderDate)  AS orderYear,\n",
    "  MONTH(o.orderDate) AS orderMonth,\n",
    "  p.productCode,\n",
    "  p.productName,\n",
    "  AVG(od.priceEach)  AS averagePrice\n",
    "FROM orders o\n",
    "JOIN orderdetails od ON od.orderNumber = o.orderNumber\n",
    "JOIN products p     ON p.productCode = od.productCode\n",
    "WHERE YEAR(o.orderDate) IN (2003, 2004)\n",
    "  AND MONTH(o.orderDate) BETWEEN 1 AND 3\n",
    "  AND LOWER(p.productName) LIKE '%ford%'\n",
    "GROUP BY\n",
    "  YEAR(o.orderDate),\n",
    "  MONTH(o.orderDate),\n",
    "  p.productCode,\n",
    "  p.productName\n",
    "ORDER BY\n",
    "  orderYear,\n",
    "  orderMonth,\n",
    "  p.productName;\n",
    "\"\"\"\n",
    "\n",
    "# db(sql_ex11)"
   ]
  },
  {
   "cell_type": "markdown",
   "id": "dfd66349",
   "metadata": {},
   "source": [
    "Após testar localmente e considerar sua solução correta, faça o envio clicando no botão abaixo!"
   ]
  },
  {
   "cell_type": "code",
   "execution_count": 40,
   "id": "4e64ba76",
   "metadata": {
    "scrolled": true
   },
   "outputs": [
    {
     "data": {
      "application/vnd.jupyter.widget-view+json": {
       "model_id": "08409227193549858738e129be83bca0",
       "version_major": 2,
       "version_minor": 0
      },
      "text/plain": [
       "interactive(children=(Button(description='Enviar ex11', style=ButtonStyle()), Output()), _dom_classes=('widget…"
      ]
     },
     "metadata": {},
     "output_type": "display_data"
    }
   ],
   "source": [
    "ia.sender(answer=\"sql_ex11\", task=\"sql_review1\", question=\"ex11\", answer_type=\"pyvar\")"
   ]
  },
  {
   "cell_type": "markdown",
   "id": "870f6804",
   "metadata": {},
   "source": [
    "**Exercício 12**: Crie uma query que crie uma tabela temporária `salesproductlines` contendo informações sobre o quanto a empresa deixou de ganhar devido a vendas **canceladas**. A informação deve estar agrupada por **linha de produto** (tabela `productlines`).\n",
    "\n",
    "Sua query deve retornar as colunas:\n",
    "- `productLine`: texto com a linha do produto\n",
    "- `qtProductCode`: quantos produtos diferentes da linha de produto deixaram de ser vendidos\n",
    "- `qtTotalOrdered`: total de quantas unidades deixaram de ser vendidas\n",
    "- `totalLost`: faturamento perdido, considerando o valor unitário na venda e quantas unidades do produto estavam para ser vendidas\n",
    "\n",
    "**Requisitos**:\n",
    "- Linhas de produtos sem vendas devem ser retornadas com quantidade `0` e valores `0.00`\n",
    "- Ordene por `totalLost` de forma decrescente"
   ]
  },
  {
   "cell_type": "code",
   "execution_count": 42,
   "id": "08574dce",
   "metadata": {},
   "outputs": [],
   "source": [
    "sql_ex12 = \"\"\"\n",
    "CREATE TEMPORARY TABLE salesproductlines AS\n",
    "SELECT\n",
    "  pl.productLine                                                        AS productLine,\n",
    "  COUNT(DISTINCT CASE WHEN o.orderNumber IS NOT NULL THEN p.productCode END)                     AS qtProductCode,\n",
    "  COALESCE(SUM(CASE WHEN o.orderNumber IS NOT NULL THEN od.quantityOrdered ELSE 0 END), 0)       AS qtTotalOrdered,\n",
    "  CAST(\n",
    "    COALESCE(SUM(CASE WHEN o.orderNumber IS NOT NULL THEN (od.quantityOrdered * od.priceEach) ELSE 0 END), 0)\n",
    "    AS DECIMAL(15,2)\n",
    "  )                                                                                              AS totalLost\n",
    "FROM productlines pl\n",
    "LEFT JOIN products p\n",
    "       ON p.productLine = pl.productLine\n",
    "LEFT JOIN orderdetails od\n",
    "       ON od.productCode = p.productCode\n",
    "LEFT JOIN orders o\n",
    "       ON o.orderNumber = od.orderNumber\n",
    "      AND LOWER(o.status) = 'cancelled'     -- considera apenas pedidos cancelados\n",
    "GROUP BY\n",
    "  pl.productLine\n",
    "ORDER BY totalLost DESC;\n",
    "\"\"\"\n",
    "\n",
    "# db(sql_ex12)"
   ]
  },
  {
   "cell_type": "markdown",
   "id": "4026d5c2",
   "metadata": {},
   "source": [
    "Após testar localmente e considerar sua solução correta, faça o envio clicando no botão abaixo!"
   ]
  },
  {
   "cell_type": "code",
   "execution_count": 43,
   "id": "397dce73",
   "metadata": {},
   "outputs": [
    {
     "data": {
      "application/vnd.jupyter.widget-view+json": {
       "model_id": "3a140b8cface429db04f01acdb388f0e",
       "version_major": 2,
       "version_minor": 0
      },
      "text/plain": [
       "interactive(children=(Button(description='Enviar ex12', style=ButtonStyle()), Output()), _dom_classes=('widget…"
      ]
     },
     "metadata": {},
     "output_type": "display_data"
    }
   ],
   "source": [
    "ia.sender(answer=\"sql_ex12\", task=\"sql_review1\", question=\"ex12\", answer_type=\"pyvar\")"
   ]
  },
  {
   "cell_type": "markdown",
   "id": "a82a9b6e",
   "metadata": {},
   "source": [
    "### Conferindo as Notas\n",
    "\n",
    "Conferindo as Notas em cada exercício de **todas** as atividades disponíveis:"
   ]
  },
  {
   "cell_type": "markdown",
   "id": "46cedc17",
   "metadata": {},
   "source": [
    "Podemos filtrar por uma atividade:"
   ]
  },
  {
   "cell_type": "code",
   "execution_count": 44,
   "id": "86ad5ea7",
   "metadata": {},
   "outputs": [
    {
     "data": {
      "text/markdown": [
       "|    | Atividade   | Exercício   |   Peso |   Nota |   Nota Sem Atraso |   Nota Com Atraso |\n",
       "|---:|:------------|:------------|-------:|-------:|------------------:|------------------:|\n",
       "|  0 | sql_review1 | ex01        |      1 |     10 |                10 |                 0 |\n",
       "|  1 | sql_review1 | ex02        |      1 |     10 |                10 |                 0 |\n",
       "|  2 | sql_review1 | ex03        |      1 |     10 |                10 |                 0 |\n",
       "|  3 | sql_review1 | ex04        |      1 |     10 |                10 |                 0 |\n",
       "|  4 | sql_review1 | ex05        |      1 |     10 |                10 |                 0 |\n",
       "|  5 | sql_review1 | ex06        |      1 |     10 |                10 |                 0 |\n",
       "|  6 | sql_review1 | ex07        |      2 |     10 |                10 |                 0 |\n",
       "|  7 | sql_review1 | ex08        |      3 |     10 |                10 |                 0 |\n",
       "|  8 | sql_review1 | ex09        |      2 |     10 |                10 |                 0 |\n",
       "|  9 | sql_review1 | ex10        |      1 |     10 |                10 |                 0 |\n",
       "| 10 | sql_review1 | ex11        |      3 |     10 |                10 |                 0 |\n",
       "| 11 | sql_review1 | ex12        |      3 |     10 |                10 |                 0 |"
      ],
      "text/plain": [
       "<IPython.core.display.Markdown object>"
      ]
     },
     "metadata": {},
     "output_type": "display_data"
    }
   ],
   "source": [
    "ia.grades(task=\"sql_review1\")"
   ]
  },
  {
   "cell_type": "markdown",
   "id": "d8f403ad",
   "metadata": {},
   "source": [
    "Nota por atividade (tarefa):"
   ]
  },
  {
   "cell_type": "code",
   "execution_count": 45,
   "id": "fdcdd52b",
   "metadata": {},
   "outputs": [
    {
     "data": {
      "text/markdown": [
       "|    | Tarefa       |   Nota | Conta como ATV?   |\n",
       "|---:|:-------------|-------:|:------------------|\n",
       "|  0 | newborn      |     10 | Não               |\n",
       "|  1 | select01     |     10 | Sim               |\n",
       "|  2 | ddl          |     10 | Sim               |\n",
       "|  3 | dml          |     10 | Sim               |\n",
       "|  4 | agg_join     |     10 | Sim               |\n",
       "|  5 | group_having |     10 | Sim               |\n",
       "|  6 | views        |     10 | Sim               |\n",
       "|  7 | sql_review1  |     10 | Sim               |"
      ],
      "text/plain": [
       "<IPython.core.display.Markdown object>"
      ]
     },
     "metadata": {},
     "output_type": "display_data"
    }
   ],
   "source": [
    "ia.grades(by=\"TASK\")"
   ]
  },
  {
   "cell_type": "markdown",
   "id": "14c242fb",
   "metadata": {},
   "source": [
    "Podendo filtrar apenas uma atividade:"
   ]
  },
  {
   "cell_type": "code",
   "execution_count": 46,
   "id": "e5f92f57",
   "metadata": {},
   "outputs": [
    {
     "data": {
      "text/markdown": [
       "|    | Tarefa      |   Nota | Conta como ATV?   |\n",
       "|---:|:------------|-------:|:------------------|\n",
       "|  0 | sql_review1 |     10 | Sim               |"
      ],
      "text/plain": [
       "<IPython.core.display.Markdown object>"
      ]
     },
     "metadata": {},
     "output_type": "display_data"
    }
   ],
   "source": [
    "ia.grades(by=\"TASK\", task=\"sql_review1\")"
   ]
  },
  {
   "cell_type": "markdown",
   "id": "c8d93ae0",
   "metadata": {},
   "source": [
    "Média de ATV:"
   ]
  },
  {
   "cell_type": "code",
   "execution_count": 47,
   "id": "ce6c6846",
   "metadata": {},
   "outputs": [
    {
     "data": {
      "text/markdown": [
       "|    |   Média de ATV |\n",
       "|---:|---------------:|\n",
       "|  0 |             10 |"
      ],
      "text/plain": [
       "<IPython.core.display.Markdown object>"
      ]
     },
     "metadata": {},
     "output_type": "display_data"
    }
   ],
   "source": [
    "# Média de ATV, dividindo por n-2\n",
    "ia.average(excluded_count=2)"
   ]
  }
 ],
 "metadata": {
  "kernelspec": {
   "display_name": "venv",
   "language": "python",
   "name": "python3"
  },
  "language_info": {
   "codemirror_mode": {
    "name": "ipython",
    "version": 3
   },
   "file_extension": ".py",
   "mimetype": "text/x-python",
   "name": "python",
   "nbconvert_exporter": "python",
   "pygments_lexer": "ipython3",
   "version": "3.11.4"
  }
 },
 "nbformat": 4,
 "nbformat_minor": 5
}
