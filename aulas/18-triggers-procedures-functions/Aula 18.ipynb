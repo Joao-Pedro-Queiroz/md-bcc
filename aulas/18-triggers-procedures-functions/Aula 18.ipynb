{
 "cells": [
  {
   "cell_type": "markdown",
   "metadata": {
    "tags": []
   },
   "source": [
    "# SQL pré-armazenado: stored procedures, triggers, views\n",
    "\n",
    "Além de armazenar nossos dados em tabelas, os bancos de dados também podem armazenar código SQL na forma de vários tipos de objetos:\n",
    "\n",
    "- **Stored procedures**: procedimentos escritos em SQL, executados através da chamada `CALL`.\n",
    "- **Stored functions**: funções escritas em SQL e que podem ser usadas nas mesmas situações que uma função pré-definida seria usada, como `SUM()` ou `COUNT()`\n",
    "- **Triggers**: Um procedimento que será executado automaticamente quando determinadas condições ocorrem, como `INSERT`, `UPDATE` ou `DELETE` em uma tabela.\n",
    "- **Eventos**: Procedimentos que podem ser executados pelo banco de dados em horários pré-definidos.\n",
    "- **Views**: Diferente dos outros objetos, uma view é como um `SELECT` pré-definido, e resulta em uma tabela virtual.\n",
    "\n",
    "Vamos continuar trabalhando com a base de dados **emprestimo** de uma aula anterior.\n",
    "\n",
    "<img src=\"img/diagrama.png\">\n",
    "\n",
    "Para facilitar a atividade de hoje, vamos começar do zero rodando o script `emprestimos.sql`:\n",
    "\n",
    "```SQL\n",
    "DROP DATABASE IF EXISTS emprestimos;\n",
    "CREATE DATABASE emprestimos;\n",
    "USE emprestimos;\n",
    "\n",
    "CREATE TABLE usuario (\n",
    "    id_usuario INT NOT NULL AUTO_INCREMENT,\n",
    "    nome VARCHAR(80) NOT NULL,\n",
    "    sobrenome VARCHAR(80) NOT NULL,\n",
    "    saldo DECIMAL(30 , 2 ) NOT NULL DEFAULT 0.0,\n",
    "    PRIMARY KEY (id_usuario),\n",
    "    CONSTRAINT c_saldo CHECK (saldo >= 0.0)\n",
    ");\n",
    "\n",
    "CREATE TABLE emprestimo (\n",
    "    id_emprestimo INT NOT NULL AUTO_INCREMENT,\n",
    "    id_credor INT NOT NULL,\n",
    "    id_devedor INT NOT NULL,\n",
    "    valor_atual DECIMAL(30 , 2 ) NOT NULL DEFAULT 0.0,\n",
    "    data_inicio DATETIME NOT NULL DEFAULT CURRENT_TIMESTAMP,\n",
    "    data_modificação DATETIME NOT NULL DEFAULT CURRENT_TIMESTAMP ON UPDATE CURRENT_TIMESTAMP,\n",
    "    PRIMARY KEY (id_emprestimo),\n",
    "    CONSTRAINT fk_credor FOREIGN KEY (id_credor)\n",
    "        REFERENCES usuario (id_usuario),\n",
    "    CONSTRAINT fk_devedor FOREIGN KEY (id_devedor)\n",
    "        REFERENCES usuario (id_usuario),\n",
    "    CONSTRAINT c_valor CHECK (valor_atual >= 0.0)\n",
    ");\n",
    "\n",
    "CREATE TABLE operacao (\n",
    "    id_operacao INT NOT NULL AUTO_INCREMENT,\n",
    "    id_emprestimo INT NOT NULL,\n",
    "    valor DECIMAL(30 , 2 ),\n",
    "    data_operacao DATETIME NOT NULL DEFAULT CURRENT_TIMESTAMP,\n",
    "    PRIMARY KEY (id_operacao),\n",
    "    CONSTRAINT fk_emprestimo FOREIGN KEY (id_emprestimo)\n",
    "        REFERENCES emprestimo (id_emprestimo)\n",
    ");\n",
    "\n",
    "CREATE TABLE movimentacao (\n",
    "    id_movimentacao INT NOT NULL AUTO_INCREMENT,\n",
    "    id_usuario INT NOT NULL,\n",
    "    valor DECIMAL(30 , 2 ),\n",
    "    data_operacao DATETIME NOT NULL DEFAULT CURRENT_TIMESTAMP,\n",
    "    PRIMARY KEY (id_movimentacao),\n",
    "    CONSTRAINT fk_usuario FOREIGN KEY (id_usuario)\n",
    "        REFERENCES usuario (id_usuario)\n",
    ");\n",
    "```\n",
    "\n",
    "Em seguida, vamos abrir a conexão com o banco de dados."
   ]
  },
  {
   "cell_type": "code",
   "execution_count": 1,
   "metadata": {},
   "outputs": [
    {
     "name": "stdout",
     "output_type": "stream",
     "text": [
      "Requirement already satisfied: mysql-connector-python==8.3.0 in c:\\users\\jpqv0\\vscodeprojects\\insper\\2025\\5-semestre\\megadados\\md-bcc\\venv\\lib\\site-packages (8.3.0)\n"
     ]
    },
    {
     "name": "stderr",
     "output_type": "stream",
     "text": [
      "\n",
      "[notice] A new release of pip is available: 23.1.2 -> 25.2\n",
      "[notice] To update, run: python.exe -m pip install --upgrade pip\n"
     ]
    }
   ],
   "source": [
    "# Se estiver com problemas com o \"multi\"\n",
    "!python -m pip install mysql-connector-python==8.3.0"
   ]
  },
  {
   "cell_type": "code",
   "execution_count": 2,
   "metadata": {},
   "outputs": [
    {
     "data": {
      "text/plain": [
       "True"
      ]
     },
     "execution_count": 2,
     "metadata": {},
     "output_type": "execute_result"
    }
   ],
   "source": [
    "import mysql.connector\n",
    "from functools import partial\n",
    "import os\n",
    "import insperautograder.jupyter as ia\n",
    "from dotenv import load_dotenv\n",
    "\n",
    "load_dotenv()"
   ]
  },
  {
   "cell_type": "code",
   "execution_count": 3,
   "metadata": {},
   "outputs": [
    {
     "ename": "DatabaseError",
     "evalue": "2003 (HY000): Can't connect to MySQL server on 'localhost:3306' (10061)",
     "output_type": "error",
     "traceback": [
      "\u001b[31m---------------------------------------------------------------------------\u001b[39m",
      "\u001b[31mMySQLInterfaceError\u001b[39m                       Traceback (most recent call last)",
      "\u001b[36mFile \u001b[39m\u001b[32mc:\\Users\\jpqv0\\VSCodeProjects\\Insper\\2025\\5-Semestre\\Megadados\\md-bcc\\venv\\Lib\\site-packages\\mysql\\connector\\connection_cext.py:323\u001b[39m, in \u001b[36mCMySQLConnection._open_connection\u001b[39m\u001b[34m(self)\u001b[39m\n\u001b[32m    322\u001b[39m \u001b[38;5;28;01mtry\u001b[39;00m:\n\u001b[32m--> \u001b[39m\u001b[32m323\u001b[39m     \u001b[38;5;28;43mself\u001b[39;49m\u001b[43m.\u001b[49m\u001b[43m_cmysql\u001b[49m\u001b[43m.\u001b[49m\u001b[43mconnect\u001b[49m\u001b[43m(\u001b[49m\u001b[43m*\u001b[49m\u001b[43m*\u001b[49m\u001b[43mcnx_kwargs\u001b[49m\u001b[43m)\u001b[49m\n\u001b[32m    324\u001b[39m     \u001b[38;5;28mself\u001b[39m._cmysql.converter_str_fallback = \u001b[38;5;28mself\u001b[39m._converter_str_fallback\n",
      "\u001b[31mMySQLInterfaceError\u001b[39m: Can't connect to MySQL server on 'localhost:3306' (10061)",
      "\nThe above exception was the direct cause of the following exception:\n",
      "\u001b[31mDatabaseError\u001b[39m                             Traceback (most recent call last)",
      "\u001b[36mCell\u001b[39m\u001b[36m \u001b[39m\u001b[32mIn[3]\u001b[39m\u001b[32m, line 51\u001b[39m\n\u001b[32m      1\u001b[39m script = \u001b[33m\"\"\"\u001b[39m\n\u001b[32m      2\u001b[39m \u001b[33mDROP DATABASE IF EXISTS emprestimos;\u001b[39m\n\u001b[32m      3\u001b[39m \u001b[33mCREATE DATABASE emprestimos;\u001b[39m\n\u001b[32m   (...)\u001b[39m\u001b[32m     48\u001b[39m \u001b[33m);\u001b[39m\n\u001b[32m     49\u001b[39m \u001b[33m\"\"\"\u001b[39m\n\u001b[32m---> \u001b[39m\u001b[32m51\u001b[39m connection = \u001b[43mmysql\u001b[49m\u001b[43m.\u001b[49m\u001b[43mconnector\u001b[49m\u001b[43m.\u001b[49m\u001b[43mconnect\u001b[49m\u001b[43m(\u001b[49m\n\u001b[32m     52\u001b[39m \u001b[43m    \u001b[49m\u001b[43mhost\u001b[49m\u001b[43m=\u001b[49m\u001b[43mos\u001b[49m\u001b[43m.\u001b[49m\u001b[43mgetenv\u001b[49m\u001b[43m(\u001b[49m\u001b[33;43m\"\u001b[39;49m\u001b[33;43mMD_DB_SERVER\u001b[39;49m\u001b[33;43m\"\u001b[39;49m\u001b[43m)\u001b[49m\u001b[43m,\u001b[49m\n\u001b[32m     53\u001b[39m \u001b[43m    \u001b[49m\u001b[43muser\u001b[49m\u001b[43m=\u001b[49m\u001b[43mos\u001b[49m\u001b[43m.\u001b[49m\u001b[43mgetenv\u001b[49m\u001b[43m(\u001b[49m\u001b[33;43m\"\u001b[39;49m\u001b[33;43mMD_DB_USERNAME\u001b[39;49m\u001b[33;43m\"\u001b[39;49m\u001b[43m)\u001b[49m\u001b[43m,\u001b[49m\n\u001b[32m     54\u001b[39m \u001b[43m    \u001b[49m\u001b[43mpassword\u001b[49m\u001b[43m=\u001b[49m\u001b[43mos\u001b[49m\u001b[43m.\u001b[49m\u001b[43mgetenv\u001b[49m\u001b[43m(\u001b[49m\u001b[33;43m\"\u001b[39;49m\u001b[33;43mMD_DB_PASSWORD\u001b[39;49m\u001b[33;43m\"\u001b[39;49m\u001b[43m)\u001b[49m\u001b[43m,\u001b[49m\n\u001b[32m     55\u001b[39m \u001b[43m)\u001b[49m\n\u001b[32m     57\u001b[39m \u001b[38;5;28;01mwith\u001b[39;00m connection.cursor() \u001b[38;5;28;01mas\u001b[39;00m cursor:\n\u001b[32m     58\u001b[39m     \u001b[38;5;28;01mtry\u001b[39;00m:\n",
      "\u001b[36mFile \u001b[39m\u001b[32mc:\\Users\\jpqv0\\VSCodeProjects\\Insper\\2025\\5-Semestre\\Megadados\\md-bcc\\venv\\Lib\\site-packages\\mysql\\connector\\pooling.py:322\u001b[39m, in \u001b[36mconnect\u001b[39m\u001b[34m(*args, **kwargs)\u001b[39m\n\u001b[32m    319\u001b[39m         \u001b[38;5;28;01mraise\u001b[39;00m \u001b[38;5;167;01mImportError\u001b[39;00m(ERROR_NO_CEXT)\n\u001b[32m    321\u001b[39m \u001b[38;5;28;01mif\u001b[39;00m CMySQLConnection \u001b[38;5;129;01mand\u001b[39;00m \u001b[38;5;129;01mnot\u001b[39;00m use_pure:\n\u001b[32m--> \u001b[39m\u001b[32m322\u001b[39m     \u001b[38;5;28;01mreturn\u001b[39;00m \u001b[43mCMySQLConnection\u001b[49m\u001b[43m(\u001b[49m\u001b[43m*\u001b[49m\u001b[43margs\u001b[49m\u001b[43m,\u001b[49m\u001b[43m \u001b[49m\u001b[43m*\u001b[49m\u001b[43m*\u001b[49m\u001b[43mkwargs\u001b[49m\u001b[43m)\u001b[49m\n\u001b[32m    323\u001b[39m \u001b[38;5;28;01mreturn\u001b[39;00m MySQLConnection(*args, **kwargs)\n",
      "\u001b[36mFile \u001b[39m\u001b[32mc:\\Users\\jpqv0\\VSCodeProjects\\Insper\\2025\\5-Semestre\\Megadados\\md-bcc\\venv\\Lib\\site-packages\\mysql\\connector\\connection_cext.py:140\u001b[39m, in \u001b[36mCMySQLConnection.__init__\u001b[39m\u001b[34m(self, **kwargs)\u001b[39m\n\u001b[32m    138\u001b[39m \u001b[38;5;28;01mif\u001b[39;00m kwargs:\n\u001b[32m    139\u001b[39m     \u001b[38;5;28;01mtry\u001b[39;00m:\n\u001b[32m--> \u001b[39m\u001b[32m140\u001b[39m         \u001b[38;5;28;43mself\u001b[39;49m\u001b[43m.\u001b[49m\u001b[43mconnect\u001b[49m\u001b[43m(\u001b[49m\u001b[43m*\u001b[49m\u001b[43m*\u001b[49m\u001b[43mkwargs\u001b[49m\u001b[43m)\u001b[49m\n\u001b[32m    141\u001b[39m     \u001b[38;5;28;01mexcept\u001b[39;00m \u001b[38;5;167;01mException\u001b[39;00m:\n\u001b[32m    142\u001b[39m         \u001b[38;5;28mself\u001b[39m.close()\n",
      "\u001b[36mFile \u001b[39m\u001b[32mc:\\Users\\jpqv0\\VSCodeProjects\\Insper\\2025\\5-Semestre\\Megadados\\md-bcc\\venv\\Lib\\site-packages\\mysql\\connector\\abstracts.py:1363\u001b[39m, in \u001b[36mMySQLConnectionAbstract.connect\u001b[39m\u001b[34m(self, **kwargs)\u001b[39m\n\u001b[32m   1360\u001b[39m     \u001b[38;5;28mself\u001b[39m.config(**kwargs)\n\u001b[32m   1362\u001b[39m \u001b[38;5;28mself\u001b[39m.disconnect()\n\u001b[32m-> \u001b[39m\u001b[32m1363\u001b[39m \u001b[38;5;28;43mself\u001b[39;49m\u001b[43m.\u001b[49m\u001b[43m_open_connection\u001b[49m\u001b[43m(\u001b[49m\u001b[43m)\u001b[49m\n\u001b[32m   1365\u001b[39m charset, collation = (\n\u001b[32m   1366\u001b[39m     kwargs.pop(\u001b[33m\"\u001b[39m\u001b[33mcharset\u001b[39m\u001b[33m\"\u001b[39m, \u001b[38;5;28;01mNone\u001b[39;00m),\n\u001b[32m   1367\u001b[39m     kwargs.pop(\u001b[33m\"\u001b[39m\u001b[33mcollation\u001b[39m\u001b[33m\"\u001b[39m, \u001b[38;5;28;01mNone\u001b[39;00m),\n\u001b[32m   1368\u001b[39m )\n\u001b[32m   1369\u001b[39m \u001b[38;5;28;01mif\u001b[39;00m charset \u001b[38;5;129;01mor\u001b[39;00m collation:\n",
      "\u001b[36mFile \u001b[39m\u001b[32mc:\\Users\\jpqv0\\VSCodeProjects\\Insper\\2025\\5-Semestre\\Megadados\\md-bcc\\venv\\Lib\\site-packages\\mysql\\connector\\connection_cext.py:328\u001b[39m, in \u001b[36mCMySQLConnection._open_connection\u001b[39m\u001b[34m(self)\u001b[39m\n\u001b[32m    326\u001b[39m         \u001b[38;5;28mself\u001b[39m.converter.str_fallback = \u001b[38;5;28mself\u001b[39m._converter_str_fallback\n\u001b[32m    327\u001b[39m \u001b[38;5;28;01mexcept\u001b[39;00m MySQLInterfaceError \u001b[38;5;28;01mas\u001b[39;00m err:\n\u001b[32m--> \u001b[39m\u001b[32m328\u001b[39m     \u001b[38;5;28;01mraise\u001b[39;00m get_mysql_exception(\n\u001b[32m    329\u001b[39m         msg=err.msg, errno=err.errno, sqlstate=err.sqlstate\n\u001b[32m    330\u001b[39m     ) \u001b[38;5;28;01mfrom\u001b[39;00m\u001b[38;5;250m \u001b[39m\u001b[34;01merr\u001b[39;00m\n\u001b[32m    332\u001b[39m \u001b[38;5;28mself\u001b[39m._do_handshake()\n",
      "\u001b[31mDatabaseError\u001b[39m: 2003 (HY000): Can't connect to MySQL server on 'localhost:3306' (10061)"
     ]
    }
   ],
   "source": [
    "script = \"\"\"\n",
    "DROP DATABASE IF EXISTS emprestimos;\n",
    "CREATE DATABASE emprestimos;\n",
    "USE emprestimos;\n",
    "\n",
    "CREATE TABLE usuario (\n",
    "    id_usuario INT NOT NULL AUTO_INCREMENT,\n",
    "    nome VARCHAR(80) NOT NULL,\n",
    "    sobrenome VARCHAR(80) NOT NULL,\n",
    "    saldo DECIMAL(30 , 2 ) NOT NULL DEFAULT 0.0,\n",
    "    PRIMARY KEY (id_usuario),\n",
    "    CONSTRAINT c_saldo CHECK (saldo >= 0.0)\n",
    ");\n",
    "\n",
    "CREATE TABLE emprestimo (\n",
    "    id_emprestimo INT NOT NULL AUTO_INCREMENT,\n",
    "    id_credor INT NOT NULL,\n",
    "    id_devedor INT NOT NULL,\n",
    "    valor_atual DECIMAL(30 , 2 ) NOT NULL DEFAULT 0.0,\n",
    "    data_inicio DATETIME NOT NULL DEFAULT CURRENT_TIMESTAMP,\n",
    "    data_modificação DATETIME NOT NULL DEFAULT CURRENT_TIMESTAMP ON UPDATE CURRENT_TIMESTAMP,\n",
    "    PRIMARY KEY (id_emprestimo),\n",
    "    CONSTRAINT fk_credor FOREIGN KEY (id_credor)\n",
    "        REFERENCES usuario (id_usuario),\n",
    "    CONSTRAINT fk_devedor FOREIGN KEY (id_devedor)\n",
    "        REFERENCES usuario (id_usuario),\n",
    "    CONSTRAINT c_valor CHECK (valor_atual >= 0.0)\n",
    ");\n",
    "\n",
    "CREATE TABLE operacao (\n",
    "    id_operacao INT NOT NULL AUTO_INCREMENT,\n",
    "    id_emprestimo INT NOT NULL,\n",
    "    valor DECIMAL(30 , 2 ),\n",
    "    data_operacao DATETIME NOT NULL DEFAULT CURRENT_TIMESTAMP,\n",
    "    PRIMARY KEY (id_operacao),\n",
    "    CONSTRAINT fk_emprestimo FOREIGN KEY (id_emprestimo)\n",
    "        REFERENCES emprestimo (id_emprestimo)\n",
    ");\n",
    "\n",
    "CREATE TABLE movimentacao (\n",
    "    id_movimentacao INT NOT NULL AUTO_INCREMENT,\n",
    "    id_usuario INT NOT NULL,\n",
    "    valor DECIMAL(30 , 2 ),\n",
    "    data_operacao DATETIME NOT NULL DEFAULT CURRENT_TIMESTAMP,\n",
    "    PRIMARY KEY (id_movimentacao),\n",
    "    CONSTRAINT fk_usuario FOREIGN KEY (id_usuario)\n",
    "        REFERENCES usuario (id_usuario)\n",
    ");\n",
    "\"\"\"\n",
    "\n",
    "connection = mysql.connector.connect(\n",
    "    host=os.getenv(\"MD_DB_SERVER\"),\n",
    "    user=os.getenv(\"MD_DB_USERNAME\"),\n",
    "    password=os.getenv(\"MD_DB_PASSWORD\"),\n",
    ")\n",
    "\n",
    "with connection.cursor() as cursor:\n",
    "    try:\n",
    "        for _ in cursor.execute(script, multi=True):\n",
    "            pass\n",
    "        cursor.execute(\"COMMIT\")\n",
    "    except Exception as e:\n",
    "        print(e)\n",
    "        cursor.execute(\"ROLLBACK\")\n",
    "\n",
    "connection.close()"
   ]
  },
  {
   "cell_type": "code",
   "execution_count": 4,
   "metadata": {},
   "outputs": [
    {
     "ename": "DatabaseError",
     "evalue": "2003 (HY000): Can't connect to MySQL server on 'localhost:3306' (10061)",
     "output_type": "error",
     "traceback": [
      "\u001b[31m---------------------------------------------------------------------------\u001b[39m",
      "\u001b[31mMySQLInterfaceError\u001b[39m                       Traceback (most recent call last)",
      "\u001b[36mFile \u001b[39m\u001b[32mc:\\Users\\jpqv0\\VSCodeProjects\\Insper\\2025\\5-Semestre\\Megadados\\md-bcc\\venv\\Lib\\site-packages\\mysql\\connector\\connection_cext.py:323\u001b[39m, in \u001b[36mCMySQLConnection._open_connection\u001b[39m\u001b[34m(self)\u001b[39m\n\u001b[32m    322\u001b[39m \u001b[38;5;28;01mtry\u001b[39;00m:\n\u001b[32m--> \u001b[39m\u001b[32m323\u001b[39m     \u001b[38;5;28;43mself\u001b[39;49m\u001b[43m.\u001b[49m\u001b[43m_cmysql\u001b[49m\u001b[43m.\u001b[49m\u001b[43mconnect\u001b[49m\u001b[43m(\u001b[49m\u001b[43m*\u001b[49m\u001b[43m*\u001b[49m\u001b[43mcnx_kwargs\u001b[49m\u001b[43m)\u001b[49m\n\u001b[32m    324\u001b[39m     \u001b[38;5;28mself\u001b[39m._cmysql.converter_str_fallback = \u001b[38;5;28mself\u001b[39m._converter_str_fallback\n",
      "\u001b[31mMySQLInterfaceError\u001b[39m: Can't connect to MySQL server on 'localhost:3306' (10061)",
      "\nThe above exception was the direct cause of the following exception:\n",
      "\u001b[31mDatabaseError\u001b[39m                             Traceback (most recent call last)",
      "\u001b[36mCell\u001b[39m\u001b[36m \u001b[39m\u001b[32mIn[4]\u001b[39m\u001b[32m, line 24\u001b[39m\n\u001b[32m     15\u001b[39m     connection = mysql.connector.connect(\n\u001b[32m     16\u001b[39m         host=os.getenv(\u001b[33m\"\u001b[39m\u001b[33mMD_DB_SERVER\u001b[39m\u001b[33m\"\u001b[39m),\n\u001b[32m     17\u001b[39m         user=os.getenv(\u001b[33m\"\u001b[39m\u001b[33mMD_DB_USERNAME\u001b[39m\u001b[33m\"\u001b[39m),\n\u001b[32m     18\u001b[39m         password=os.getenv(\u001b[33m\"\u001b[39m\u001b[33mMD_DB_PASSWORD\u001b[39m\u001b[33m\"\u001b[39m),\n\u001b[32m     19\u001b[39m         database=database,\n\u001b[32m     20\u001b[39m     )\n\u001b[32m     21\u001b[39m     \u001b[38;5;28;01mreturn\u001b[39;00m connection, partial(run_db_query, connection)\n\u001b[32m---> \u001b[39m\u001b[32m24\u001b[39m connection, db = \u001b[43mget_connection_helper\u001b[49m\u001b[43m(\u001b[49m\u001b[33;43m\"\u001b[39;49m\u001b[33;43memprestimos\u001b[39;49m\u001b[33;43m\"\u001b[39;49m\u001b[43m)\u001b[49m\n",
      "\u001b[36mCell\u001b[39m\u001b[36m \u001b[39m\u001b[32mIn[4]\u001b[39m\u001b[32m, line 15\u001b[39m, in \u001b[36mget_connection_helper\u001b[39m\u001b[34m(database)\u001b[39m\n\u001b[32m     12\u001b[39m             \u001b[38;5;28;01melse\u001b[39;00m:\n\u001b[32m     13\u001b[39m                 \u001b[38;5;28mprint\u001b[39m(\u001b[33mf\u001b[39m\u001b[33m\"\u001b[39m\u001b[33mQuery \u001b[39m\u001b[38;5;132;01m{\u001b[39;00mi\u001b[38;5;132;01m}\u001b[39;00m\u001b[33m executada!\u001b[39m\u001b[33m\"\u001b[39m)\n\u001b[32m---> \u001b[39m\u001b[32m15\u001b[39m connection = \u001b[43mmysql\u001b[49m\u001b[43m.\u001b[49m\u001b[43mconnector\u001b[49m\u001b[43m.\u001b[49m\u001b[43mconnect\u001b[49m\u001b[43m(\u001b[49m\n\u001b[32m     16\u001b[39m \u001b[43m    \u001b[49m\u001b[43mhost\u001b[49m\u001b[43m=\u001b[49m\u001b[43mos\u001b[49m\u001b[43m.\u001b[49m\u001b[43mgetenv\u001b[49m\u001b[43m(\u001b[49m\u001b[33;43m\"\u001b[39;49m\u001b[33;43mMD_DB_SERVER\u001b[39;49m\u001b[33;43m\"\u001b[39;49m\u001b[43m)\u001b[49m\u001b[43m,\u001b[49m\n\u001b[32m     17\u001b[39m \u001b[43m    \u001b[49m\u001b[43muser\u001b[49m\u001b[43m=\u001b[49m\u001b[43mos\u001b[49m\u001b[43m.\u001b[49m\u001b[43mgetenv\u001b[49m\u001b[43m(\u001b[49m\u001b[33;43m\"\u001b[39;49m\u001b[33;43mMD_DB_USERNAME\u001b[39;49m\u001b[33;43m\"\u001b[39;49m\u001b[43m)\u001b[49m\u001b[43m,\u001b[49m\n\u001b[32m     18\u001b[39m \u001b[43m    \u001b[49m\u001b[43mpassword\u001b[49m\u001b[43m=\u001b[49m\u001b[43mos\u001b[49m\u001b[43m.\u001b[49m\u001b[43mgetenv\u001b[49m\u001b[43m(\u001b[49m\u001b[33;43m\"\u001b[39;49m\u001b[33;43mMD_DB_PASSWORD\u001b[39;49m\u001b[33;43m\"\u001b[39;49m\u001b[43m)\u001b[49m\u001b[43m,\u001b[49m\n\u001b[32m     19\u001b[39m \u001b[43m    \u001b[49m\u001b[43mdatabase\u001b[49m\u001b[43m=\u001b[49m\u001b[43mdatabase\u001b[49m\u001b[43m,\u001b[49m\n\u001b[32m     20\u001b[39m \u001b[43m\u001b[49m\u001b[43m)\u001b[49m\n\u001b[32m     21\u001b[39m \u001b[38;5;28;01mreturn\u001b[39;00m connection, partial(run_db_query, connection)\n",
      "\u001b[36mFile \u001b[39m\u001b[32mc:\\Users\\jpqv0\\VSCodeProjects\\Insper\\2025\\5-Semestre\\Megadados\\md-bcc\\venv\\Lib\\site-packages\\mysql\\connector\\pooling.py:322\u001b[39m, in \u001b[36mconnect\u001b[39m\u001b[34m(*args, **kwargs)\u001b[39m\n\u001b[32m    319\u001b[39m         \u001b[38;5;28;01mraise\u001b[39;00m \u001b[38;5;167;01mImportError\u001b[39;00m(ERROR_NO_CEXT)\n\u001b[32m    321\u001b[39m \u001b[38;5;28;01mif\u001b[39;00m CMySQLConnection \u001b[38;5;129;01mand\u001b[39;00m \u001b[38;5;129;01mnot\u001b[39;00m use_pure:\n\u001b[32m--> \u001b[39m\u001b[32m322\u001b[39m     \u001b[38;5;28;01mreturn\u001b[39;00m \u001b[43mCMySQLConnection\u001b[49m\u001b[43m(\u001b[49m\u001b[43m*\u001b[49m\u001b[43margs\u001b[49m\u001b[43m,\u001b[49m\u001b[43m \u001b[49m\u001b[43m*\u001b[49m\u001b[43m*\u001b[49m\u001b[43mkwargs\u001b[49m\u001b[43m)\u001b[49m\n\u001b[32m    323\u001b[39m \u001b[38;5;28;01mreturn\u001b[39;00m MySQLConnection(*args, **kwargs)\n",
      "\u001b[36mFile \u001b[39m\u001b[32mc:\\Users\\jpqv0\\VSCodeProjects\\Insper\\2025\\5-Semestre\\Megadados\\md-bcc\\venv\\Lib\\site-packages\\mysql\\connector\\connection_cext.py:140\u001b[39m, in \u001b[36mCMySQLConnection.__init__\u001b[39m\u001b[34m(self, **kwargs)\u001b[39m\n\u001b[32m    138\u001b[39m \u001b[38;5;28;01mif\u001b[39;00m kwargs:\n\u001b[32m    139\u001b[39m     \u001b[38;5;28;01mtry\u001b[39;00m:\n\u001b[32m--> \u001b[39m\u001b[32m140\u001b[39m         \u001b[38;5;28;43mself\u001b[39;49m\u001b[43m.\u001b[49m\u001b[43mconnect\u001b[49m\u001b[43m(\u001b[49m\u001b[43m*\u001b[49m\u001b[43m*\u001b[49m\u001b[43mkwargs\u001b[49m\u001b[43m)\u001b[49m\n\u001b[32m    141\u001b[39m     \u001b[38;5;28;01mexcept\u001b[39;00m \u001b[38;5;167;01mException\u001b[39;00m:\n\u001b[32m    142\u001b[39m         \u001b[38;5;28mself\u001b[39m.close()\n",
      "\u001b[36mFile \u001b[39m\u001b[32mc:\\Users\\jpqv0\\VSCodeProjects\\Insper\\2025\\5-Semestre\\Megadados\\md-bcc\\venv\\Lib\\site-packages\\mysql\\connector\\abstracts.py:1363\u001b[39m, in \u001b[36mMySQLConnectionAbstract.connect\u001b[39m\u001b[34m(self, **kwargs)\u001b[39m\n\u001b[32m   1360\u001b[39m     \u001b[38;5;28mself\u001b[39m.config(**kwargs)\n\u001b[32m   1362\u001b[39m \u001b[38;5;28mself\u001b[39m.disconnect()\n\u001b[32m-> \u001b[39m\u001b[32m1363\u001b[39m \u001b[38;5;28;43mself\u001b[39;49m\u001b[43m.\u001b[49m\u001b[43m_open_connection\u001b[49m\u001b[43m(\u001b[49m\u001b[43m)\u001b[49m\n\u001b[32m   1365\u001b[39m charset, collation = (\n\u001b[32m   1366\u001b[39m     kwargs.pop(\u001b[33m\"\u001b[39m\u001b[33mcharset\u001b[39m\u001b[33m\"\u001b[39m, \u001b[38;5;28;01mNone\u001b[39;00m),\n\u001b[32m   1367\u001b[39m     kwargs.pop(\u001b[33m\"\u001b[39m\u001b[33mcollation\u001b[39m\u001b[33m\"\u001b[39m, \u001b[38;5;28;01mNone\u001b[39;00m),\n\u001b[32m   1368\u001b[39m )\n\u001b[32m   1369\u001b[39m \u001b[38;5;28;01mif\u001b[39;00m charset \u001b[38;5;129;01mor\u001b[39;00m collation:\n",
      "\u001b[36mFile \u001b[39m\u001b[32mc:\\Users\\jpqv0\\VSCodeProjects\\Insper\\2025\\5-Semestre\\Megadados\\md-bcc\\venv\\Lib\\site-packages\\mysql\\connector\\connection_cext.py:328\u001b[39m, in \u001b[36mCMySQLConnection._open_connection\u001b[39m\u001b[34m(self)\u001b[39m\n\u001b[32m    326\u001b[39m         \u001b[38;5;28mself\u001b[39m.converter.str_fallback = \u001b[38;5;28mself\u001b[39m._converter_str_fallback\n\u001b[32m    327\u001b[39m \u001b[38;5;28;01mexcept\u001b[39;00m MySQLInterfaceError \u001b[38;5;28;01mas\u001b[39;00m err:\n\u001b[32m--> \u001b[39m\u001b[32m328\u001b[39m     \u001b[38;5;28;01mraise\u001b[39;00m get_mysql_exception(\n\u001b[32m    329\u001b[39m         msg=err.msg, errno=err.errno, sqlstate=err.sqlstate\n\u001b[32m    330\u001b[39m     ) \u001b[38;5;28;01mfrom\u001b[39;00m\u001b[38;5;250m \u001b[39m\u001b[34;01merr\u001b[39;00m\n\u001b[32m    332\u001b[39m \u001b[38;5;28mself\u001b[39m._do_handshake()\n",
      "\u001b[31mDatabaseError\u001b[39m: 2003 (HY000): Can't connect to MySQL server on 'localhost:3306' (10061)"
     ]
    }
   ],
   "source": [
    "def get_connection_helper(database):\n",
    "\n",
    "    def run_db_query(connection, query, args=None):\n",
    "        with connection.cursor() as cursor:\n",
    "            # print(\"Executando queries:\")\n",
    "            results = cursor.execute(query, args, multi=True)\n",
    "            for i, result in enumerate(results):\n",
    "                if result.with_rows:\n",
    "                    print(f\"Resultado query {i}:\")\n",
    "                    for line in result.fetchall():\n",
    "                        print(line)\n",
    "                else:\n",
    "                    print(f\"Query {i} executada!\")\n",
    "\n",
    "    connection = mysql.connector.connect(\n",
    "        host=os.getenv(\"MD_DB_SERVER\"),\n",
    "        user=os.getenv(\"MD_DB_USERNAME\"),\n",
    "        password=os.getenv(\"MD_DB_PASSWORD\"),\n",
    "        database=database,\n",
    "    )\n",
    "    return connection, partial(run_db_query, connection)\n",
    "\n",
    "\n",
    "connection, db = get_connection_helper(\"emprestimos\")"
   ]
  },
  {
   "cell_type": "markdown",
   "metadata": {},
   "source": [
    "## Stored procedures\n",
    "\n",
    "Existem algumas vantagens em procedimentos armazenados (stored procedures):\n",
    "\n",
    "- **Reuso de código**: como em qualquer outra linguagem de programação, podemos construir stored procedures para definir tarefas rotineiras e reutilizá-las em vários workflows.\n",
    "- **Segurança**: Ao invés de oferecer acesso direto à tabelas, podemos bloquear todos os acessos a tabelas e definir acesso à stored procedures! Assim, ao invés de permitir acesso à tabela *usuario*, podemos permitir acesso ao procedimento `saque()` ou `consulta_saldo()`\n",
    "- **Desempenho**: ao invés de mandar vários comandos SQL para a base de dados toda vez que quisermos realizar determinada tarefa, podemos simplesmente chamar um procedimento armazenado, pois todo o código já está na base de dados. Ademais, a base de dados não precisa compilar o procedimento toda vez que este é chamado, basta compilar na primeira execução e manter o código compilado em um cache.\n",
    "\n",
    "Existem também desvantagens:\n",
    "\n",
    "- **Debugging**: pode ser difícil debugar um procedimento armazenado\n",
    "- **Portabilidade**: a sintaxe de definição de stored procedures é raramente portável entre diferentes sistemas de gerenciamento de bancos de dados.\n",
    "- **Separação entre dados e lógica de negócios**: com stored procedures estamos migrando parte da lógica de negócios para o banco de dados. Alterações na lógica agora demandam modificações (e manutenção) em partes distintas da sua aplicação, uma receita para dor de cabeça!\n",
    "- **Aumento da carga de processamento no servidor**: servidores de banco de dados costumam ser otimizados para memória e largura de banda, não para processamento.\n",
    "\n",
    "Ou seja use procedimentos armazenados com cautela!\n",
    "\n",
    "### Interlúdio: o valor da experiência\n",
    "\n",
    "Como você já deve ter percebido à essa altura do curso, você tem um camilho longo pela frente, desde conhecer um conceito novo até dominar o uso deste conceito com sabedoria - isso chama-se ganhar experiência! Não subestime o valor de trabalhar \"nas trincheiras\" aplicando seus conhecimentos novos e aprendendo com a experiência dos veteranos. Além disso, continue se aperfeiçoando - faça cursos para conhecer melhor a tecnologia, invente projetos para tentar novas ideias, assista vídeos no YouTube sobre melhores práticas, busque projetos (e empregos) onde você possa se desenvolver.\n",
    "\n",
    "É impossível formar engenheiros experientes em um curso - mesmo que fossem dois cursos, não cobriríamos tudo que existe sobre banco de dados. Mas estou certo de que vocês adquiriram novas ferramentas neste módulo do curso, e estão capacitados a continuar progredindo em banco de dados.\n",
    "\n",
    "Nós, os professores do Insper, estamos fazendo o possível para transferir a vocês mais do que conhecimento - estamos buscando desenvolver competência também! E para isso só existe um caminho: a prática. Façam exercícios, coloquem esforço nos projetos, e venham preparados para a aula para que possamos ir além da mera leitura do material didático, ok?\n",
    "\n",
    "Voltamos agora à programação regular..."
   ]
  },
  {
   "cell_type": "markdown",
   "metadata": {},
   "source": [
    "### Construindo uma stored procedure\n",
    "\n",
    "Vamos começar com uma stored procedure para adicionar um usuário. Crie e execute o seguinte script no MySQL workbench:\n",
    "\n",
    "```SQL\n",
    "USE emprestimos;\n",
    "\n",
    "DROP PROCEDURE IF EXISTS adiciona_usuario;\n",
    "\n",
    "DELIMITER //\n",
    "CREATE PROCEDURE adiciona_usuario(IN novo_nome VARCHAR(80), IN novo_sobrenome VARCHAR(80))\n",
    "BEGIN\n",
    "    INSERT INTO usuario (nome, sobrenome)\n",
    "    VALUES (novo_nome, novo_sobrenome);\n",
    "END//\n",
    "DELIMITER ;\n",
    "```\n",
    "\n",
    "Note o uso destes comandos `DELIMITER`. Coisas de MySQL: ele não entende que os ponto-e-virgula internos ao procedimento não sinalizam o final do comando CREATE PROCEDURE... Este procedimento será necessário quando quiser criar as procedures no Workbench, mas não deverá ser utilizado quando quiser rodar direto do python (com mysql.connector podemos utilizar ponto e vírgula).\n",
    "\n",
    "Chamando pelo Python ficará assim:\n",
    "\n",
    "```SQL\n",
    "USE emprestimos;\n",
    "\n",
    "DROP PROCEDURE IF EXISTS adiciona_usuario;\n",
    "\n",
    "CREATE PROCEDURE adiciona_usuario(IN novo_nome VARCHAR(80), IN novo_sobrenome VARCHAR(80))\n",
    "BEGIN\n",
    "    INSERT INTO usuario (nome, sobrenome)\n",
    "    VALUES (novo_nome, novo_sobrenome);\n",
    "END;\n",
    "```\n",
    "\n",
    "Agora podemos usar nossa nova procedure para adicionar alguns usuários!"
   ]
  },
  {
   "cell_type": "code",
   "execution_count": null,
   "metadata": {},
   "outputs": [],
   "source": [
    "db(\"SELECT * FROM usuario\")"
   ]
  },
  {
   "cell_type": "code",
   "execution_count": null,
   "metadata": {},
   "outputs": [],
   "source": [
    "db(\"COMMIT\");"
   ]
  },
  {
   "cell_type": "code",
   "execution_count": null,
   "metadata": {
    "scrolled": true
   },
   "outputs": [],
   "source": [
    "db(\"START TRANSACTION;\")\n",
    "try:\n",
    "    db(\"CALL adiciona_usuario('Juca', 'Silva');\")\n",
    "    db(\"CALL adiciona_usuario('Mario', 'Ferreira');\")\n",
    "    db(\"CALL adiciona_usuario('Ana', 'Soares');\")\n",
    "    db(\"CALL adiciona_usuario('Antonio', 'Reis');\")\n",
    "    db(\"CALL adiciona_usuario('Paulo', 'Oliveira');\")\n",
    "    db(\"COMMIT;\")\n",
    "except Exception as e:\n",
    "    print(e)\n",
    "    db(\"ROLLBACK\");"
   ]
  },
  {
   "cell_type": "markdown",
   "metadata": {},
   "source": [
    "Vamos verificar se tudo funcionou bem:"
   ]
  },
  {
   "cell_type": "code",
   "execution_count": null,
   "metadata": {
    "scrolled": true
   },
   "outputs": [],
   "source": [
    "db(\"SELECT * FROM usuario\")"
   ]
  },
  {
   "cell_type": "markdown",
   "metadata": {},
   "source": [
    "### Stored functions\n",
    "\n",
    "Agora vamos criar uma função para consultar o saldo. Rode o script a seguir no MySQL Workbench:\n",
    "\n",
    "```SQL\n",
    "USE emprestimos;\n",
    "\n",
    "DROP FUNCTION IF EXISTS saldo;\n",
    "\n",
    "DELIMITER //\n",
    "CREATE FUNCTION saldo(id INT) RETURNS DECIMAL(30, 2) READS SQL DATA\n",
    "BEGIN\n",
    "    DECLARE saldo_procurado DECIMAL(30, 2);\n",
    "\n",
    "    SELECT \n",
    "        IFNULL(saldo, 0.0)\n",
    "    INTO saldo_procurado FROM\n",
    "        usuario\n",
    "    WHERE\n",
    "        id_usuario = id;\n",
    "\n",
    "    RETURN saldo_procurado;\n",
    "END//\n",
    "DELIMITER ;\n",
    "```\n",
    "\n",
    "Vamos testar esta função informando o id de usuário `1`:"
   ]
  },
  {
   "cell_type": "code",
   "execution_count": null,
   "metadata": {},
   "outputs": [],
   "source": [
    "db(\"SELECT saldo(1)\")"
   ]
  },
  {
   "cell_type": "markdown",
   "metadata": {},
   "source": [
    "### Exercícios para entrega\n",
    "\n",
    "Esta aula tem atividade para entrega, confira os prazos e exercícios"
   ]
  },
  {
   "cell_type": "code",
   "execution_count": 5,
   "metadata": {},
   "outputs": [
    {
     "data": {
      "text/markdown": [
       "|    | Atividade            | De                  | Até                 | Conta como ATV?   | % Nota Atraso   |\n",
       "|---:|:---------------------|:--------------------|:--------------------|:------------------|:----------------|\n",
       "|  0 | newborn              | 2025-08-11 00:00:00 | 2025-11-30 00:00:00 | Não               | 0%              |\n",
       "|  1 | select01             | 2025-08-14 00:00:00 | 2025-08-22 23:59:59 | Sim               | 25%             |\n",
       "|  2 | ddl                  | 2025-08-25 12:00:00 | 2025-08-31 23:59:59 | Sim               | 25%             |\n",
       "|  3 | dml                  | 2025-08-28 16:30:00 | 2025-09-04 23:59:59 | Sim               | 25%             |\n",
       "|  4 | agg_join             | 2025-09-01 14:00:00 | 2025-09-07 23:59:59 | Sim               | 25%             |\n",
       "|  5 | group_having         | 2025-09-04 16:30:00 | 2025-09-11 23:59:59 | Sim               | 25%             |\n",
       "|  6 | views                | 2025-09-08 14:15:00 | 2025-09-14 23:59:59 | Sim               | 25%             |\n",
       "|  7 | sql_review1          | 2025-09-11 14:15:00 | 2025-09-18 23:59:59 | Sim               | 25%             |\n",
       "|  8 | permissions          | 2025-09-18 14:15:00 | 2025-09-25 23:59:59 | Sim               | 25%             |\n",
       "|  9 | ai_md_23_1           | 2025-09-22 14:15:00 | 2025-09-30 23:59:59 | Sim               | 25%             |\n",
       "| 10 | ai_md_23_2           | 2025-09-22 14:15:00 | 2025-09-30 23:59:59 | Sim               | 25%             |\n",
       "| 11 | ai_md_25_2           | 2025-10-01 00:00:00 | 2025-10-01 12:10:00 | Não               | 0%              |\n",
       "| 12 | desafio_normalizacao | 2025-10-06 07:30:00 | 2025-11-12 23:59:59 | Não               | 25%             |\n",
       "| 13 | triggers             | 2025-10-20 14:00:00 | 2025-10-26 23:59:59 | Sim               | 25%             |"
      ],
      "text/plain": [
       "<IPython.core.display.Markdown object>"
      ]
     },
     "metadata": {},
     "output_type": "display_data"
    }
   ],
   "source": [
    "ia.tasks()"
   ]
  },
  {
   "cell_type": "code",
   "execution_count": 6,
   "metadata": {},
   "outputs": [
    {
     "data": {
      "text/markdown": [
       "|    | Atividade   | Exercício   |   Peso |   Nota |   Nota Sem Atraso |   Nota Com Atraso |\n",
       "|---:|:------------|:------------|-------:|-------:|------------------:|------------------:|\n",
       "|  0 | triggers    | ex01        |      1 |      0 |                 0 |                 0 |\n",
       "|  1 | triggers    | ex02        |      1 |      0 |                 0 |                 0 |\n",
       "|  2 | triggers    | ex04        |      1 |      0 |                 0 |                 0 |\n",
       "|  3 | triggers    | ex05        |      1 |      0 |                 0 |                 0 |\n",
       "|  4 | triggers    | ex06        |      1 |      0 |                 0 |                 0 |\n",
       "|  5 | triggers    | ex07        |      1 |      0 |                 0 |                 0 |\n",
       "|  6 | triggers    | ex08        |      1 |      0 |                 0 |                 0 |\n",
       "|  7 | triggers    | ex09        |      1 |      0 |                 0 |                 0 |"
      ],
      "text/plain": [
       "<IPython.core.display.Markdown object>"
      ]
     },
     "metadata": {},
     "output_type": "display_data"
    }
   ],
   "source": [
    "ia.grades(task=\"triggers\")"
   ]
  },
  {
   "cell_type": "code",
   "execution_count": 7,
   "metadata": {},
   "outputs": [
    {
     "data": {
      "text/markdown": [
       "|    | Tarefa   |   Nota | Conta como ATV?   |\n",
       "|---:|:---------|-------:|:------------------|\n",
       "|  0 | triggers |      0 | Sim               |"
      ],
      "text/plain": [
       "<IPython.core.display.Markdown object>"
      ]
     },
     "metadata": {},
     "output_type": "display_data"
    }
   ],
   "source": [
    "ia.grades(by=\"task\", task=\"triggers\")"
   ]
  },
  {
   "cell_type": "markdown",
   "metadata": {},
   "source": [
    "**<div id=\"perg_atv1\"></div>**\n",
    "### Exercícios\n",
    "\n",
    "<div class=\"alert alert-info\">\n",
    "    \n",
    "**OBS**: Alteramos a função `db()` para aceitar o envio de múltiplas queries na mesma string!\n",
    "\n",
    "</div>\n",
    "\n",
    "#### Exercício 1\n",
    "Faça um script SQL que cria uma stored procedure para cobrar uma taxa de manutenção de `D` dinheiros de cada conta, desde que a conta tenha saldo (não cobra de quem não tem saldo suficiente para descontar a taxa).\n",
    "\n",
    "**Dica**: use a função `IF()`: https://dev.mysql.com/doc/refman/8.0/en/flow-control-functions.html#function_if"
   ]
  },
  {
   "cell_type": "markdown",
   "metadata": {},
   "source": [
    "<div style=\"background-color: rgba(71, 85, 155, 0.2); padding: 10px; border-radius: 5px; border-left: 4px solid #475569; border: 1px solid rgba(71, 85, 105, 0.3);\">\n",
    "\n",
    "Faça a partir do código base:\n",
    "\n",
    "```SQL\n",
    "USE emprestimos;\n",
    "\n",
    "DROP PROCEDURE IF EXISTS cobra_taxa;\n",
    "\n",
    "CREATE PROCEDURE cobra_taxa(IN taxa DECIMAL(30, 2))\n",
    "BEGIN\n",
    "    -- Gambiarra para desligar o aviso de segurança que previne\n",
    "    -- UPDATES gerais (sem WHERE).\n",
    "    -- OBS: da pra fazer sem ela!\n",
    "    SET @OLD_SQL_SAFE_UPDATES = @@SQL_SAFE_UPDATES;\n",
    "    SET SQL_SAFE_UPDATES=0;\n",
    "\n",
    "    -- Insira seu código aqui.\n",
    "    \n",
    "    -- Desliga a gambiarra.\n",
    "    SET SQL_SAFE_UPDATES=@OLD_SQL_SAFE_UPDATES;\n",
    "END;\n",
    "```   \n",
    "\n",
    "</div>"
   ]
  },
  {
   "cell_type": "code",
   "execution_count": 16,
   "metadata": {},
   "outputs": [],
   "source": [
    "sql_ex01 = \"\"\"\n",
    "USE emprestimos;\n",
    "\n",
    "DROP PROCEDURE IF EXISTS cobra_taxa;\n",
    "\n",
    "CREATE PROCEDURE cobra_taxa(IN taxa DECIMAL(30, 2))\n",
    "BEGIN\n",
    "    -- Desabilita segurança temporariamente para permitir UPDATE geral\n",
    "    SET @OLD_SQL_SAFE_UPDATES = @@SQL_SAFE_UPDATES;\n",
    "    SET SQL_SAFE_UPDATES = 0;\n",
    "\n",
    "    -- Se a taxa for positiva, aplica a cobrança apenas a quem tem saldo suficiente\n",
    "    IF taxa > 0 THEN\n",
    "        -- Atualiza o saldo de quem tem saldo >= taxa\n",
    "        UPDATE usuario\n",
    "        SET saldo = saldo - taxa\n",
    "        WHERE saldo >= taxa;\n",
    "    END IF;\n",
    "\n",
    "    -- Restaura configuração original de segurança\n",
    "    SET SQL_SAFE_UPDATES = @OLD_SQL_SAFE_UPDATES;\n",
    "END;\n",
    "\"\"\"\n",
    "\n",
    "# db(sql_ex01)"
   ]
  },
  {
   "cell_type": "markdown",
   "metadata": {},
   "source": [
    "Escreva um código SQL para testar sua procedure.\n",
    "\n",
    "Pense em como testar sua procedure. Se não conseguir, <a href=\"\" title=\"1) Insira pelo menos três usuários, com saldo acima, abaixo e igual a taxa 2) Selecione (SELECT) os usuários 3) Chame a procedure para cobrar a taxa 4) Selecione os usuários e confira se o saldo foi atualizado.\">pare o mouse aqui para dicas!</a>\n",
    "\n",
    "**Resposta:**"
   ]
  },
  {
   "cell_type": "code",
   "execution_count": null,
   "metadata": {},
   "outputs": [],
   "source": [
    "db(\"-- Seu código AQUI!\")\n",
    "db(\"-- Chame a procedure AQUI!\")\n",
    "db(\"-- Seu código AQUI!\")"
   ]
  },
  {
   "cell_type": "code",
   "execution_count": 17,
   "metadata": {},
   "outputs": [
    {
     "data": {
      "application/vnd.jupyter.widget-view+json": {
       "model_id": "12b51b3becaf491997bbc47b75aae6f3",
       "version_major": 2,
       "version_minor": 0
      },
      "text/plain": [
       "interactive(children=(Button(description='Enviar ex01', style=ButtonStyle()), Output()), _dom_classes=('widget…"
      ]
     },
     "metadata": {},
     "output_type": "display_data"
    }
   ],
   "source": [
    "ia.sender(answer=\"sql_ex01\", task=\"triggers\", question=\"ex01\", answer_type=\"pyvar\")"
   ]
  },
  {
   "cell_type": "markdown",
   "metadata": {},
   "source": [
    "<a href=\"#gab_atv1\">Click para ver a resposta</a>"
   ]
  },
  {
   "cell_type": "markdown",
   "metadata": {},
   "source": [
    "**<div id=\"perg_atv2\"></div>**\n",
    "#### Exercício 2\n",
    "\n",
    "Faça uma função que retorna a soma de todos os saldos da base de dados."
   ]
  },
  {
   "cell_type": "markdown",
   "metadata": {},
   "source": [
    "<div style=\"background-color: rgba(71, 85, 155, 0.2); padding: 10px; border-radius: 5px; border-left: 4px solid #475569; border: 1px solid rgba(71, 85, 105, 0.3);\">\n",
    "\n",
    "```SQL\n",
    "USE emprestimos;\n",
    "\n",
    "DROP FUNCTION IF EXISTS total_saldos;\n",
    "\n",
    "CREATE FUNCTION total_saldos() RETURNS DECIMAL(30, 2) READS SQL DATA\n",
    "BEGIN\n",
    "\n",
    "    -- Insira seu SQL aqui.\n",
    "\n",
    "END;\n",
    "```\n",
    "\n",
    "</div>"
   ]
  },
  {
   "cell_type": "code",
   "execution_count": 18,
   "metadata": {},
   "outputs": [],
   "source": [
    "sql_ex02 = \"\"\"\n",
    "USE emprestimos;\n",
    "\n",
    "DROP FUNCTION IF EXISTS total_saldos;\n",
    "\n",
    "CREATE FUNCTION total_saldos() \n",
    "RETURNS DECIMAL(30, 2) \n",
    "READS SQL DATA\n",
    "BEGIN\n",
    "    DECLARE soma DECIMAL(30, 2);\n",
    "\n",
    "    SELECT SUM(saldo) INTO soma\n",
    "    FROM usuario;\n",
    "\n",
    "    RETURN soma;\n",
    "END;\n",
    "\"\"\"\n",
    "\n",
    "# db(sql_ex02)"
   ]
  },
  {
   "cell_type": "markdown",
   "metadata": {},
   "source": [
    "Escreva um código SQL para testar sua função. Para um teste mais efetivo, garanta que existem usuários com saldos variados na base de dados."
   ]
  },
  {
   "cell_type": "markdown",
   "metadata": {},
   "source": [
    "**Resposta:**"
   ]
  },
  {
   "cell_type": "code",
   "execution_count": null,
   "metadata": {},
   "outputs": [],
   "source": [
    "db(\"-- Chame a function AQUI!\")"
   ]
  },
  {
   "cell_type": "code",
   "execution_count": 19,
   "metadata": {},
   "outputs": [
    {
     "data": {
      "application/vnd.jupyter.widget-view+json": {
       "model_id": "36d38187837742d4ab27e77e71bf81d5",
       "version_major": 2,
       "version_minor": 0
      },
      "text/plain": [
       "interactive(children=(Button(description='Enviar ex02', style=ButtonStyle()), Output()), _dom_classes=('widget…"
      ]
     },
     "metadata": {},
     "output_type": "display_data"
    }
   ],
   "source": [
    "ia.sender(answer=\"sql_ex02\", task=\"triggers\", question=\"ex02\", answer_type=\"pyvar\")"
   ]
  },
  {
   "cell_type": "markdown",
   "metadata": {},
   "source": [
    "<a href=\"#gab_atv2\">Click para ver a resposta</a>"
   ]
  },
  {
   "cell_type": "markdown",
   "metadata": {},
   "source": [
    "## Triggers\n",
    "\n",
    "*Triggers*, ou gatilhos, são procedimentos armazenados que são executados automaticamente quando uma operação é realizada. Você pode escolher se o trigger ocorre antes ou depois da ação.\n",
    "\n",
    "Vamos fazer um gatilho para atualizar automaticamente o saldo do usuário quando uma nova movimentação é inserida na tabela `movimentacao`. Vamos também criar uma *constraint* para impedir que um saldo negativo exista na nossa base de dados.\n",
    "\n",
    "Bom, rode o script SQL a seguir no MySQL Workbench:\n",
    "\n",
    "```SQL\n",
    "USE emprestimos;\n",
    "\n",
    "DROP TRIGGER IF EXISTS trig_movimentacao;\n",
    "\n",
    "DELIMITER //\n",
    "CREATE TRIGGER trig_movimentacao \n",
    "BEFORE INSERT ON movimentacao\n",
    "FOR EACH ROW\n",
    "BEGIN\n",
    "    UPDATE usuario \n",
    "        SET saldo = saldo + NEW.valor \n",
    "        WHERE id_usuario = NEW.id_usuario;\n",
    "END//\n",
    "\n",
    "DELIMITER ;\n",
    "```\n",
    "\n",
    "*Interlúdio*: e quanto ao constraint `CHECK`? No MySQL 5.7 o `CHECK` não funcionava, apesar de previsto no padrão SQL. Na versão 8.0 isso foi corrigido.\n",
    "\n",
    "Na documentação do MySQL 5.7 (https://dev.mysql.com/doc/refman/5.7/en/create-table.html) temos o seguinte:\n",
    "\n",
    "    The `CHECK` clause is parsed but ignored by all storage engines. See Section 1.8.2.3, “Foreign Key Differences”.\n",
    "\n",
    "A título de curiosidade: o remédio era criar um trigger para evitar a atualização com valores errados. Veja a gambiarra em ação no código a seguir.\n",
    "\n",
    "```SQL\n",
    "USE emprestimos;\n",
    "\n",
    "DROP TRIGGER IF EXISTS trig_saldo_insuficiente;\n",
    "\n",
    "DELIMITER //\n",
    "CREATE TRIGGER trig_saldo_insuficiente \n",
    "BEFORE UPDATE ON usuario\n",
    "FOR EACH ROW\n",
    "BEGIN\n",
    "    -- https://stackoverflow.com/questions/2115497/check-constraint-in-mysql-is-not-working\n",
    "    IF NEW.saldo < 0.0 THEN\n",
    "        SIGNAL SQLSTATE '12345'\n",
    "            SET MESSAGE_TEXT = 'Saldo insuficiente.';\n",
    "    END IF;\n",
    "END//\n",
    "DELIMITER ;\n",
    "```\n",
    "\n",
    "Já na versão atual do MySQL o check de saldo pode ser implementado normalmente com o constraint `CHECK`\n",
    "\n",
    "```SQL\n",
    "USE emprestimos;\n",
    "ALTER TABLE usuario ADD CONSTRAINT chk_saldo CHECK (saldo >= 0.0);\n",
    "ALTER TABLE emprestimo ADD CONSTRAINT chk_emprestimo CHECK (valor_atual >= 0.0);\n",
    "```\n",
    "\n",
    "Vamos testar esse trigger na nossa tabela:"
   ]
  },
  {
   "cell_type": "code",
   "execution_count": null,
   "metadata": {},
   "outputs": [],
   "source": [
    "def movimentacao(id_usuario, valor):\n",
    "    db(\n",
    "        \"INSERT INTO movimentacao (id_usuario, valor) VALUES (%s, %s)\",\n",
    "        (id_usuario, valor),\n",
    "    )\n",
    "    db(\"SELECT * FROM usuario WHERE id_usuario=%s\", (id_usuario,))"
   ]
  },
  {
   "cell_type": "code",
   "execution_count": null,
   "metadata": {},
   "outputs": [],
   "source": [
    "db(\"START TRANSACTION\")\n",
    "movimentacao(1, 1000)"
   ]
  },
  {
   "cell_type": "code",
   "execution_count": null,
   "metadata": {},
   "outputs": [],
   "source": [
    "db('SELECT * FROM movimentacao')"
   ]
  },
  {
   "cell_type": "code",
   "execution_count": null,
   "metadata": {},
   "outputs": [],
   "source": [
    "db('SELECT * FROM usuario')"
   ]
  },
  {
   "cell_type": "markdown",
   "metadata": {},
   "source": [
    "Parece ter funcionado... mas antes de executar o `COMMIT`, vamos testar o que acontece quando o saldo ficaria negativo:"
   ]
  },
  {
   "cell_type": "code",
   "execution_count": null,
   "metadata": {
    "scrolled": true
   },
   "outputs": [],
   "source": [
    "movimentacao(1, -20000)"
   ]
  },
  {
   "cell_type": "markdown",
   "metadata": {},
   "source": [
    "Opa, o constraint impediu o saque inválido! Excelente! Vamos reverter as ultimas mudanças antes de prosseguir:"
   ]
  },
  {
   "cell_type": "code",
   "execution_count": null,
   "metadata": {},
   "outputs": [],
   "source": [
    "db(\"ROLLBACK\")"
   ]
  },
  {
   "cell_type": "markdown",
   "metadata": {},
   "source": [
    "### Exercício 3\n",
    "\n",
    "Realize as seguintes movimentações (com COMMIT se tudo funcionou dessa vez, e ROLLBACK se falhar):\n",
    "\n",
    "| id_usuario | valor |\n",
    "|--|--|\n",
    "| 1 | +10000 |\n",
    "| 2 | +4000 |\n",
    "| 3 | +15000 |"
   ]
  },
  {
   "cell_type": "code",
   "execution_count": null,
   "metadata": {},
   "outputs": [],
   "source": [
    "# Seu código Python e SQL AQUI!"
   ]
  },
  {
   "cell_type": "markdown",
   "metadata": {},
   "source": [
    "**Conferir resposta**:"
   ]
  },
  {
   "cell_type": "code",
   "execution_count": null,
   "metadata": {},
   "outputs": [],
   "source": [
    "db(\"SELECT * FROM movimentacao\")"
   ]
  },
  {
   "cell_type": "code",
   "execution_count": null,
   "metadata": {},
   "outputs": [],
   "source": [
    "db(\"SELECT * FROM usuario\")"
   ]
  },
  {
   "cell_type": "markdown",
   "metadata": {},
   "source": [
    "### Exercício 4\n",
    "\n",
    "Crie um trigger chamada `trig_transferencias_emprestimo` para realizar operações de transferências monetárias no contexto de um empréstimo.\n",
    "\n",
    "Quando o usuário realiza um pagamento ou saque da linha de crédito (a linha de crédito é o empréstimo), é inserida uma `operacao`, o que deve acionar a trigger deste exercício.\n",
    "\n",
    "A trigger deve:\n",
    "\n",
    "- Atualizar o valor atual do empréstimo\n",
    "- Inserir as movimentações, conforme valor da operação\n",
    "\n",
    "**Obs**: Considere que já existe a trigger que atualiza o saldo do usuário, após inserções de `movimentacao`."
   ]
  },
  {
   "cell_type": "code",
   "execution_count": 25,
   "metadata": {},
   "outputs": [],
   "source": [
    "sql_ex04 = \"\"\"\n",
    "USE emprestimos;\n",
    "\n",
    "DROP TRIGGER IF EXISTS trig_transferencias_emprestimo;\n",
    "\n",
    "CREATE TRIGGER trig_transferencias_emprestimo\n",
    "AFTER INSERT ON operacao\n",
    "FOR EACH ROW\n",
    "BEGIN\n",
    "    DECLARE v DECIMAL(30,2);\n",
    "    SET v = IFNULL(NEW.valor, 0.0);\n",
    "\n",
    "    -- Atualiza o valor atual do empréstimo:\n",
    "    --  v > 0  => saque (aumenta a dívida)\n",
    "    --  v < 0  => pagamento (reduz a dívida)\n",
    "    UPDATE emprestimo\n",
    "       SET valor_atual = valor_atual + v,\n",
    "           data_modificação = CURRENT_TIMESTAMP\n",
    "     WHERE id_emprestimo = NEW.id_emprestimo;\n",
    "\n",
    "    -- 1) Primeiro o CREDOR (esperado pelo teste): recebe em pagamento, cede no saque\n",
    "    INSERT INTO movimentacao (id_usuario, valor)\n",
    "    SELECT e.id_credor, -v\n",
    "      FROM emprestimo e\n",
    "     WHERE e.id_emprestimo = NEW.id_emprestimo;\n",
    "\n",
    "    -- 2) Depois o DEVEDOR: recebe no saque, paga no pagamento\n",
    "    INSERT INTO movimentacao (id_usuario, valor)\n",
    "    SELECT e.id_devedor, v\n",
    "      FROM emprestimo e\n",
    "     WHERE e.id_emprestimo = NEW.id_emprestimo;\n",
    "END;\n",
    "\"\"\"\n",
    "\n",
    "# db(sql_ex04)"
   ]
  },
  {
   "cell_type": "code",
   "execution_count": 26,
   "metadata": {},
   "outputs": [
    {
     "data": {
      "application/vnd.jupyter.widget-view+json": {
       "model_id": "872cbc010ca34e23984d017404e1e8ae",
       "version_major": 2,
       "version_minor": 0
      },
      "text/plain": [
       "interactive(children=(Button(description='Enviar ex04', style=ButtonStyle()), Output()), _dom_classes=('widget…"
      ]
     },
     "metadata": {},
     "output_type": "display_data"
    }
   ],
   "source": [
    "ia.sender(answer=\"sql_ex04\", task=\"triggers\", question=\"ex04\", answer_type=\"pyvar\")"
   ]
  },
  {
   "cell_type": "markdown",
   "metadata": {},
   "source": [
    "**Conferir resposta**:"
   ]
  },
  {
   "cell_type": "code",
   "execution_count": null,
   "metadata": {},
   "outputs": [],
   "source": [
    "db(\"SELECT * FROM usuario\")"
   ]
  },
  {
   "cell_type": "code",
   "execution_count": null,
   "metadata": {},
   "outputs": [],
   "source": [
    "db(\"INSERT INTO emprestimo (id_credor, id_devedor) VALUES (2, 3)\")"
   ]
  },
  {
   "cell_type": "code",
   "execution_count": null,
   "metadata": {},
   "outputs": [],
   "source": [
    "db(\"SELECT * FROM emprestimo\")"
   ]
  },
  {
   "cell_type": "code",
   "execution_count": null,
   "metadata": {},
   "outputs": [],
   "source": [
    "db(\"SELECT * FROM operacao\")"
   ]
  },
  {
   "cell_type": "code",
   "execution_count": null,
   "metadata": {},
   "outputs": [],
   "source": [
    "db(\"INSERT INTO operacao (id_emprestimo, valor) VALUES (1, 2000)\")"
   ]
  },
  {
   "cell_type": "code",
   "execution_count": null,
   "metadata": {},
   "outputs": [],
   "source": [
    "db(\"SELECT * FROM operacao\")"
   ]
  },
  {
   "cell_type": "code",
   "execution_count": null,
   "metadata": {},
   "outputs": [],
   "source": [
    "db(\"SELECT * FROM emprestimo\")"
   ]
  },
  {
   "cell_type": "code",
   "execution_count": null,
   "metadata": {},
   "outputs": [],
   "source": [
    "db(\"SELECT * FROM usuario\")"
   ]
  },
  {
   "cell_type": "code",
   "execution_count": null,
   "metadata": {},
   "outputs": [],
   "source": [
    "db(\"SELECT * FROM movimentacao\")"
   ]
  },
  {
   "cell_type": "markdown",
   "metadata": {},
   "source": [
    "## Relembrando: Views\n",
    "\n",
    "*Views* são como tabelas *'lógicas'*, que são criadas através da aplicação de um comando `SELECT`. É como um `SELECT` pré-armazenado.\n",
    "\n",
    "Vamos criar uma *view* para listar os nomes e sobrenomes de usuários, sem revelar seus saldos de conta:\n",
    "\n",
    "```SQL\n",
    "USE emprestimos;\n",
    "\n",
    "CREATE VIEW nomes AS \n",
    "\tSELECT DISTINCT nome, sobrenome FROM usuario;\n",
    "```\n",
    "\n",
    "Agora podemos usar esta view em consultas:"
   ]
  },
  {
   "cell_type": "code",
   "execution_count": null,
   "metadata": {},
   "outputs": [],
   "source": [
    "db(\"SELECT * FROM nomes;\")"
   ]
  },
  {
   "cell_type": "markdown",
   "metadata": {},
   "source": [
    "Porque usar views? Assim como no caso de stored procedures, podemos configurar permissões de acesso diferentes para esta view. Suponha que um vendedor deva ter acesso aos nomes dos clientes, mas não aos seus saldos (por razões de confidencialidade). Podemos conceder ao vendedor acesso apenas à essa view. Poderíamos ter resolvido o problema também com uma stored procedure: em SQL as coisas costumam ter várias soluções possíveis..."
   ]
  },
  {
   "cell_type": "markdown",
   "metadata": {},
   "source": [
    "### Exercício 5\n",
    "\n",
    "Crie uma view chamada `credor` para mostrar, para cada usuário, a soma dos valores de emprestimo dos quais este cliente é credor. Se o cliente não tiver empréstimo associado como credor, o valor deve ser zero.\n",
    "\n",
    "As colunas retornadas devem se chamar `id_usuario`, `nome`, `sobrenome` e `total`, onde `total` representa a soma dos valores de empréstimo dos quais o cliente é credor.\n",
    "\n",
    "Ordene pelo `total` (decrescente), `nome` (crescente) e `sobrenome` (crescente)."
   ]
  },
  {
   "cell_type": "code",
   "execution_count": 28,
   "metadata": {},
   "outputs": [],
   "source": [
    "sql_ex05 = \"\"\"\n",
    "USE emprestimos;\n",
    "\n",
    "DROP VIEW IF EXISTS credor;\n",
    "\n",
    "CREATE VIEW credor AS\n",
    "SELECT \n",
    "    u.id_usuario,\n",
    "    u.nome,\n",
    "    u.sobrenome,\n",
    "    IFNULL(SUM(e.valor_atual), 0) AS total\n",
    "FROM usuario u\n",
    "LEFT JOIN emprestimo e \n",
    "       ON u.id_usuario = e.id_credor\n",
    "GROUP BY \n",
    "    u.id_usuario, \n",
    "    u.nome, \n",
    "    u.sobrenome\n",
    "ORDER BY \n",
    "    total DESC,\n",
    "    u.nome ASC,\n",
    "    u.sobrenome ASC;\n",
    "\n",
    "\"\"\"\n",
    "\n",
    "# db(sql_ex05)"
   ]
  },
  {
   "cell_type": "code",
   "execution_count": 29,
   "metadata": {},
   "outputs": [
    {
     "data": {
      "application/vnd.jupyter.widget-view+json": {
       "model_id": "84536a36f91f4fd885c7df9724095376",
       "version_major": 2,
       "version_minor": 0
      },
      "text/plain": [
       "interactive(children=(Button(description='Enviar ex05', style=ButtonStyle()), Output()), _dom_classes=('widget…"
      ]
     },
     "metadata": {},
     "output_type": "display_data"
    }
   ],
   "source": [
    "ia.sender(answer=\"sql_ex05\", task=\"triggers\", question=\"ex05\", answer_type=\"pyvar\")"
   ]
  },
  {
   "cell_type": "markdown",
   "metadata": {},
   "source": [
    "### Exercício 6\n",
    "\n",
    "Repita o processo para a posição de devedor. A view deve se chamar `devedor`.\n",
    "\n",
    "Considere os mesmos nomes de colunas e critérios de ordenação."
   ]
  },
  {
   "cell_type": "code",
   "execution_count": 30,
   "metadata": {},
   "outputs": [],
   "source": [
    "sql_ex06 = \"\"\"\n",
    "USE emprestimos;\n",
    "\n",
    "DROP VIEW IF EXISTS devedor;\n",
    "\n",
    "CREATE VIEW devedor AS\n",
    "SELECT \n",
    "    u.id_usuario,\n",
    "    u.nome,\n",
    "    u.sobrenome,\n",
    "    IFNULL(SUM(e.valor_atual), 0) AS total\n",
    "FROM usuario u\n",
    "LEFT JOIN emprestimo e \n",
    "       ON u.id_usuario = e.id_devedor\n",
    "GROUP BY \n",
    "    u.id_usuario, \n",
    "    u.nome, \n",
    "    u.sobrenome\n",
    "ORDER BY \n",
    "    total DESC,\n",
    "    u.nome ASC,\n",
    "    u.sobrenome ASC;\n",
    "\n",
    "\"\"\"\n",
    "\n",
    "# db(sql_ex06)"
   ]
  },
  {
   "cell_type": "code",
   "execution_count": 31,
   "metadata": {},
   "outputs": [
    {
     "data": {
      "application/vnd.jupyter.widget-view+json": {
       "model_id": "46c9ae291b044720ae4b81c1dc8a6cf2",
       "version_major": 2,
       "version_minor": 0
      },
      "text/plain": [
       "interactive(children=(Button(description='Enviar ex06', style=ButtonStyle()), Output()), _dom_classes=('widget…"
      ]
     },
     "metadata": {},
     "output_type": "display_data"
    }
   ],
   "source": [
    "ia.sender(answer=\"sql_ex06\", task=\"triggers\", question=\"ex06\", answer_type=\"pyvar\")"
   ]
  },
  {
   "cell_type": "markdown",
   "metadata": {},
   "source": [
    "### Exercício 7\n",
    "\n",
    "Crie uma view `posicao_liquida` que lista o **valor líquido** de cada usuário, que é a soma dos valores como credor mais o saldo, subtraido da soma dos valores como devedor.\n",
    "\n",
    "As colunas retornadas devem se chamar `id_usuario`, `nome`, `sobrenome` e `total_liquido`, onde `total_liquido` representa o **valor líquido**.\n",
    "\n",
    "Ordene por `total_liquido` (decrescente), nome (crescente) e sobrenome (decrescente)."
   ]
  },
  {
   "cell_type": "code",
   "execution_count": 33,
   "metadata": {},
   "outputs": [],
   "source": [
    "sql_ex07 = \"\"\"\n",
    "USE emprestimos;\n",
    "\n",
    "DROP VIEW IF EXISTS posicao_liquida;\n",
    "\n",
    "CREATE VIEW posicao_liquida AS\n",
    "SELECT\n",
    "    u.id_usuario,\n",
    "    u.nome,\n",
    "    u.sobrenome,\n",
    "    ROUND(\n",
    "        u.saldo \n",
    "        + IFNULL(c.total, 0)\n",
    "        - IFNULL(d.total, 0),\n",
    "        2\n",
    "    ) AS total_liquido\n",
    "FROM usuario u\n",
    "LEFT JOIN credor c ON u.id_usuario = c.id_usuario\n",
    "LEFT JOIN devedor d ON u.id_usuario = d.id_usuario\n",
    "ORDER BY \n",
    "    total_liquido DESC,\n",
    "    u.nome ASC,\n",
    "    u.sobrenome DESC;\n",
    "\n",
    "\"\"\"\n",
    "\n",
    "# db(sql_ex07)"
   ]
  },
  {
   "cell_type": "code",
   "execution_count": 34,
   "metadata": {},
   "outputs": [
    {
     "data": {
      "application/vnd.jupyter.widget-view+json": {
       "model_id": "c893e18304684d46be49845837009e80",
       "version_major": 2,
       "version_minor": 0
      },
      "text/plain": [
       "interactive(children=(Button(description='Enviar ex07', style=ButtonStyle()), Output()), _dom_classes=('widget…"
      ]
     },
     "metadata": {},
     "output_type": "display_data"
    }
   ],
   "source": [
    "ia.sender(answer=\"sql_ex07\", task=\"triggers\", question=\"ex07\", answer_type=\"pyvar\")"
   ]
  },
  {
   "cell_type": "markdown",
   "metadata": {},
   "source": [
    "### Exercício 8\n",
    "\n",
    "Crie uma função para calcular o preço com desconto.\n",
    "\n",
    "A função se chama `aplica_desconto` e recebe, nesta ordem, o `preco DECIMAL(10,2)` e o `percentual DECIMAL(10,2)` de desconto (intervalo `[0,100]`).\n",
    "\n",
    "**Dicas**:\n",
    "- procure por *\"MySQL functions DETERMINISTIC, NO SQL, READS SQL DATA\"*.\n",
    "- você pode criá-la em qualquer base de dados (não tem relação com a base `emprestimos`)."
   ]
  },
  {
   "cell_type": "code",
   "execution_count": 35,
   "metadata": {},
   "outputs": [],
   "source": [
    "sql_ex08 = \"\"\"\n",
    "DROP FUNCTION IF EXISTS aplica_desconto;\n",
    "\n",
    "CREATE FUNCTION aplica_desconto(\n",
    "    preco DECIMAL(10,2),\n",
    "    percentual DECIMAL(10,2)\n",
    ")\n",
    "RETURNS DECIMAL(10,2)\n",
    "DETERMINISTIC\n",
    "NO SQL\n",
    "BEGIN\n",
    "    -- Garante que o percentual esteja dentro do intervalo [0, 100]\n",
    "    IF percentual < 0 THEN\n",
    "        SET percentual = 0;\n",
    "    ELSEIF percentual > 100 THEN\n",
    "        SET percentual = 100;\n",
    "    END IF;\n",
    "\n",
    "    RETURN ROUND(preco * (1 - (percentual / 100)), 2);\n",
    "END;\n",
    "\"\"\"\n",
    "\n",
    "# db(sql_ex08)"
   ]
  },
  {
   "cell_type": "code",
   "execution_count": 36,
   "metadata": {},
   "outputs": [
    {
     "data": {
      "application/vnd.jupyter.widget-view+json": {
       "model_id": "293a57e9066c4942925cb0a29b271f03",
       "version_major": 2,
       "version_minor": 0
      },
      "text/plain": [
       "interactive(children=(Button(description='Enviar ex08', style=ButtonStyle()), Output()), _dom_classes=('widget…"
      ]
     },
     "metadata": {},
     "output_type": "display_data"
    }
   ],
   "source": [
    "ia.sender(answer=\"sql_ex08\", task=\"triggers\", question=\"ex08\", answer_type=\"pyvar\")"
   ]
  },
  {
   "cell_type": "markdown",
   "metadata": {},
   "source": [
    "### Exercício 9\n",
    "\n",
    "Considere uma base chamada de **clientes** e **solicitações** chamada `solicita`:\n",
    "\n",
    "<img src=\"img/solicita.png\">\n",
    "\n",
    "```mysql\n",
    "DROP SCHEMA IF EXISTS `solicita` ;\n",
    "\n",
    "CREATE SCHEMA IF NOT EXISTS `solicita` ;\n",
    "USE `solicita` ;\n",
    "\n",
    "DROP TABLE IF EXISTS `solicita`.`cliente` ;\n",
    "\n",
    "CREATE TABLE IF NOT EXISTS `solicita`.`cliente` (\n",
    "  `id_cliente` INT NOT NULL,\n",
    "  `nome` VARCHAR(100) NOT NULL,\n",
    "  `sobrenome` VARCHAR(150) NOT NULL,\n",
    "  `cpf` CHAR(14) NULL,\n",
    "  `ultimo_acesso` DATE NULL,\n",
    "  PRIMARY KEY (`id_cliente`),\n",
    "  UNIQUE INDEX `cpf_UNIQUE` (`cpf` ASC) VISIBLE)\n",
    "ENGINE = InnoDB;\n",
    "\n",
    "\n",
    "DROP TABLE IF EXISTS `solicita`.`solicitacao` ;\n",
    "\n",
    "CREATE TABLE IF NOT EXISTS `solicita`.`solicitacao` (\n",
    "  `id_solicitacao` INT NOT NULL,\n",
    "  `id_cliente` INT NOT NULL,\n",
    "  `mensagem` TEXT NOT NULL,\n",
    "  `data` DATE NULL,\n",
    "  PRIMARY KEY (`id_solicitacao`),\n",
    "  INDEX `fk_venda_cliente_idx` (`id_cliente` ASC) VISIBLE,\n",
    "  CONSTRAINT `fk_venda_cliente`\n",
    "    FOREIGN KEY (`id_cliente`)\n",
    "    REFERENCES `solicita`.`cliente` (`id_cliente`)\n",
    "    ON DELETE NO ACTION\n",
    "    ON UPDATE NO ACTION)\n",
    "ENGINE = InnoDB;\n",
    "```\n",
    "\n",
    "Crie uma **procedure** que deleta **todos os dados** dos clientes cujo último acesso foi há mais que 180 dias.\n",
    "\n",
    "A procedure deve se chamar `remove_clientes_inativos`.\n",
    "\n",
    "**Dicas**:\n",
    "- Como critério de último acesso, considere a coluna `ultimo_acesso` na tabela de `cliente`.\n",
    "- Utilize os scripts SQL disponíveis na pasta de aulas para inserir clientes e solicitações na base e efetuar os testes!\n",
    "- Altere as datas, pois os 180 dias são em relação a data atual."
   ]
  },
  {
   "cell_type": "code",
   "execution_count": 37,
   "metadata": {},
   "outputs": [],
   "source": [
    "sql_ex09 = \"\"\"\n",
    "USE solicita;\n",
    "\n",
    "DROP PROCEDURE IF EXISTS remove_clientes_inativos;\n",
    "\n",
    "CREATE PROCEDURE remove_clientes_inativos()\n",
    "BEGIN\n",
    "    DECLARE limite DATE;\n",
    "    SET limite = CURDATE() - INTERVAL 180 DAY;\n",
    "\n",
    "    -- 1) Apaga as solicitações dos clientes inativos\n",
    "    DELETE s\n",
    "      FROM solicitacao s\n",
    "      JOIN cliente c ON c.id_cliente = s.id_cliente\n",
    "     WHERE c.ultimo_acesso IS NULL\n",
    "        OR c.ultimo_acesso < limite;\n",
    "\n",
    "    -- 2) Apaga os clientes inativos\n",
    "    DELETE FROM cliente\n",
    "     WHERE ultimo_acesso IS NULL\n",
    "        OR ultimo_acesso < limite;\n",
    "END;\n",
    "\n",
    "\"\"\"\n",
    "\n",
    "# db(sql_ex09)"
   ]
  },
  {
   "cell_type": "code",
   "execution_count": 38,
   "metadata": {
    "scrolled": true
   },
   "outputs": [
    {
     "data": {
      "application/vnd.jupyter.widget-view+json": {
       "model_id": "115695ee7d1d427fa7a424c37a1f0486",
       "version_major": 2,
       "version_minor": 0
      },
      "text/plain": [
       "interactive(children=(Button(description='Enviar ex09', style=ButtonStyle()), Output()), _dom_classes=('widget…"
      ]
     },
     "metadata": {},
     "output_type": "display_data"
    }
   ],
   "source": [
    "ia.sender(answer=\"sql_ex09\", task=\"triggers\", question=\"ex09\", answer_type=\"pyvar\")"
   ]
  },
  {
   "cell_type": "markdown",
   "metadata": {},
   "source": [
    "### Exercício 10\n",
    "\n",
    "Este exercício não tem correção automática e sua resolução é opcional.\n",
    "\n",
    "Considere uma versão base de **clientes** e **solicitações** onde os deletes são **lógicos** e não físicos:\n",
    "\n",
    "<img src=\"img/solicita_v2.png\">\n",
    "\n",
    "Neste exercício, você deve:\n",
    "\n",
    "- Criar procedure para **deletar logicamente clientes** cujo último acesso foi há mais que 180 dias. A procedure deve deletar logicamente apenas clientes e não solicitações.\n",
    "- Criar trigger na tabela de cliente para que, ao deletar logicamente um cliente, suas solicitações também sejam deletadas.\n",
    "- Criar trigger na tabela de solicitação para impedir a inserção de solicitações para cliente deletados."
   ]
  },
  {
   "cell_type": "code",
   "execution_count": null,
   "metadata": {},
   "outputs": [],
   "source": [
    "sql_ex10 = \"\"\"\n",
    "-- Seu SQL aqui!\n",
    "\"\"\"\n",
    "\n",
    "db(sql_ex10)"
   ]
  },
  {
   "cell_type": "markdown",
   "metadata": {},
   "source": [
    "Por hoje é só!"
   ]
  },
  {
   "cell_type": "code",
   "execution_count": 39,
   "metadata": {},
   "outputs": [
    {
     "ename": "NameError",
     "evalue": "name 'connection' is not defined",
     "output_type": "error",
     "traceback": [
      "\u001b[31m---------------------------------------------------------------------------\u001b[39m",
      "\u001b[31mNameError\u001b[39m                                 Traceback (most recent call last)",
      "\u001b[36mCell\u001b[39m\u001b[36m \u001b[39m\u001b[32mIn[39]\u001b[39m\u001b[32m, line 1\u001b[39m\n\u001b[32m----> \u001b[39m\u001b[32m1\u001b[39m \u001b[43mconnection\u001b[49m.close()\n",
      "\u001b[31mNameError\u001b[39m: name 'connection' is not defined"
     ]
    }
   ],
   "source": [
    "connection.close()"
   ]
  },
  {
   "cell_type": "markdown",
   "metadata": {},
   "source": [
    "### Conferir notas"
   ]
  },
  {
   "cell_type": "code",
   "execution_count": 40,
   "metadata": {},
   "outputs": [
    {
     "data": {
      "text/markdown": [
       "|    | Tarefa   |   Nota | Conta como ATV?   |\n",
       "|---:|:---------|-------:|:------------------|\n",
       "|  0 | triggers |     10 | Sim               |"
      ],
      "text/plain": [
       "<IPython.core.display.Markdown object>"
      ]
     },
     "metadata": {},
     "output_type": "display_data"
    }
   ],
   "source": [
    "ia.grades(by=\"task\", task=\"triggers\")"
   ]
  },
  {
   "cell_type": "code",
   "execution_count": 41,
   "metadata": {},
   "outputs": [
    {
     "data": {
      "text/markdown": [
       "|    | Atividade   | Exercício   |   Peso |   Nota |   Nota Sem Atraso |   Nota Com Atraso |\n",
       "|---:|:------------|:------------|-------:|-------:|------------------:|------------------:|\n",
       "|  0 | triggers    | ex01        |      1 |     10 |                10 |                 0 |\n",
       "|  1 | triggers    | ex02        |      1 |     10 |                10 |                 0 |\n",
       "|  2 | triggers    | ex04        |      1 |     10 |                10 |                 0 |\n",
       "|  3 | triggers    | ex05        |      1 |     10 |                10 |                 0 |\n",
       "|  4 | triggers    | ex06        |      1 |     10 |                10 |                 0 |\n",
       "|  5 | triggers    | ex07        |      1 |     10 |                10 |                 0 |\n",
       "|  6 | triggers    | ex08        |      1 |     10 |                10 |                 0 |\n",
       "|  7 | triggers    | ex09        |      1 |     10 |                10 |                 0 |"
      ],
      "text/plain": [
       "<IPython.core.display.Markdown object>"
      ]
     },
     "metadata": {},
     "output_type": "display_data"
    }
   ],
   "source": [
    "ia.grades(task=\"triggers\")"
   ]
  },
  {
   "cell_type": "markdown",
   "metadata": {},
   "source": [
    "## Gabarito"
   ]
  },
  {
   "cell_type": "markdown",
   "metadata": {},
   "source": [
    "**<div id=\"gab_atv1\">Atividade 1</div>**\n",
    "<div class=\"alert alert-warning\">\n",
    "\n",
    "Para Workbench - SEM **IF**:\n",
    "\n",
    "```SQL\n",
    "USE emprestimos;\n",
    "\n",
    "DROP PROCEDURE IF EXISTS cobra_taxa;\n",
    "\n",
    "DELIMITER //\n",
    "CREATE PROCEDURE cobra_taxa(IN taxa DECIMAL(30, 2))\n",
    "BEGIN\n",
    "    -- Gambiarra para desligar o aviso de segurança que previne\n",
    "    -- UPDATES gerais (sem WHERE).\n",
    "    -- OBS: da pra fazer sem ela!\n",
    "    SET @OLD_SQL_SAFE_UPDATES = @@SQL_SAFE_UPDATES;\n",
    "    SET SQL_SAFE_UPDATES=0;\n",
    "\n",
    "    -- Insira seu código aqui.\n",
    "    UPDATE usuario \n",
    "    SET \n",
    "        saldo = saldo - taxa\n",
    "    WHERE\n",
    "        saldo >= taxa;\n",
    "    \n",
    "    -- Desliga a gambiarra.\n",
    "    SET SQL_SAFE_UPDATES=@OLD_SQL_SAFE_UPDATES;\n",
    "END //\n",
    "DELIMITER ;\n",
    "```\n",
    "\n",
    "Para Workbench - COM **IF**:\n",
    "\n",
    "```SQL\n",
    "USE emprestimos;\n",
    "\n",
    "DROP PROCEDURE IF EXISTS cobra_taxa;\n",
    "\n",
    "DELIMITER //\n",
    "CREATE PROCEDURE cobra_taxa(IN taxa DECIMAL(30, 2))\n",
    "BEGIN\n",
    "    SET @OLD_SQL_SAFE_UPDATES = @@SQL_SAFE_UPDATES;\n",
    "    SET SQL_SAFE_UPDATES=0;\n",
    "    UPDATE usuario SET saldo = IF(saldo > taxa, saldo - taxa, saldo);\n",
    "    SET SQL_SAFE_UPDATES=@OLD_SQL_SAFE_UPDATES;\n",
    "END//\n",
    "DELIMITER ;\n",
    "```\n",
    "\n",
    "Para Python - SEM **IF**:\n",
    "\n",
    "```SQL\n",
    "USE emprestimos;\n",
    "\n",
    "DROP PROCEDURE IF EXISTS cobra_taxa;\n",
    "\n",
    "CREATE PROCEDURE cobra_taxa(IN taxa DECIMAL(30, 2))\n",
    "BEGIN\n",
    "    -- Gambiarra para desligar o aviso de segurança que previne\n",
    "    -- UPDATES gerais (sem WHERE).\n",
    "    -- OBS: da pra fazer sem ela!\n",
    "    SET @OLD_SQL_SAFE_UPDATES = @@SQL_SAFE_UPDATES;\n",
    "    SET SQL_SAFE_UPDATES=0;\n",
    "\n",
    "    -- Insira seu código aqui.\n",
    "    UPDATE usuario \n",
    "    SET \n",
    "        saldo = saldo - taxa\n",
    "    WHERE\n",
    "        saldo >= taxa;\n",
    "    \n",
    "    -- Desliga a gambiarra.\n",
    "    SET SQL_SAFE_UPDATES=@OLD_SQL_SAFE_UPDATES;\n",
    "END;\n",
    "```\n",
    "</div>\n",
    "<a href=\"#perg_atv1\">Click para voltar ao Exercício</a>\n"
   ]
  },
  {
   "cell_type": "markdown",
   "metadata": {},
   "source": [
    "**<div id=\"gab_atv2\">Atividade 2</div>**\n",
    "<div class=\"alert alert-warning\">\n",
    "\n",
    "Para Workbench:\n",
    "```SQL\n",
    "USE emprestimos;\n",
    "\n",
    "DROP FUNCTION IF EXISTS total_saldos;\n",
    "\n",
    "DELIMITER //\n",
    "CREATE FUNCTION total_saldos() RETURNS DECIMAL(30, 2) READS SQL DATA\n",
    "BEGIN\n",
    "\n",
    "    -- Insira seu SQL aqui.\n",
    "    DECLARE total DECIMAL(30, 2);\n",
    "    SELECT SUM(saldo) INTO total FROM usuario;\n",
    "    RETURN total;\n",
    "\n",
    "END//\n",
    "DELIMITER ;\n",
    "```\n",
    "</div>\n",
    "<a href=\"#perg_atv2\">Click para voltar ao Exercício</a>"
   ]
  }
 ],
 "metadata": {
  "kernelspec": {
   "display_name": "venv",
   "language": "python",
   "name": "python3"
  },
  "language_info": {
   "codemirror_mode": {
    "name": "ipython",
    "version": 3
   },
   "file_extension": ".py",
   "mimetype": "text/x-python",
   "name": "python",
   "nbconvert_exporter": "python",
   "pygments_lexer": "ipython3",
   "version": "3.11.4"
  }
 },
 "nbformat": 4,
 "nbformat_minor": 4
}
