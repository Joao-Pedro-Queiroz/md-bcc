{
 "cells": [
  {
   "cell_type": "markdown",
   "id": "0e37c0df-e67b-449d-8048-3be19047ab6d",
   "metadata": {},
   "source": [
    "# Exercicios com Spark"
   ]
  },
  {
   "cell_type": "markdown",
   "id": "562f41a9-c638-4e0f-9493-77654a650474",
   "metadata": {},
   "source": [
    "Caso precise, abaixo estão os comandos para iniciar o container:\n",
    "\n",
    "Para macOS e linux, utilize:\n",
    "\n",
    "```bash\n",
    "docker run \\\n",
    "    -it \\\n",
    "    --rm \\\n",
    "    -p 8888:8888 \\\n",
    "    -p 4040:4040 \\\n",
    "    -v \"`pwd`\":/home/jovyan/work \\\n",
    "    jupyter/pyspark-notebook\n",
    "\n",
    "\n",
    "```\n",
    "\n",
    "Se estiver no Windows estes comandos, utilize:\n",
    "\n",
    "- No Powershell: `docker run -it --rm -p 8888:8888 -p 4040:4040 -v ${PWD}:/home/jovyan/work jupyter/pyspark-notebook`\n",
    "\n",
    "- No Prompt de comando: `docker run -it --rm -p 8888:8888 -p 4040:4040 -v %cd%:/home/jovyan/work jupyter/pyspark-notebook`\n",
    "\n",
    "Agora abra esse notebook lá no container!\n"
   ]
  },
  {
   "cell_type": "markdown",
   "id": "9b7292d9-4aa8-47c3-938b-3922cd4be036",
   "metadata": {},
   "source": [
    "## Iniciando o Spark"
   ]
  },
  {
   "cell_type": "code",
   "execution_count": null,
   "id": "69c208f2-a1ef-4f30-bf7c-5ed01e20246c",
   "metadata": {},
   "outputs": [],
   "source": [
    "import pyspark\n",
    "\n",
    "conf = pyspark.SparkConf()\n",
    "conf.setAppName(\"Minha aplicação\")\n",
    "conf.setMaster(\"local[*]\")\n",
    "\n",
    "sc = pyspark.SparkContext(conf=conf)"
   ]
  },
  {
   "cell_type": "code",
   "execution_count": null,
   "id": "b95e478c-cfe7-4bca-8ebf-6c34dd38aeeb",
   "metadata": {},
   "outputs": [],
   "source": [
    "sc"
   ]
  },
  {
   "cell_type": "markdown",
   "id": "765d74df",
   "metadata": {},
   "source": [
    "## Iniciando a biblioteca de correção"
   ]
  },
  {
   "cell_type": "code",
   "execution_count": null,
   "id": "e76b5478",
   "metadata": {},
   "outputs": [],
   "source": [
    "# !pip install git+https://github.com/macielcalebe/insperautograding.git"
   ]
  },
  {
   "cell_type": "code",
   "execution_count": 1,
   "id": "b3f05694",
   "metadata": {},
   "outputs": [
    {
     "data": {
      "text/plain": [
       "True"
      ]
     },
     "execution_count": 1,
     "metadata": {},
     "output_type": "execute_result"
    }
   ],
   "source": [
    "import insperautograder.jupyter as ia\n",
    "from dotenv import load_dotenv\n",
    "load_dotenv()"
   ]
  },
  {
   "cell_type": "code",
   "execution_count": 2,
   "id": "9e29fe40",
   "metadata": {},
   "outputs": [
    {
     "data": {
      "text/markdown": [
       "|    | Atividade            | De                  | Até                 | Conta como ATV?   | % Nota Atraso   |\n",
       "|---:|:---------------------|:--------------------|:--------------------|:------------------|:----------------|\n",
       "|  0 | newborn              | 2025-08-11 00:00:00 | 2025-11-30 00:00:00 | Não               | 0%              |\n",
       "|  1 | select01             | 2025-08-14 00:00:00 | 2025-08-22 23:59:59 | Sim               | 25%             |\n",
       "|  2 | ddl                  | 2025-08-25 12:00:00 | 2025-08-31 23:59:59 | Sim               | 25%             |\n",
       "|  3 | dml                  | 2025-08-28 16:30:00 | 2025-09-04 23:59:59 | Sim               | 25%             |\n",
       "|  4 | agg_join             | 2025-09-01 14:00:00 | 2025-09-07 23:59:59 | Sim               | 25%             |\n",
       "|  5 | group_having         | 2025-09-04 16:30:00 | 2025-09-11 23:59:59 | Sim               | 25%             |\n",
       "|  6 | views                | 2025-09-08 14:15:00 | 2025-09-14 23:59:59 | Sim               | 25%             |\n",
       "|  7 | sql_review1          | 2025-09-11 14:15:00 | 2025-09-18 23:59:59 | Sim               | 25%             |\n",
       "|  8 | permissions          | 2025-09-18 14:15:00 | 2025-09-25 23:59:59 | Sim               | 25%             |\n",
       "|  9 | ai_md_23_2           | 2025-09-22 14:15:00 | 2025-09-30 23:59:59 | Sim               | 25%             |\n",
       "| 10 | ai_md_23_1           | 2025-09-22 14:15:00 | 2025-09-30 23:59:59 | Sim               | 25%             |\n",
       "| 11 | ai_md_25_2           | 2025-10-01 00:00:00 | 2025-10-01 12:10:00 | Não               | 0%              |\n",
       "| 12 | desafio_normalizacao | 2025-10-06 07:30:00 | 2025-11-12 23:59:59 | Não               | 25%             |\n",
       "| 13 | triggers             | 2025-10-20 14:00:00 | 2025-10-26 23:59:59 | Sim               | 25%             |\n",
       "| 14 | functional           | 2025-10-27 14:00:00 | 2025-11-02 23:59:59 | Sim               | 25%             |\n",
       "| 15 | spark                | 2025-10-29 14:00:00 | 2025-11-06 23:59:59 | Sim               | 25%             |\n",
       "| 16 | exercicios_spark     | 2025-10-29 14:00:00 | 2025-11-09 23:59:59 | Sim               | 25%             |"
      ],
      "text/plain": [
       "<IPython.core.display.Markdown object>"
      ]
     },
     "metadata": {},
     "output_type": "display_data"
    }
   ],
   "source": [
    "ia.tasks()"
   ]
  },
  {
   "cell_type": "code",
   "execution_count": 3,
   "id": "2d6f05ff",
   "metadata": {},
   "outputs": [
    {
     "data": {
      "text/markdown": [
       "|    | Atividade        | Exercício   |   Peso |   Nota |   Nota Sem Atraso |   Nota Com Atraso |\n",
       "|---:|:-----------------|:------------|-------:|-------:|------------------:|------------------:|\n",
       "|  0 | exercicios_spark | ex01        |      1 |      0 |                 0 |                 0 |\n",
       "|  1 | exercicios_spark | ex02        |      1 |      0 |                 0 |                 0 |\n",
       "|  2 | exercicios_spark | ex03        |      1 |      0 |                 0 |                 0 |\n",
       "|  3 | exercicios_spark | ex04        |      1 |      0 |                 0 |                 0 |\n",
       "|  4 | exercicios_spark | ex05        |      1 |      0 |                 0 |                 0 |\n",
       "|  5 | exercicios_spark | ex06        |      1 |      0 |                 0 |                 0 |"
      ],
      "text/plain": [
       "<IPython.core.display.Markdown object>"
      ]
     },
     "metadata": {},
     "output_type": "display_data"
    }
   ],
   "source": [
    "ia.grades(task=\"exercicios_spark\")"
   ]
  },
  {
   "cell_type": "code",
   "execution_count": 4,
   "id": "570e29a0",
   "metadata": {},
   "outputs": [
    {
     "data": {
      "text/markdown": [
       "|    | Tarefa               |   Nota | Conta como ATV?   |\n",
       "|---:|:---------------------|-------:|:------------------|\n",
       "|  0 | newborn              |  10    | Não               |\n",
       "|  1 | select01             |  10    | Sim               |\n",
       "|  2 | ddl                  |  10    | Sim               |\n",
       "|  3 | dml                  |  10    | Sim               |\n",
       "|  4 | agg_join             |  10    | Sim               |\n",
       "|  5 | group_having         |  10    | Sim               |\n",
       "|  6 | views                |  10    | Sim               |\n",
       "|  7 | sql_review1          |  10    | Sim               |\n",
       "|  8 | permissions          |  10    | Sim               |\n",
       "|  9 | ai_md_23_1           |  10    | Sim               |\n",
       "| 10 | ai_md_23_2           |  10    | Sim               |\n",
       "| 11 | ai_md_25_2           |   6.88 | Não               |\n",
       "| 12 | desafio_normalizacao |  10    | Não               |\n",
       "| 13 | triggers             |  10    | Sim               |\n",
       "| 14 | functional           |  10    | Sim               |\n",
       "| 15 | exercicios_spark     |   0    | Sim               |\n",
       "| 16 | spark                |  10    | Sim               |"
      ],
      "text/plain": [
       "<IPython.core.display.Markdown object>"
      ]
     },
     "metadata": {},
     "output_type": "display_data"
    }
   ],
   "source": [
    "ia.grades(by=\"TASK\")"
   ]
  },
  {
   "cell_type": "code",
   "execution_count": 5,
   "id": "46ec0b5b",
   "metadata": {},
   "outputs": [
    {
     "data": {
      "text/markdown": [
       "|    |   Média de ATV |\n",
       "|---:|---------------:|\n",
       "|  0 |             10 |"
      ],
      "text/plain": [
       "<IPython.core.display.Markdown object>"
      ]
     },
     "metadata": {},
     "output_type": "display_data"
    }
   ],
   "source": [
    "ia.average(excluded_count=2)"
   ]
  },
  {
   "cell_type": "markdown",
   "id": "a3099ef4-2117-47a8-8a1d-af2df7814056",
   "metadata": {},
   "source": [
    "## Trabalhando com Spark"
   ]
  },
  {
   "cell_type": "markdown",
   "id": "483b1de3-9e55-46ce-99e8-526b05b8c3d2",
   "metadata": {},
   "source": [
    "Para este exercicio vamos trabalhar com o dataset de reviews da Amazon visto em https://www.kaggle.com/datasets/kritanjalijain/amazon-reviews.\n",
    "\n",
    "Baixe o arquivo \"train.csv\" direto do Kaggle, ou pelo link https://bigdata-22-2.s3.us-east-2.amazonaws.com/amazon_sentiment/train.csv.gz"
   ]
  },
  {
   "cell_type": "markdown",
   "id": "65caf38e-fbd8-4513-af02-37671c6a949b",
   "metadata": {},
   "source": [
    "Vamos ler o arquivo \"train.csv\" em um RDD."
   ]
  },
  {
   "cell_type": "code",
   "execution_count": null,
   "id": "e64ec721-3b7f-46b8-a8a9-d27ccc83f209",
   "metadata": {},
   "outputs": [],
   "source": [
    "rdd = sc.textFile(\"train.csv\")"
   ]
  },
  {
   "cell_type": "code",
   "execution_count": null,
   "id": "5b73e675-ea3b-49c2-8622-53e8c17cfdf6",
   "metadata": {},
   "outputs": [],
   "source": [
    "rdd.take(1)"
   ]
  },
  {
   "cell_type": "markdown",
   "id": "a4794fc0-59cf-497f-98fc-d20efc0cca2b",
   "metadata": {},
   "source": [
    "De acordo com a documentação deste arquivo vista no Kaggle, cada linha contem 2 elementos: o sentimento do review (1 - negativo, 2 - positivo), o título e o corpo do review. A linha contem esses elementos em um formato \"comma-separated value\" (CSV), onde cada um dos campos está delimitado por aspas duplas. Se o texto em si (titulo ou corpo) contem aspas, elas aparecem como um par de aspas duplas. Vamos usar o `.filter()` para achar um exemplo desses."
   ]
  },
  {
   "cell_type": "code",
   "execution_count": null,
   "id": "ef3c736d-0378-43f7-be05-3e7f53b1423e",
   "metadata": {},
   "outputs": [],
   "source": [
    "example_line = rdd.filter(lambda x: '\"\"' in x).take(1)\n",
    "example_line = example_line[0]\n",
    "\n",
    "example_line"
   ]
  },
  {
   "cell_type": "markdown",
   "id": "efc0e86d-122f-4c0e-bf36-a0a8e2f60559",
   "metadata": {},
   "source": [
    "Levando isso em consideração, vamos fazer uma função simples para separar os campos:"
   ]
  },
  {
   "cell_type": "code",
   "execution_count": null,
   "id": "4923aa8b-1bee-4c74-8d18-6f4cf0445b0a",
   "metadata": {},
   "outputs": [],
   "source": [
    "def parse_line(line):\n",
    "    parts = line[1:-1].split('\",\"')\n",
    "    sentiment = int(parts[0])\n",
    "    title = parts[1].replace('\"\"', '\"')\n",
    "    body = parts[2].replace('\"\"', '\"')\n",
    "    return (sentiment, title, body)"
   ]
  },
  {
   "cell_type": "code",
   "execution_count": null,
   "id": "82f380c6-469c-4dd2-baa5-cbe72110de7f",
   "metadata": {},
   "outputs": [],
   "source": [
    "parse_line(example_line)"
   ]
  },
  {
   "cell_type": "markdown",
   "id": "ad8249e3-6f4a-4ed0-81b5-a453d141b88b",
   "metadata": {},
   "source": [
    "Podemos agora utilizar nossa função para separar os campos de cada linha do dataset. "
   ]
  },
  {
   "cell_type": "code",
   "execution_count": null,
   "id": "59d103d0-ae4d-4912-ba1b-8133f12d4e6b",
   "metadata": {},
   "outputs": [],
   "source": [
    "rdd_split = rdd.map(parse_line)"
   ]
  },
  {
   "cell_type": "markdown",
   "id": "a64fbea0-1378-4be7-b1d7-ada7828735b4",
   "metadata": {},
   "source": [
    "Como de costume, nada realmente acontece até que uma \"action\" seja invocada. O `.map()` é uma \"transformation\". Vamos usar uma action simples para \"materializar\" o novo RDD."
   ]
  },
  {
   "cell_type": "code",
   "execution_count": null,
   "id": "06b670e5-1757-443b-a229-453e3e3115b2",
   "metadata": {},
   "outputs": [],
   "source": [
    "rdd_split.count()"
   ]
  },
  {
   "cell_type": "markdown",
   "id": "6ff144ad-9378-4b72-ae84-1b1d2dda815d",
   "metadata": {},
   "source": [
    "Vamos explorar os resultados para ver se deu certo"
   ]
  },
  {
   "cell_type": "code",
   "execution_count": null,
   "id": "fd7882d9-4502-406b-abc4-b74de6fa1aef",
   "metadata": {},
   "outputs": [],
   "source": [
    "rdd_split.take(1)"
   ]
  },
  {
   "cell_type": "markdown",
   "id": "3317a957-f13d-49fe-b193-9c6826616cc7",
   "metadata": {},
   "source": [
    "**Atividade**: Implemente uma função que recebe o rdd processado e conte quantos sentimentos diferentes existem, e quantas vezes aparecem, para confirmar que só tem os sentimentos 1 e 2. Sua função deve retornar o resultado em tuplas, onde o primeiro elemento é o sentimento e o segundo é a contagem de vezes que aparece."
   ]
  },
  {
   "cell_type": "code",
   "execution_count": 6,
   "id": "cf4ed566",
   "metadata": {},
   "outputs": [
    {
     "ename": "NameError",
     "evalue": "name 'rdd_split' is not defined",
     "output_type": "error",
     "traceback": [
      "\u001b[31m---------------------------------------------------------------------------\u001b[39m",
      "\u001b[31mNameError\u001b[39m                                 Traceback (most recent call last)",
      "\u001b[36mCell\u001b[39m\u001b[36m \u001b[39m\u001b[32mIn[6]\u001b[39m\u001b[32m, line 10\u001b[39m\n\u001b[32m      7\u001b[39m     \u001b[38;5;66;03m# Transforma em lista de tuplas (sentimento, contagem)\u001b[39;00m\n\u001b[32m      8\u001b[39m     \u001b[38;5;28;01mreturn\u001b[39;00m \u001b[38;5;28mlist\u001b[39m(resultado.items())\n\u001b[32m---> \u001b[39m\u001b[32m10\u001b[39m ex01(\u001b[43mrdd_split\u001b[49m)\n",
      "\u001b[31mNameError\u001b[39m: name 'rdd_split' is not defined"
     ]
    }
   ],
   "source": [
    "def ex01(rdd_split):\n",
    "    # Mapeia para pegar apenas o sentimento (posição 0)\n",
    "    # Depois usa countByValue ou reduceByKey para contar ocorrências\n",
    "    resultado = rdd_split.map(lambda x: x[0]) \\\n",
    "                         .countByValue()  # retorna {sentimento: contagem}\n",
    "\n",
    "    # Transforma em lista de tuplas (sentimento, contagem)\n",
    "    return list(resultado.items())\n",
    "    \n",
    "ex01(rdd_split)"
   ]
  },
  {
   "cell_type": "code",
   "execution_count": 7,
   "id": "e0248377",
   "metadata": {},
   "outputs": [
    {
     "data": {
      "application/vnd.jupyter.widget-view+json": {
       "model_id": "74a16fb311764f539e16882e5665f60c",
       "version_major": 2,
       "version_minor": 0
      },
      "text/plain": [
       "interactive(children=(Button(description='Enviar ex01', style=ButtonStyle()), Output()), _dom_classes=('widget…"
      ]
     },
     "metadata": {},
     "output_type": "display_data"
    }
   ],
   "source": [
    "ia.sender(answer=\"ex01\", task=\"exercicios_spark\", question=\"ex01\", answer_type=\"pycode\")"
   ]
  },
  {
   "cell_type": "markdown",
   "id": "fffe0feb-e926-485d-80c0-897bf7820e47",
   "metadata": {},
   "source": [
    "**Atividade**: Implemente uma função que recebe o rdd processado e retorna quantos reviews não tem titulo."
   ]
  },
  {
   "cell_type": "code",
   "execution_count": 8,
   "id": "674cdb01",
   "metadata": {},
   "outputs": [
    {
     "ename": "NameError",
     "evalue": "name 'rdd_split' is not defined",
     "output_type": "error",
     "traceback": [
      "\u001b[31m---------------------------------------------------------------------------\u001b[39m",
      "\u001b[31mNameError\u001b[39m                                 Traceback (most recent call last)",
      "\u001b[36mCell\u001b[39m\u001b[36m \u001b[39m\u001b[32mIn[8]\u001b[39m\u001b[32m, line 8\u001b[39m\n\u001b[32m      5\u001b[39m     \u001b[38;5;66;03m# Conta a quantidade desses itens\u001b[39;00m\n\u001b[32m      6\u001b[39m     \u001b[38;5;28;01mreturn\u001b[39;00m sem_titulo.count()\n\u001b[32m----> \u001b[39m\u001b[32m8\u001b[39m ex02(\u001b[43mrdd_split\u001b[49m)\n",
      "\u001b[31mNameError\u001b[39m: name 'rdd_split' is not defined"
     ]
    }
   ],
   "source": [
    "def ex02(rdd_split):\n",
    "    # Filtra apenas os itens com título vazio, None ou somente espaços\n",
    "    sem_titulo = rdd_split.filter(lambda x: x[1] is None or x[1].strip() == \"\")\n",
    "    \n",
    "    # Conta a quantidade desses itens\n",
    "    return sem_titulo.count()\n",
    "\n",
    "ex02(rdd_split)"
   ]
  },
  {
   "cell_type": "code",
   "execution_count": 9,
   "id": "e3aa482a",
   "metadata": {},
   "outputs": [
    {
     "data": {
      "application/vnd.jupyter.widget-view+json": {
       "model_id": "ce992ae3a2e648e8a8ca2fca4f4ddd86",
       "version_major": 2,
       "version_minor": 0
      },
      "text/plain": [
       "interactive(children=(Button(description='Enviar ex02', style=ButtonStyle()), Output()), _dom_classes=('widget…"
      ]
     },
     "metadata": {},
     "output_type": "display_data"
    }
   ],
   "source": [
    "ia.sender(answer=\"ex02\", task=\"exercicios_spark\", question=\"ex02\", answer_type=\"pycode\")"
   ]
  },
  {
   "cell_type": "markdown",
   "id": "a31da43c-d2a5-4806-a5bf-9765e7fb09f9",
   "metadata": {},
   "source": [
    "**Atividade**: Implemente uma função que recebe o rdd processado e retorna quantos reviews não tem corpo."
   ]
  },
  {
   "cell_type": "code",
   "execution_count": 10,
   "id": "b6ae32e6",
   "metadata": {},
   "outputs": [
    {
     "ename": "NameError",
     "evalue": "name 'rdd_split' is not defined",
     "output_type": "error",
     "traceback": [
      "\u001b[31m---------------------------------------------------------------------------\u001b[39m",
      "\u001b[31mNameError\u001b[39m                                 Traceback (most recent call last)",
      "\u001b[36mCell\u001b[39m\u001b[36m \u001b[39m\u001b[32mIn[10]\u001b[39m\u001b[32m, line 8\u001b[39m\n\u001b[32m      5\u001b[39m     \u001b[38;5;66;03m# Conta a quantidade\u001b[39;00m\n\u001b[32m      6\u001b[39m     \u001b[38;5;28;01mreturn\u001b[39;00m sem_corpo.count()\n\u001b[32m----> \u001b[39m\u001b[32m8\u001b[39m ex03(\u001b[43mrdd_split\u001b[49m)\n",
      "\u001b[31mNameError\u001b[39m: name 'rdd_split' is not defined"
     ]
    }
   ],
   "source": [
    "def ex03(rdd_split):\n",
    "    # Filtra somente os reviews cujo corpo é vazio, nulo ou apenas espaços\n",
    "    sem_corpo = rdd_split.filter(lambda x: x[2] is None or x[2].strip() == \"\")\n",
    "    \n",
    "    # Conta a quantidade\n",
    "    return sem_corpo.count()\n",
    "\n",
    "ex03(rdd_split)"
   ]
  },
  {
   "cell_type": "code",
   "execution_count": 11,
   "id": "84bf1280",
   "metadata": {},
   "outputs": [
    {
     "data": {
      "application/vnd.jupyter.widget-view+json": {
       "model_id": "c0e891564ce3490db0e3399332131bc6",
       "version_major": 2,
       "version_minor": 0
      },
      "text/plain": [
       "interactive(children=(Button(description='Enviar ex03', style=ButtonStyle()), Output()), _dom_classes=('widget…"
      ]
     },
     "metadata": {},
     "output_type": "display_data"
    }
   ],
   "source": [
    "ia.sender(answer=\"ex03\", task=\"exercicios_spark\", question=\"ex03\", answer_type=\"pycode\")"
   ]
  },
  {
   "cell_type": "markdown",
   "id": "c76d3fd0-af72-4b2e-aa61-7ffc897b86c1",
   "metadata": {},
   "source": [
    "**Atividade**: Implemente uma função que recebe o rdd processado e retorna qual o comprimento máximo de um título e de um corpo. O resultado deve ser uma tupla com os dois valores."
   ]
  },
  {
   "cell_type": "code",
   "execution_count": 12,
   "id": "4f286058",
   "metadata": {},
   "outputs": [
    {
     "ename": "NameError",
     "evalue": "name 'rdd_split' is not defined",
     "output_type": "error",
     "traceback": [
      "\u001b[31m---------------------------------------------------------------------------\u001b[39m",
      "\u001b[31mNameError\u001b[39m                                 Traceback (most recent call last)",
      "\u001b[36mCell\u001b[39m\u001b[36m \u001b[39m\u001b[32mIn[12]\u001b[39m\u001b[32m, line 10\u001b[39m\n\u001b[32m      6\u001b[39m     max_corpo = rdd_split.map(\u001b[38;5;28;01mlambda\u001b[39;00m x: \u001b[38;5;28mlen\u001b[39m(x[\u001b[32m2\u001b[39m]) \u001b[38;5;28;01mif\u001b[39;00m x[\u001b[32m2\u001b[39m] \u001b[38;5;28;01melse\u001b[39;00m \u001b[32m0\u001b[39m).max()\n\u001b[32m      8\u001b[39m     \u001b[38;5;28;01mreturn\u001b[39;00m (max_titulo, max_corpo)\n\u001b[32m---> \u001b[39m\u001b[32m10\u001b[39m ex04(\u001b[43mrdd_split\u001b[49m)\n",
      "\u001b[31mNameError\u001b[39m: name 'rdd_split' is not defined"
     ]
    }
   ],
   "source": [
    "def ex04(rdd_split):\n",
    "    # Comprimento máximo dos títulos\n",
    "    max_titulo = rdd_split.map(lambda x: len(x[1]) if x[1] else 0).max()\n",
    "    \n",
    "    # Comprimento máximo dos corpos\n",
    "    max_corpo = rdd_split.map(lambda x: len(x[2]) if x[2] else 0).max()\n",
    "    \n",
    "    return (max_titulo, max_corpo)\n",
    "    \n",
    "ex04(rdd_split)"
   ]
  },
  {
   "cell_type": "code",
   "execution_count": 13,
   "id": "e5c9e4b0",
   "metadata": {},
   "outputs": [
    {
     "data": {
      "application/vnd.jupyter.widget-view+json": {
       "model_id": "44f2d54acafe42079be3f713f3491771",
       "version_major": 2,
       "version_minor": 0
      },
      "text/plain": [
       "interactive(children=(Button(description='Enviar ex04', style=ButtonStyle()), Output()), _dom_classes=('widget…"
      ]
     },
     "metadata": {},
     "output_type": "display_data"
    }
   ],
   "source": [
    "ia.sender(answer=\"ex04\", task=\"exercicios_spark\", question=\"ex04\", answer_type=\"pycode\")"
   ]
  },
  {
   "cell_type": "markdown",
   "id": "11d96887-6d6d-494e-9ac0-0c06b5c08dc6",
   "metadata": {},
   "source": [
    "**Atividade**: Implemente uma função que recebe o rdd processado e retorna qual a maior palavra palíndroma sem pontuações do dataset (no titulo ou corpo) e seu tamanho.\n",
    "\n",
    "Para este exercício, está permitido o uso de list comprehensions.\n",
    "\n",
    "**Obs**: Após o split, se uma palavra tiver alguma `string.punctuation`, ela deve ser desconsiderada (ao invés de remover as pontuações da palavra, remova as palavras com alguma pontuação)."
   ]
  },
  {
   "cell_type": "code",
   "execution_count": 14,
   "id": "ff6df655",
   "metadata": {},
   "outputs": [
    {
     "data": {
      "text/plain": [
       "'!\"#$%&\\'()*+,-./:;<=>?@[\\\\]^_`{|}~'"
      ]
     },
     "execution_count": 14,
     "metadata": {},
     "output_type": "execute_result"
    }
   ],
   "source": [
    "import string\n",
    "string.punctuation"
   ]
  },
  {
   "cell_type": "code",
   "execution_count": 15,
   "id": "c1755cfb",
   "metadata": {},
   "outputs": [
    {
     "ename": "NameError",
     "evalue": "name 'rdd_split' is not defined",
     "output_type": "error",
     "traceback": [
      "\u001b[31m---------------------------------------------------------------------------\u001b[39m",
      "\u001b[31mNameError\u001b[39m                                 Traceback (most recent call last)",
      "\u001b[36mCell\u001b[39m\u001b[36m \u001b[39m\u001b[32mIn[15]\u001b[39m\u001b[32m, line 28\u001b[39m\n\u001b[32m     24\u001b[39m     maior = palindromas.map(\u001b[38;5;28;01mlambda\u001b[39;00m w: (w, \u001b[38;5;28mlen\u001b[39m(w))).max(key=\u001b[38;5;28;01mlambda\u001b[39;00m x: x[\u001b[32m1\u001b[39m])\n\u001b[32m     26\u001b[39m     \u001b[38;5;28;01mreturn\u001b[39;00m maior\n\u001b[32m---> \u001b[39m\u001b[32m28\u001b[39m ex05(\u001b[43mrdd_split\u001b[49m)\n",
      "\u001b[31mNameError\u001b[39m: name 'rdd_split' is not defined"
     ]
    }
   ],
   "source": [
    "def ex05(rdd_split):\n",
    "    # Conjunto de pontuações para verificação rápida\n",
    "    punctuation_set = set(string.punctuation)\n",
    "\n",
    "    def is_valid_word(word):\n",
    "        # Desconsidera palavras com pontuações\n",
    "        return word and not any(c in punctuation_set for c in word)\n",
    "\n",
    "    def is_palindrome(word):\n",
    "        # Verifica se é palíndroma (case-insensitive)\n",
    "        w = word.lower()\n",
    "        return w == w[::-1] and len(w) > 1  # palavras de 1 letra não contam\n",
    "\n",
    "    # Flatten das palavras de título e corpo:\n",
    "    palavras = rdd_split.flatMap(\n",
    "        lambda x: x[1].split() + x[2].split()\n",
    "        if x[1] and x[2] else []\n",
    "    )\n",
    "\n",
    "    # Filtra palavras válidas e palíndromas\n",
    "    palindromas = palavras.filter(lambda w: is_valid_word(w) and is_palindrome(w))\n",
    "\n",
    "    # Retorna a maior palavra palíndroma\n",
    "    maior = palindromas.map(lambda w: (w, len(w))).max(key=lambda x: x[1])\n",
    "\n",
    "    return maior\n",
    "\n",
    "ex05(rdd_split)"
   ]
  },
  {
   "cell_type": "code",
   "execution_count": 16,
   "id": "7aa180dd-b4ca-4db5-a2fd-c3c33818abec",
   "metadata": {},
   "outputs": [
    {
     "data": {
      "application/vnd.jupyter.widget-view+json": {
       "model_id": "4280869be9e5420693ae442453615100",
       "version_major": 2,
       "version_minor": 0
      },
      "text/plain": [
       "interactive(children=(Button(description='Enviar ex05', style=ButtonStyle()), Output()), _dom_classes=('widget…"
      ]
     },
     "metadata": {},
     "output_type": "display_data"
    }
   ],
   "source": [
    "ia.sender(answer=\"ex05\", task=\"exercicios_spark\", question=\"ex05\", answer_type=\"pycode\")"
   ]
  },
  {
   "cell_type": "markdown",
   "id": "d63f641d-1d98-4d84-8f7b-93b122ae057c",
   "metadata": {},
   "source": [
    "**Atividade**: Implemente uma função que recebe o rdd processado e retorna as 20 palavras mais populares do titulo com sua frequência absoluta. Teste no subconjunto apresentado abaixo."
   ]
  },
  {
   "cell_type": "code",
   "execution_count": 20,
   "id": "6faf3c82",
   "metadata": {},
   "outputs": [
    {
     "ename": "NameError",
     "evalue": "name 'rdd_split' is not defined",
     "output_type": "error",
     "traceback": [
      "\u001b[31m---------------------------------------------------------------------------\u001b[39m",
      "\u001b[31mNameError\u001b[39m                                 Traceback (most recent call last)",
      "\u001b[36mCell\u001b[39m\u001b[36m \u001b[39m\u001b[32mIn[20]\u001b[39m\u001b[32m, line 15\u001b[39m\n\u001b[32m     12\u001b[39m     top20 = contagem.sortBy(\u001b[38;5;28;01mlambda\u001b[39;00m kv: kv[\u001b[32m1\u001b[39m], ascending=\u001b[38;5;28;01mFalse\u001b[39;00m).take(\u001b[32m20\u001b[39m)\n\u001b[32m     13\u001b[39m     \u001b[38;5;28;01mreturn\u001b[39;00m top20\n\u001b[32m---> \u001b[39m\u001b[32m15\u001b[39m ex06(\u001b[43mrdd_split\u001b[49m)\n",
      "\u001b[31mNameError\u001b[39m: name 'rdd_split' is not defined"
     ]
    }
   ],
   "source": [
    "def ex06(rdd_split):\n",
    "    # 1) Pegue apenas títulos não vazios\n",
    "    titulos = rdd_split.filter(lambda x: x[1] and x[1].strip() != \"\")\n",
    "    \n",
    "    # 2) Quebre em palavras PRESERVANDO a caixa (sem .lower())\n",
    "    palavras = titulos.flatMap(lambda x: x[1].split())\n",
    "    \n",
    "    # 3) Conte frequência absoluta\n",
    "    contagem = palavras.map(lambda w: (w, 1)).reduceByKey(lambda a, b: a + b)\n",
    "    \n",
    "    # 4) Ordene por frequência desc e pegue top 20\n",
    "    top20 = contagem.sortBy(lambda kv: kv[1], ascending=False).take(20)\n",
    "    return top20\n",
    "\n",
    "ex06(rdd_split)"
   ]
  },
  {
   "cell_type": "code",
   "execution_count": 18,
   "id": "cd2e4518",
   "metadata": {},
   "outputs": [
    {
     "ename": "NameError",
     "evalue": "name 'rdd_split' is not defined",
     "output_type": "error",
     "traceback": [
      "\u001b[31m---------------------------------------------------------------------------\u001b[39m",
      "\u001b[31mNameError\u001b[39m                                 Traceback (most recent call last)",
      "\u001b[36mCell\u001b[39m\u001b[36m \u001b[39m\u001b[32mIn[18]\u001b[39m\u001b[32m, line 1\u001b[39m\n\u001b[32m----> \u001b[39m\u001b[32m1\u001b[39m rdd_redux = \u001b[43mrdd_split\u001b[49m.sample(\u001b[38;5;28;01mFalse\u001b[39;00m, \u001b[32m0.05\u001b[39m, \u001b[32m7\u001b[39m)\n\u001b[32m      2\u001b[39m ex06(rdd_split)\n",
      "\u001b[31mNameError\u001b[39m: name 'rdd_split' is not defined"
     ]
    }
   ],
   "source": [
    "rdd_redux = rdd_split.sample(False, 0.05, 7)\n",
    "ex06(rdd_split)"
   ]
  },
  {
   "cell_type": "code",
   "execution_count": 21,
   "id": "c1a18e2d",
   "metadata": {},
   "outputs": [
    {
     "data": {
      "application/vnd.jupyter.widget-view+json": {
       "model_id": "fb7c5be5d93d4fb389009fbfec18054a",
       "version_major": 2,
       "version_minor": 0
      },
      "text/plain": [
       "interactive(children=(Button(description='Enviar ex06', style=ButtonStyle()), Output()), _dom_classes=('widget…"
      ]
     },
     "metadata": {},
     "output_type": "display_data"
    }
   ],
   "source": [
    "ia.sender(answer=\"ex06\", task=\"exercicios_spark\", question=\"ex06\", answer_type=\"pycode\")"
   ]
  },
  {
   "cell_type": "markdown",
   "id": "deb5ee10",
   "metadata": {},
   "source": [
    "## Conferir notas"
   ]
  },
  {
   "cell_type": "code",
   "execution_count": 22,
   "id": "acc0d272",
   "metadata": {},
   "outputs": [
    {
     "data": {
      "text/markdown": [
       "|    | Atividade            | De                  | Até                 | Conta como ATV?   | % Nota Atraso   |\n",
       "|---:|:---------------------|:--------------------|:--------------------|:------------------|:----------------|\n",
       "|  0 | newborn              | 2025-08-11 00:00:00 | 2025-11-30 00:00:00 | Não               | 0%              |\n",
       "|  1 | select01             | 2025-08-14 00:00:00 | 2025-08-22 23:59:59 | Sim               | 25%             |\n",
       "|  2 | ddl                  | 2025-08-25 12:00:00 | 2025-08-31 23:59:59 | Sim               | 25%             |\n",
       "|  3 | dml                  | 2025-08-28 16:30:00 | 2025-09-04 23:59:59 | Sim               | 25%             |\n",
       "|  4 | agg_join             | 2025-09-01 14:00:00 | 2025-09-07 23:59:59 | Sim               | 25%             |\n",
       "|  5 | group_having         | 2025-09-04 16:30:00 | 2025-09-11 23:59:59 | Sim               | 25%             |\n",
       "|  6 | views                | 2025-09-08 14:15:00 | 2025-09-14 23:59:59 | Sim               | 25%             |\n",
       "|  7 | sql_review1          | 2025-09-11 14:15:00 | 2025-09-18 23:59:59 | Sim               | 25%             |\n",
       "|  8 | permissions          | 2025-09-18 14:15:00 | 2025-09-25 23:59:59 | Sim               | 25%             |\n",
       "|  9 | ai_md_23_2           | 2025-09-22 14:15:00 | 2025-09-30 23:59:59 | Sim               | 25%             |\n",
       "| 10 | ai_md_23_1           | 2025-09-22 14:15:00 | 2025-09-30 23:59:59 | Sim               | 25%             |\n",
       "| 11 | ai_md_25_2           | 2025-10-01 00:00:00 | 2025-10-01 12:10:00 | Não               | 0%              |\n",
       "| 12 | desafio_normalizacao | 2025-10-06 07:30:00 | 2025-11-12 23:59:59 | Não               | 25%             |\n",
       "| 13 | triggers             | 2025-10-20 14:00:00 | 2025-10-26 23:59:59 | Sim               | 25%             |\n",
       "| 14 | functional           | 2025-10-27 14:00:00 | 2025-11-02 23:59:59 | Sim               | 25%             |\n",
       "| 15 | spark                | 2025-10-29 14:00:00 | 2025-11-06 23:59:59 | Sim               | 25%             |\n",
       "| 16 | exercicios_spark     | 2025-10-29 14:00:00 | 2025-11-09 23:59:59 | Sim               | 25%             |"
      ],
      "text/plain": [
       "<IPython.core.display.Markdown object>"
      ]
     },
     "metadata": {},
     "output_type": "display_data"
    }
   ],
   "source": [
    "ia.tasks()"
   ]
  },
  {
   "cell_type": "code",
   "execution_count": 23,
   "id": "7b4bb06e",
   "metadata": {},
   "outputs": [
    {
     "data": {
      "text/markdown": [
       "|    | Atividade        | Exercício   |   Peso |   Nota |   Nota Sem Atraso |   Nota Com Atraso |\n",
       "|---:|:-----------------|:------------|-------:|-------:|------------------:|------------------:|\n",
       "|  0 | exercicios_spark | ex01        |      1 |     10 |                10 |                 0 |\n",
       "|  1 | exercicios_spark | ex02        |      1 |     10 |                10 |                 0 |\n",
       "|  2 | exercicios_spark | ex03        |      1 |     10 |                10 |                 0 |\n",
       "|  3 | exercicios_spark | ex04        |      1 |     10 |                10 |                 0 |\n",
       "|  4 | exercicios_spark | ex05        |      1 |     10 |                10 |                 0 |\n",
       "|  5 | exercicios_spark | ex06        |      1 |     10 |                10 |                 0 |"
      ],
      "text/plain": [
       "<IPython.core.display.Markdown object>"
      ]
     },
     "metadata": {},
     "output_type": "display_data"
    }
   ],
   "source": [
    "ia.grades(task=\"exercicios_spark\")"
   ]
  }
 ],
 "metadata": {
  "kernelspec": {
   "display_name": ".venv",
   "language": "python",
   "name": "python3"
  },
  "language_info": {
   "codemirror_mode": {
    "name": "ipython",
    "version": 3
   },
   "file_extension": ".py",
   "mimetype": "text/x-python",
   "name": "python",
   "nbconvert_exporter": "python",
   "pygments_lexer": "ipython3",
   "version": "3.11.4"
  }
 },
 "nbformat": 4,
 "nbformat_minor": 5
}
