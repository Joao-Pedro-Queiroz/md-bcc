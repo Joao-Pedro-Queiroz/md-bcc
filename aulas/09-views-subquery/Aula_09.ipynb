{
 "cells": [
  {
   "cell_type": "markdown",
   "metadata": {},
   "source": [
    "# Mais sobre `SELECT`\n",
    "\n",
    "- temporary tables\n",
    "- views\n",
    "- variables\n",
    "- subqueries\n"
   ]
  },
  {
   "cell_type": "code",
   "execution_count": 3,
   "metadata": {},
   "outputs": [
    {
     "ename": "DatabaseError",
     "evalue": "2003 (HY000): Can't connect to MySQL server on 'localhost:3306' (10061)",
     "output_type": "error",
     "traceback": [
      "\u001b[31m---------------------------------------------------------------------------\u001b[39m",
      "\u001b[31mMySQLInterfaceError\u001b[39m                       Traceback (most recent call last)",
      "\u001b[36mFile \u001b[39m\u001b[32mc:\\Users\\jpqv0\\VSCodeProjects\\Insper\\2025\\5-Semestre\\Megadados\\md-bcc\\venv\\Lib\\site-packages\\mysql\\connector\\connection_cext.py:323\u001b[39m, in \u001b[36mCMySQLConnection._open_connection\u001b[39m\u001b[34m(self)\u001b[39m\n\u001b[32m    322\u001b[39m \u001b[38;5;28;01mtry\u001b[39;00m:\n\u001b[32m--> \u001b[39m\u001b[32m323\u001b[39m     \u001b[38;5;28;43mself\u001b[39;49m\u001b[43m.\u001b[49m\u001b[43m_cmysql\u001b[49m\u001b[43m.\u001b[49m\u001b[43mconnect\u001b[49m\u001b[43m(\u001b[49m\u001b[43m*\u001b[49m\u001b[43m*\u001b[49m\u001b[43mcnx_kwargs\u001b[49m\u001b[43m)\u001b[49m\n\u001b[32m    324\u001b[39m     \u001b[38;5;28mself\u001b[39m._cmysql.converter_str_fallback = \u001b[38;5;28mself\u001b[39m._converter_str_fallback\n",
      "\u001b[31mMySQLInterfaceError\u001b[39m: Can't connect to MySQL server on 'localhost:3306' (10061)",
      "\nThe above exception was the direct cause of the following exception:\n",
      "\u001b[31mDatabaseError\u001b[39m                             Traceback (most recent call last)",
      "\u001b[36mCell\u001b[39m\u001b[36m \u001b[39m\u001b[32mIn[3]\u001b[39m\u001b[32m, line 9\u001b[39m\n\u001b[32m      5\u001b[39m \u001b[38;5;28;01mimport\u001b[39;00m\u001b[38;5;250m \u001b[39m\u001b[34;01mos\u001b[39;00m\n\u001b[32m      7\u001b[39m load_dotenv(override=\u001b[38;5;28;01mTrue\u001b[39;00m)\n\u001b[32m----> \u001b[39m\u001b[32m9\u001b[39m connection = \u001b[43mmysql\u001b[49m\u001b[43m.\u001b[49m\u001b[43mconnector\u001b[49m\u001b[43m.\u001b[49m\u001b[43mconnect\u001b[49m\u001b[43m(\u001b[49m\n\u001b[32m     10\u001b[39m \u001b[43m    \u001b[49m\u001b[43mhost\u001b[49m\u001b[43m=\u001b[49m\u001b[43mos\u001b[49m\u001b[43m.\u001b[49m\u001b[43mgetenv\u001b[49m\u001b[43m(\u001b[49m\u001b[33;43m\"\u001b[39;49m\u001b[33;43mMD_DB_SERVER\u001b[39;49m\u001b[33;43m\"\u001b[39;49m\u001b[43m)\u001b[49m\u001b[43m,\u001b[49m\n\u001b[32m     11\u001b[39m \u001b[43m    \u001b[49m\u001b[43muser\u001b[49m\u001b[43m=\u001b[49m\u001b[43mos\u001b[49m\u001b[43m.\u001b[49m\u001b[43mgetenv\u001b[49m\u001b[43m(\u001b[49m\u001b[33;43m\"\u001b[39;49m\u001b[33;43mMD_DB_USERNAME\u001b[39;49m\u001b[33;43m\"\u001b[39;49m\u001b[43m)\u001b[49m\u001b[43m,\u001b[49m\n\u001b[32m     12\u001b[39m \u001b[43m    \u001b[49m\u001b[43mpassword\u001b[49m\u001b[43m=\u001b[49m\u001b[43mos\u001b[49m\u001b[43m.\u001b[49m\u001b[43mgetenv\u001b[49m\u001b[43m(\u001b[49m\u001b[33;43m\"\u001b[39;49m\u001b[33;43mMD_DB_PASSWORD\u001b[39;49m\u001b[33;43m\"\u001b[39;49m\u001b[43m)\u001b[49m\u001b[43m,\u001b[49m\n\u001b[32m     13\u001b[39m \u001b[43m    \u001b[49m\u001b[43mport\u001b[49m\u001b[43m=\u001b[49m\u001b[38;5;28;43mint\u001b[39;49m\u001b[43m(\u001b[49m\u001b[43mos\u001b[49m\u001b[43m.\u001b[49m\u001b[43mgetenv\u001b[49m\u001b[43m(\u001b[49m\u001b[33;43m\"\u001b[39;49m\u001b[33;43mMD_DB_PORT\u001b[39;49m\u001b[33;43m\"\u001b[39;49m\u001b[43m,\u001b[49m\u001b[43m \u001b[49m\u001b[32;43m3306\u001b[39;49m\u001b[43m)\u001b[49m\u001b[43m)\u001b[49m\u001b[43m,\u001b[49m\n\u001b[32m     14\u001b[39m \u001b[43m    \u001b[49m\u001b[43mdatabase\u001b[49m\u001b[43m=\u001b[49m\u001b[33;43m\"\u001b[39;49m\u001b[33;43msakila\u001b[39;49m\u001b[33;43m\"\u001b[39;49m\n\u001b[32m     15\u001b[39m \u001b[43m)\u001b[49m\n\u001b[32m     17\u001b[39m \u001b[38;5;28;01mdef\u001b[39;00m\u001b[38;5;250m \u001b[39m\u001b[34mrun_db_query\u001b[39m(connection, query, args=\u001b[38;5;28;01mNone\u001b[39;00m):\n\u001b[32m     18\u001b[39m     \u001b[38;5;28;01mwith\u001b[39;00m connection.cursor() \u001b[38;5;28;01mas\u001b[39;00m cursor:\n",
      "\u001b[36mFile \u001b[39m\u001b[32mc:\\Users\\jpqv0\\VSCodeProjects\\Insper\\2025\\5-Semestre\\Megadados\\md-bcc\\venv\\Lib\\site-packages\\mysql\\connector\\pooling.py:322\u001b[39m, in \u001b[36mconnect\u001b[39m\u001b[34m(*args, **kwargs)\u001b[39m\n\u001b[32m    319\u001b[39m         \u001b[38;5;28;01mraise\u001b[39;00m \u001b[38;5;167;01mImportError\u001b[39;00m(ERROR_NO_CEXT)\n\u001b[32m    321\u001b[39m \u001b[38;5;28;01mif\u001b[39;00m CMySQLConnection \u001b[38;5;129;01mand\u001b[39;00m \u001b[38;5;129;01mnot\u001b[39;00m use_pure:\n\u001b[32m--> \u001b[39m\u001b[32m322\u001b[39m     \u001b[38;5;28;01mreturn\u001b[39;00m \u001b[43mCMySQLConnection\u001b[49m\u001b[43m(\u001b[49m\u001b[43m*\u001b[49m\u001b[43margs\u001b[49m\u001b[43m,\u001b[49m\u001b[43m \u001b[49m\u001b[43m*\u001b[49m\u001b[43m*\u001b[49m\u001b[43mkwargs\u001b[49m\u001b[43m)\u001b[49m\n\u001b[32m    323\u001b[39m \u001b[38;5;28;01mreturn\u001b[39;00m MySQLConnection(*args, **kwargs)\n",
      "\u001b[36mFile \u001b[39m\u001b[32mc:\\Users\\jpqv0\\VSCodeProjects\\Insper\\2025\\5-Semestre\\Megadados\\md-bcc\\venv\\Lib\\site-packages\\mysql\\connector\\connection_cext.py:140\u001b[39m, in \u001b[36mCMySQLConnection.__init__\u001b[39m\u001b[34m(self, **kwargs)\u001b[39m\n\u001b[32m    138\u001b[39m \u001b[38;5;28;01mif\u001b[39;00m kwargs:\n\u001b[32m    139\u001b[39m     \u001b[38;5;28;01mtry\u001b[39;00m:\n\u001b[32m--> \u001b[39m\u001b[32m140\u001b[39m         \u001b[38;5;28;43mself\u001b[39;49m\u001b[43m.\u001b[49m\u001b[43mconnect\u001b[49m\u001b[43m(\u001b[49m\u001b[43m*\u001b[49m\u001b[43m*\u001b[49m\u001b[43mkwargs\u001b[49m\u001b[43m)\u001b[49m\n\u001b[32m    141\u001b[39m     \u001b[38;5;28;01mexcept\u001b[39;00m \u001b[38;5;167;01mException\u001b[39;00m:\n\u001b[32m    142\u001b[39m         \u001b[38;5;28mself\u001b[39m.close()\n",
      "\u001b[36mFile \u001b[39m\u001b[32mc:\\Users\\jpqv0\\VSCodeProjects\\Insper\\2025\\5-Semestre\\Megadados\\md-bcc\\venv\\Lib\\site-packages\\mysql\\connector\\abstracts.py:1363\u001b[39m, in \u001b[36mMySQLConnectionAbstract.connect\u001b[39m\u001b[34m(self, **kwargs)\u001b[39m\n\u001b[32m   1360\u001b[39m     \u001b[38;5;28mself\u001b[39m.config(**kwargs)\n\u001b[32m   1362\u001b[39m \u001b[38;5;28mself\u001b[39m.disconnect()\n\u001b[32m-> \u001b[39m\u001b[32m1363\u001b[39m \u001b[38;5;28;43mself\u001b[39;49m\u001b[43m.\u001b[49m\u001b[43m_open_connection\u001b[49m\u001b[43m(\u001b[49m\u001b[43m)\u001b[49m\n\u001b[32m   1365\u001b[39m charset, collation = (\n\u001b[32m   1366\u001b[39m     kwargs.pop(\u001b[33m\"\u001b[39m\u001b[33mcharset\u001b[39m\u001b[33m\"\u001b[39m, \u001b[38;5;28;01mNone\u001b[39;00m),\n\u001b[32m   1367\u001b[39m     kwargs.pop(\u001b[33m\"\u001b[39m\u001b[33mcollation\u001b[39m\u001b[33m\"\u001b[39m, \u001b[38;5;28;01mNone\u001b[39;00m),\n\u001b[32m   1368\u001b[39m )\n\u001b[32m   1369\u001b[39m \u001b[38;5;28;01mif\u001b[39;00m charset \u001b[38;5;129;01mor\u001b[39;00m collation:\n",
      "\u001b[36mFile \u001b[39m\u001b[32mc:\\Users\\jpqv0\\VSCodeProjects\\Insper\\2025\\5-Semestre\\Megadados\\md-bcc\\venv\\Lib\\site-packages\\mysql\\connector\\connection_cext.py:328\u001b[39m, in \u001b[36mCMySQLConnection._open_connection\u001b[39m\u001b[34m(self)\u001b[39m\n\u001b[32m    326\u001b[39m         \u001b[38;5;28mself\u001b[39m.converter.str_fallback = \u001b[38;5;28mself\u001b[39m._converter_str_fallback\n\u001b[32m    327\u001b[39m \u001b[38;5;28;01mexcept\u001b[39;00m MySQLInterfaceError \u001b[38;5;28;01mas\u001b[39;00m err:\n\u001b[32m--> \u001b[39m\u001b[32m328\u001b[39m     \u001b[38;5;28;01mraise\u001b[39;00m get_mysql_exception(\n\u001b[32m    329\u001b[39m         msg=err.msg, errno=err.errno, sqlstate=err.sqlstate\n\u001b[32m    330\u001b[39m     ) \u001b[38;5;28;01mfrom\u001b[39;00m\u001b[38;5;250m \u001b[39m\u001b[34;01merr\u001b[39;00m\n\u001b[32m    332\u001b[39m \u001b[38;5;28mself\u001b[39m._do_handshake()\n",
      "\u001b[31mDatabaseError\u001b[39m: 2003 (HY000): Can't connect to MySQL server on 'localhost:3306' (10061)"
     ]
    }
   ],
   "source": [
    "from functools import partial\n",
    "from dotenv import load_dotenv\n",
    "import insperautograder.jupyter as ia\n",
    "import mysql.connector\n",
    "import os\n",
    "\n",
    "load_dotenv(override=True)\n",
    "\n",
    "connection = mysql.connector.connect(\n",
    "    host=os.getenv(\"MD_DB_SERVER\"),\n",
    "    user=os.getenv(\"MD_DB_USERNAME\"),\n",
    "    password=os.getenv(\"MD_DB_PASSWORD\"),\n",
    "    port=int(os.getenv(\"MD_DB_PORT\", 3306)),\n",
    "    database=\"sakila\"\n",
    ")\n",
    "\n",
    "def run_db_query(connection, query, args=None):\n",
    "    with connection.cursor() as cursor:\n",
    "        print(\"Executando query:\")\n",
    "        for result in cursor.execute(query, multi=True):\n",
    "            if result.with_rows:\n",
    "                for row in result.fetchall():\n",
    "                    print(row)\n",
    "            else:\n",
    "                print(f\"{result.rowcount} linhas afetadas.\")\n",
    "\n",
    "db = partial(run_db_query, connection)"
   ]
  },
  {
   "cell_type": "markdown",
   "metadata": {},
   "source": [
    "## Exercícios para entrega\n",
    "\n",
    "Esta aula tem atividade para entrega, confira os prazos e exercícios"
   ]
  },
  {
   "cell_type": "code",
   "execution_count": 4,
   "metadata": {},
   "outputs": [
    {
     "data": {
      "text/markdown": [
       "|    | Atividade    | De                  | Até                 | Conta como ATV?   | % Nota Atraso   |\n",
       "|---:|:-------------|:--------------------|:--------------------|:------------------|:----------------|\n",
       "|  0 | newborn      | 2025-08-11 00:00:00 | 2025-11-30 00:00:00 | Não               | 0%              |\n",
       "|  1 | select01     | 2025-08-14 00:00:00 | 2025-08-22 23:59:59 | Sim               | 25%             |\n",
       "|  2 | ddl          | 2025-08-25 12:00:00 | 2025-08-31 23:59:59 | Sim               | 25%             |\n",
       "|  3 | dml          | 2025-08-28 16:30:00 | 2025-09-04 23:59:59 | Sim               | 25%             |\n",
       "|  4 | agg_join     | 2025-09-01 14:00:00 | 2025-09-07 23:59:59 | Sim               | 25%             |\n",
       "|  5 | group_having | 2025-09-04 16:30:00 | 2025-09-11 23:59:59 | Sim               | 25%             |\n",
       "|  6 | views        | 2025-09-08 07:30:00 | 2025-09-14 23:59:59 | Sim               | 25%             |"
      ],
      "text/plain": [
       "<IPython.core.display.Markdown object>"
      ]
     },
     "metadata": {},
     "output_type": "display_data"
    }
   ],
   "source": [
    "ia.tasks()"
   ]
  },
  {
   "cell_type": "code",
   "execution_count": 5,
   "metadata": {},
   "outputs": [
    {
     "data": {
      "text/markdown": [
       "|    | Tarefa       |   Nota | Conta como ATV?   |\n",
       "|---:|:-------------|-------:|:------------------|\n",
       "|  0 | newborn      |     10 | Não               |\n",
       "|  1 | select01     |     10 | Sim               |\n",
       "|  2 | ddl          |     10 | Sim               |\n",
       "|  3 | dml          |     10 | Sim               |\n",
       "|  4 | agg_join     |     10 | Sim               |\n",
       "|  5 | group_having |     10 | Sim               |\n",
       "|  6 | views        |      0 | Sim               |"
      ],
      "text/plain": [
       "<IPython.core.display.Markdown object>"
      ]
     },
     "metadata": {},
     "output_type": "display_data"
    }
   ],
   "source": [
    "ia.grades(by=\"task\")"
   ]
  },
  {
   "cell_type": "code",
   "execution_count": 6,
   "metadata": {},
   "outputs": [
    {
     "data": {
      "text/markdown": [
       "|    | Atividade   | Exercício   |   Peso |   Nota |   Nota Sem Atraso |   Nota Com Atraso |\n",
       "|---:|:------------|:------------|-------:|-------:|------------------:|------------------:|\n",
       "|  0 | views       | ex01        |      1 |      0 |                 0 |                 0 |\n",
       "|  1 | views       | ex02        |      1 |      0 |                 0 |                 0 |\n",
       "|  2 | views       | ex03        |      1 |      0 |                 0 |                 0 |\n",
       "|  3 | views       | ex04        |      1 |      0 |                 0 |                 0 |\n",
       "|  4 | views       | ex05        |      1 |      0 |                 0 |                 0 |\n",
       "|  5 | views       | ex06        |      1 |      0 |                 0 |                 0 |\n",
       "|  6 | views       | ex07        |      1 |      0 |                 0 |                 0 |\n",
       "|  7 | views       | ex08        |      1 |      0 |                 0 |                 0 |\n",
       "|  8 | views       | ex09        |      1 |      0 |                 0 |                 0 |\n",
       "|  9 | views       | ex10        |      1 |      0 |                 0 |                 0 |\n",
       "| 10 | views       | ex11        |      1 |      0 |                 0 |                 0 |\n",
       "| 11 | views       | ex12        |      1 |      0 |                 0 |                 0 |"
      ],
      "text/plain": [
       "<IPython.core.display.Markdown object>"
      ]
     },
     "metadata": {},
     "output_type": "display_data"
    }
   ],
   "source": [
    "ia.grades(task=\"views\")"
   ]
  },
  {
   "cell_type": "code",
   "execution_count": 7,
   "metadata": {},
   "outputs": [
    {
     "data": {
      "text/markdown": [
       "|    |   Média de ATV |\n",
       "|---:|---------------:|\n",
       "|  0 |             10 |"
      ],
      "text/plain": [
       "<IPython.core.display.Markdown object>"
      ]
     },
     "metadata": {},
     "output_type": "display_data"
    }
   ],
   "source": [
    "# Média de ATV, dividindo por n-2\n",
    "ia.average(excluded_count=2)"
   ]
  },
  {
   "cell_type": "markdown",
   "metadata": {},
   "source": [
    "## Aquecimento"
   ]
  },
  {
   "cell_type": "markdown",
   "metadata": {},
   "source": [
    "Quanta receita foi gerada para cada categoria de filmes? Mostre o nome da categoria e a receita. Ordene da maior receita para para a menor."
   ]
  },
  {
   "cell_type": "code",
   "execution_count": 15,
   "metadata": {},
   "outputs": [],
   "source": [
    "sql_ex01 = \"\"\"\n",
    "    SELECT c.name,\n",
    "        SUM(p.amount) AS revenue\n",
    "    FROM payment p\n",
    "    JOIN rental r ON p.rental_id = r.rental_id\n",
    "    JOIN inventory i ON r.inventory_id = i.inventory_id\n",
    "    JOIN film f ON i.film_id = f.film_id\n",
    "    JOIN film_category fc ON f.film_id = fc.film_id\n",
    "    JOIN category c ON fc.category_id = c.category_id\n",
    "    GROUP BY c.name\n",
    "    ORDER BY revenue DESC;\n",
    "\"\"\"\n",
    "\n",
    "# db(sql_ex01)"
   ]
  },
  {
   "cell_type": "code",
   "execution_count": 16,
   "metadata": {},
   "outputs": [
    {
     "data": {
      "application/vnd.jupyter.widget-view+json": {
       "model_id": "31cf966f99ff4040b7ccce437359aeea",
       "version_major": 2,
       "version_minor": 0
      },
      "text/plain": [
       "interactive(children=(Button(description='Enviar ex01', style=ButtonStyle()), Output()), _dom_classes=('widget…"
      ]
     },
     "metadata": {},
     "output_type": "display_data"
    }
   ],
   "source": [
    "ia.sender(answer=\"sql_ex01\", task=\"views\", question=\"ex01\", answer_type=\"pyvar\")"
   ]
  },
  {
   "cell_type": "markdown",
   "metadata": {},
   "source": [
    "Liste os 10 filmes mais alugados e o numero de vezes em que foram alugados. Ordene do mais alugado para o menos alugado.\n",
    "\n",
    "Caso exista empate, como segundo critério, ordene de forma crescente pelo nome do filme."
   ]
  },
  {
   "cell_type": "code",
   "execution_count": 17,
   "metadata": {},
   "outputs": [],
   "source": [
    "sql_ex02 = \"\"\"\n",
    "    SELECT f.title,\n",
    "        COUNT(r.rental_id) AS rental_count\n",
    "    FROM rental r\n",
    "    JOIN inventory i ON r.inventory_id = i.inventory_id\n",
    "    JOIN film f ON i.film_id = f.film_id\n",
    "    GROUP BY f.film_id, f.title\n",
    "    ORDER BY rental_count DESC, f.title ASC\n",
    "    LIMIT 10;\n",
    "\"\"\"\n",
    "\n",
    "# db(sql_ex02)"
   ]
  },
  {
   "cell_type": "code",
   "execution_count": 18,
   "metadata": {},
   "outputs": [
    {
     "data": {
      "application/vnd.jupyter.widget-view+json": {
       "model_id": "574fc13d2adf4fac8cfcf435045eccd4",
       "version_major": 2,
       "version_minor": 0
      },
      "text/plain": [
       "interactive(children=(Button(description='Enviar ex02', style=ButtonStyle()), Output()), _dom_classes=('widget…"
      ]
     },
     "metadata": {},
     "output_type": "display_data"
    }
   ],
   "source": [
    "ia.sender(answer=\"sql_ex02\", task=\"views\", question=\"ex02\", answer_type=\"pyvar\")"
   ]
  },
  {
   "cell_type": "markdown",
   "metadata": {},
   "source": [
    "**DESAFIO:** Liste os filmes e o numero de vezes em que foram alugados apenas para filmes que foram alugados mais do que a média de numero de alugueis por filme. *Dica*: Serão necessários múltiplos SELECTs. Faça cada um em uma célula diferente."
   ]
  },
  {
   "cell_type": "code",
   "execution_count": null,
   "metadata": {},
   "outputs": [],
   "source": [
    "db(\"\"\"\n",
    "    SELECT\n",
    "    f.film_id,\n",
    "    f.title,\n",
    "    COUNT(r.rental_id) AS rental_count\n",
    "    FROM film f\n",
    "    JOIN inventory i ON i.film_id = f.film_id\n",
    "    LEFT JOIN rental r ON r.inventory_id = i.inventory_id\n",
    "    GROUP BY f.film_id, f.title;\n",
    "\"\"\")\n",
    "db(\"\"\"\n",
    "    SELECT\n",
    "    AVG(rental_count) AS avg_rentals_per_film\n",
    "    FROM (\n",
    "    SELECT\n",
    "        f.film_id,\n",
    "        COUNT(r.rental_id) AS rental_count\n",
    "    FROM film f\n",
    "    JOIN inventory i      ON i.film_id = f.film_id\n",
    "    LEFT JOIN rental r    ON r.inventory_id = i.inventory_id\n",
    "    GROUP BY f.film_id\n",
    "    ) t;\n",
    "\"\"\")\n",
    "db(\"\"\"\n",
    "    SELECT\n",
    "    t.title,\n",
    "    t.rental_count\n",
    "    FROM (\n",
    "    SELECT\n",
    "        f.film_id,\n",
    "        f.title,\n",
    "        COUNT(r.rental_id) AS rental_count\n",
    "    FROM film f\n",
    "    JOIN inventory i      ON i.film_id = f.film_id\n",
    "    LEFT JOIN rental r    ON r.inventory_id = i.inventory_id\n",
    "    GROUP BY f.film_id, f.title\n",
    "    ) t\n",
    "    WHERE t.rental_count > (\n",
    "    SELECT\n",
    "        AVG(rental_count)\n",
    "    FROM (\n",
    "        SELECT\n",
    "        f.film_id,\n",
    "        COUNT(r.rental_id) AS rental_count\n",
    "        FROM film f\n",
    "        JOIN inventory i      ON i.film_id = f.film_id\n",
    "        LEFT JOIN rental r    ON r.inventory_id = i.inventory_id\n",
    "        GROUP BY f.film_id\n",
    "    ) x\n",
    "    )\n",
    "    ORDER BY t.rental_count DESC, t.title ASC;\n",
    "\"\"\")\n",
    "db(\"\"\"\n",
    "-- SUA QUERY AQUI!\n",
    "\"\"\")"
   ]
  },
  {
   "cell_type": "markdown",
   "metadata": {
    "tags": []
   },
   "source": [
    "## Views\n",
    "\n",
    "Uma *view* é uma tabela virtual, construida a partir de um comando `SELECT`. Por exemplo: execute o código a seguir."
   ]
  },
  {
   "cell_type": "code",
   "execution_count": null,
   "metadata": {},
   "outputs": [],
   "source": [
    "db(\"\"\"\n",
    "DROP VIEW IF EXISTS movie_count;\n",
    "\"\"\")\n",
    "\n",
    "db(\"\"\"\n",
    "CREATE VIEW movie_count AS\n",
    "    SELECT \n",
    "        title, COUNT(rental_id) as cnt\n",
    "    FROM\n",
    "        film\n",
    "        LEFT OUTER JOIN inventory USING (film_id)\n",
    "        LEFT OUTER JOIN rental USING (inventory_id)\n",
    "    GROUP BY\n",
    "        film_id\n",
    "    ORDER BY\n",
    "        cnt ASC;\n",
    "\"\"\")"
   ]
  },
  {
   "cell_type": "markdown",
   "metadata": {},
   "source": [
    "Agora temos uma *view* chamada `movie_count`. Vamos verificar que ela funcionou, listando as 30 primeiras linhas:"
   ]
  },
  {
   "cell_type": "code",
   "execution_count": null,
   "metadata": {},
   "outputs": [],
   "source": [
    "db(\"\"\"\n",
    "SELECT \n",
    "    *\n",
    "FROM\n",
    "    movie_count \n",
    "LIMIT \n",
    "    30\n",
    "\"\"\")"
   ]
  },
  {
   "cell_type": "code",
   "execution_count": null,
   "metadata": {},
   "outputs": [],
   "source": [
    "db(\"\"\"\n",
    "SELECT \n",
    "    * \n",
    "FROM \n",
    "    movie_count \n",
    "ORDER BY\n",
    "    cnt DESC\n",
    "LIMIT 30\n",
    "\"\"\")"
   ]
  },
  {
   "cell_type": "markdown",
   "metadata": {},
   "source": [
    "Agora suponha que alteramos a tabela `film`, mudando o nome do filme \"DAZED PUNK\" para \"STONED PUNK\".\n",
    "\n",
    "**Atividade**: Do it."
   ]
  },
  {
   "cell_type": "code",
   "execution_count": null,
   "metadata": {},
   "outputs": [],
   "source": [
    "db(\"\"\"\n",
    "    UPDATE film\n",
    "    SET title = 'STONED PUNK'\n",
    "    WHERE title = 'DAZED PUNK';\n",
    "\"\"\")"
   ]
  },
  {
   "cell_type": "markdown",
   "metadata": {},
   "source": [
    "Verifique agora a nossa *view*:"
   ]
  },
  {
   "cell_type": "code",
   "execution_count": null,
   "metadata": {},
   "outputs": [],
   "source": [
    "db(\"\"\"\n",
    "SELECT\n",
    "    *\n",
    "FROM\n",
    "    movie_count\n",
    "LIMIT\n",
    "    30\n",
    "\"\"\")"
   ]
  },
  {
   "cell_type": "markdown",
   "metadata": {},
   "source": [
    "Como você pode ver, as views são tabelas virtuais que são **automaticamente atualizadas quando as tabelas originais são modificadas**.\n",
    "\n",
    "Sempre que você realizar modificações nos dados, dê `commit` ou `rollback`. Ainda, evite executar múltiplas vezes as linhas de código que criem a conexão sem antes ter fechado a conexão ativa.\n",
    "\n",
    "Vamos desfazer as alterações:"
   ]
  },
  {
   "cell_type": "code",
   "execution_count": null,
   "metadata": {},
   "outputs": [],
   "source": [
    "connection.rollback()"
   ]
  },
  {
   "cell_type": "markdown",
   "metadata": {},
   "source": [
    "Conferindo:"
   ]
  },
  {
   "cell_type": "code",
   "execution_count": null,
   "metadata": {},
   "outputs": [],
   "source": [
    "db(\"\"\"\n",
    "SELECT\n",
    "    *\n",
    "FROM\n",
    "    movie_count\n",
    "LIMIT\n",
    "    30\n",
    "\"\"\")"
   ]
  },
  {
   "cell_type": "markdown",
   "metadata": {},
   "source": [
    "### Vamos praticar"
   ]
  },
  {
   "cell_type": "markdown",
   "metadata": {},
   "source": [
    "Verifique quantas vezes o filme \"COWBOY DOOM\" foi alugado usando a view `movie_count`"
   ]
  },
  {
   "cell_type": "code",
   "execution_count": 21,
   "metadata": {},
   "outputs": [],
   "source": [
    "sql_ex03 = \"\"\"\n",
    "    SELECT cnt\n",
    "    FROM movie_count\n",
    "    WHERE title = 'COWBOY DOOM';\n",
    "\"\"\"\n",
    "\n",
    "# db(sql_ex03)"
   ]
  },
  {
   "cell_type": "code",
   "execution_count": 22,
   "metadata": {},
   "outputs": [
    {
     "data": {
      "application/vnd.jupyter.widget-view+json": {
       "model_id": "91f996a3413b44ce9bf5f871fe235e77",
       "version_major": 2,
       "version_minor": 0
      },
      "text/plain": [
       "interactive(children=(Button(description='Enviar ex03', style=ButtonStyle()), Output()), _dom_classes=('widget…"
      ]
     },
     "metadata": {},
     "output_type": "display_data"
    }
   ],
   "source": [
    "ia.sender(answer=\"sql_ex03\", task=\"views\", question=\"ex03\", answer_type=\"pyvar\")"
   ]
  },
  {
   "cell_type": "markdown",
   "metadata": {},
   "source": [
    "Registre, na loja id=1, um aluguel do filme `\"COWBOY DOOM\"` (com o menor id possível), feito pelo funcionario \"Jon Stephens\" para o cliente \"JESSIE BANKS\", na data '2019-01-01', com data de retorno '2019-01-08'.\n",
    "\n",
    "**Dicas**:\n",
    "\n",
    "- Utilize `DESCRIBE` para descobrir se o `rental_id` precisa ser informado ou se é autoincremento (se for autoincremento, ele já receberá automaticamente o menor id possível)ç\n",
    "- Será necessário utilizar `SELECT` com `LIMIT 1` para buscar os **ids** do funcionário e inventário do filme."
   ]
  },
  {
   "cell_type": "code",
   "execution_count": 23,
   "metadata": {},
   "outputs": [],
   "source": [
    "sql_ex04 = \"\"\"\n",
    "    INSERT INTO rental (rental_date, inventory_id, customer_id, return_date, staff_id)\n",
    "    SELECT\n",
    "    '2019-01-01',                                                                 -- rental_date (use DATETIME se preferir: '2019-01-01 00:00:00')\n",
    "    (\n",
    "        SELECT i.inventory_id\n",
    "        FROM inventory i\n",
    "        JOIN film f USING (film_id)\n",
    "        WHERE UPPER(f.title) = 'COWBOY DOOM'  -- filme\n",
    "        AND i.store_id = 1                  -- loja\n",
    "        ORDER BY i.inventory_id ASC           -- “menor id possível”\n",
    "        LIMIT 1\n",
    "    ) AS inventory_id,\n",
    "    (\n",
    "        SELECT c.customer_id\n",
    "        FROM customer c\n",
    "        WHERE UPPER(c.first_name) = 'JESSIE'\n",
    "        AND UPPER(c.last_name)  = 'BANKS'\n",
    "        ORDER BY c.customer_id\n",
    "        LIMIT 1\n",
    "    ) AS customer_id,\n",
    "    '2019-01-08',                                                                 -- return_date (idem sobre DATETIME)\n",
    "    (\n",
    "        SELECT s.staff_id\n",
    "        FROM staff s\n",
    "        WHERE UPPER(s.first_name) = 'JON'\n",
    "        AND UPPER(s.last_name)  = 'STEPHENS'\n",
    "        ORDER BY s.staff_id\n",
    "        LIMIT 1\n",
    "    ) AS staff_id;\n",
    "\"\"\"\n",
    "\n",
    "# db(sql_ex04)"
   ]
  },
  {
   "cell_type": "code",
   "execution_count": null,
   "metadata": {},
   "outputs": [],
   "source": [
    "db(\"\"\"\n",
    "-- SUA QUERY AQUI CASO NECESSITE DE MAIS!\n",
    "-- Crie quantas forem necesárias!\n",
    "\"\"\")"
   ]
  },
  {
   "cell_type": "code",
   "execution_count": 24,
   "metadata": {},
   "outputs": [
    {
     "data": {
      "application/vnd.jupyter.widget-view+json": {
       "model_id": "0efc2aa39ed940b08b5c0bcb8f744eb7",
       "version_major": 2,
       "version_minor": 0
      },
      "text/plain": [
       "interactive(children=(Button(description='Enviar ex04', style=ButtonStyle()), Output()), _dom_classes=('widget…"
      ]
     },
     "metadata": {},
     "output_type": "display_data"
    }
   ],
   "source": [
    "ia.sender(answer=\"sql_ex04\", task=\"views\", question=\"ex04\", answer_type=\"pyvar\")"
   ]
  },
  {
   "cell_type": "markdown",
   "metadata": {},
   "source": [
    "Verifique usando a view que a contagem de alugueis do filme subiu."
   ]
  },
  {
   "cell_type": "code",
   "execution_count": null,
   "metadata": {},
   "outputs": [],
   "source": [
    "db(\"\"\"\n",
    "-- SUA QUERY AQUI!\n",
    "\"\"\")"
   ]
  },
  {
   "cell_type": "markdown",
   "metadata": {},
   "source": [
    "Faça o *rollback* desta alteração, para não modificar a nossa querida base de dados *sakila*."
   ]
  },
  {
   "cell_type": "code",
   "execution_count": null,
   "metadata": {},
   "outputs": [],
   "source": [
    "connection.rollback()"
   ]
  },
  {
   "cell_type": "markdown",
   "metadata": {},
   "source": [
    "## Tabelas temporárias"
   ]
  },
  {
   "cell_type": "markdown",
   "metadata": {},
   "source": [
    "Tabelas temporárias podem ser criadas para ajudar nas tarefas de manipulação de dados. Essas tabelas existem apenas pela duração da sessão. Para criar uma tabela temporária, basta adicionar a palavra-chave `TEMPORARY` no momento da criação.\n",
    "\n",
    "É comum criar tabelas temporárias à partir do resultado de comandos `SELECT`. Por exemplo, a seguinte query permite montar uma tabela temporária com os filmes que duram mais que 3 horas:"
   ]
  },
  {
   "cell_type": "code",
   "execution_count": null,
   "metadata": {},
   "outputs": [],
   "source": [
    "db(\"\"\"\n",
    "DROP TABLE IF EXISTS long_film\n",
    "\"\"\")\n",
    "\n",
    "db(\"\"\"\n",
    "CREATE TEMPORARY TABLE long_film \n",
    "    SELECT\n",
    "        *\n",
    "    FROM\n",
    "        film\n",
    "    WHERE\n",
    "        film.length > 180;\n",
    "\"\"\")"
   ]
  },
  {
   "cell_type": "markdown",
   "metadata": {},
   "source": [
    "Podemos verificar que a tabela `long_film` agora existe:"
   ]
  },
  {
   "cell_type": "code",
   "execution_count": null,
   "metadata": {
    "scrolled": true,
    "tags": []
   },
   "outputs": [],
   "source": [
    "db(\"DESCRIBE long_film\")"
   ]
  },
  {
   "cell_type": "code",
   "execution_count": null,
   "metadata": {},
   "outputs": [],
   "source": [
    "db(\"CALL sys.table_exists('sakila', 'long_film', @table_type);\")\n",
    "db(\"SELECT @table_type;\")"
   ]
  },
  {
   "cell_type": "markdown",
   "metadata": {},
   "source": [
    "Muito embora ela não apareça na lista de tabelas: isso é um bug do MySQL. (https://dev.mysql.com/worklog/task/?id=648)"
   ]
  },
  {
   "cell_type": "code",
   "execution_count": null,
   "metadata": {},
   "outputs": [],
   "source": [
    "db(\"SHOW TABLES\")"
   ]
  },
  {
   "cell_type": "markdown",
   "metadata": {},
   "source": [
    "Vamos listar o conteudo desta tabela:"
   ]
  },
  {
   "cell_type": "code",
   "execution_count": null,
   "metadata": {
    "tags": []
   },
   "outputs": [],
   "source": [
    "db(\"SELECT title FROM long_film\")"
   ]
  },
  {
   "cell_type": "markdown",
   "metadata": {},
   "source": [
    "Vamos apagar a tabela `long_film`:"
   ]
  },
  {
   "cell_type": "code",
   "execution_count": null,
   "metadata": {},
   "outputs": [],
   "source": [
    "db(\"DROP TABLE long_film\")"
   ]
  },
  {
   "cell_type": "markdown",
   "metadata": {},
   "source": [
    "### Vamos praticar"
   ]
  },
  {
   "cell_type": "markdown",
   "metadata": {},
   "source": [
    "- Crie uma tabela temporária `max_duration` que contém a duração máxima de filme para cada categoria. Apresente o id da categoria, seu nome e a duração máxima.\n",
    "\n",
    "**Obs**: Como nome das colunas, utilize (nesta ordem): `category_id`, `name`, `max_len`."
   ]
  },
  {
   "cell_type": "code",
   "execution_count": 25,
   "metadata": {},
   "outputs": [],
   "source": [
    "# Executamos o DROP apenas localmente, sem enviar ao servidor\n",
    "# db(\"DROP TABLE IF EXISTS max_duration\")\n",
    "\n",
    "sql_ex05 = \"\"\"\n",
    "    CREATE TEMPORARY TABLE max_duration\n",
    "    SELECT \n",
    "        c.category_id,\n",
    "        c.name,\n",
    "        MAX(f.length) AS max_len\n",
    "    FROM category c\n",
    "    JOIN film_category fc ON c.category_id = fc.category_id\n",
    "    JOIN film f          ON fc.film_id = f.film_id\n",
    "    GROUP BY c.category_id, c.name;\n",
    "\"\"\"\n",
    "\n",
    "# db(sql_ex05)"
   ]
  },
  {
   "cell_type": "code",
   "execution_count": 26,
   "metadata": {},
   "outputs": [
    {
     "data": {
      "application/vnd.jupyter.widget-view+json": {
       "model_id": "4154926324a449b08a349bf7545940fc",
       "version_major": 2,
       "version_minor": 0
      },
      "text/plain": [
       "interactive(children=(Button(description='Enviar ex05', style=ButtonStyle()), Output()), _dom_classes=('widget…"
      ]
     },
     "metadata": {},
     "output_type": "display_data"
    }
   ],
   "source": [
    "ia.sender(answer=\"sql_ex05\", task=\"views\", question=\"ex05\", answer_type=\"pyvar\")"
   ]
  },
  {
   "cell_type": "markdown",
   "metadata": {},
   "source": [
    " - Verifique a tabela."
   ]
  },
  {
   "cell_type": "code",
   "execution_count": null,
   "metadata": {},
   "outputs": [],
   "source": [
    "db(\"SELECT * FROM max_duration\")"
   ]
  },
  {
   "cell_type": "code",
   "execution_count": null,
   "metadata": {},
   "outputs": [],
   "source": [
    "db(\"DESCRIBE max_duration\")"
   ]
  },
  {
   "cell_type": "markdown",
   "metadata": {},
   "source": [
    "- Agora use a tabela temporária para construir uma consulta com as categorias e seus respectivos filmes mais longos:"
   ]
  },
  {
   "cell_type": "code",
   "execution_count": null,
   "metadata": {},
   "outputs": [
    {
     "name": "stdout",
     "output_type": "stream",
     "text": [
      "Executando query:\n",
      "(1, 'Action', 212, 'DARN FORRESTER', 185)\n",
      "(1, 'Action', 991, 'WORST BANGER', 185)\n",
      "(2, 'Animation', 349, 'GANGS PRIDE', 185)\n",
      "(2, 'Animation', 690, 'POND SEATTLE', 185)\n",
      "(3, 'Children', 344, 'FURY MURDER', 178)\n",
      "(3, 'Children', 993, 'WRONG BEHAVIOR', 178)\n",
      "(4, 'Classics', 180, 'CONSPIRACY SPIRIT', 184)\n",
      "(5, 'Comedy', 182, 'CONTROL ANTHEM', 185)\n",
      "(6, 'Documentary', 973, 'WIFE TURN', 183)\n",
      "(6, 'Documentary', 996, 'YOUNG LANGUAGE', 183)\n",
      "(7, 'Drama', 473, 'JACKET FRISCO', 181)\n",
      "(8, 'Family', 499, 'KING EVOLUTION', 184)\n",
      "(9, 'Foreign', 198, 'CRYSTAL BREAKING', 184)\n",
      "(9, 'Foreign', 821, 'SORORITY QUEEN', 184)\n",
      "(10, 'Games', 141, 'CHICAGO NORTH', 185)\n",
      "(11, 'Horror', 24, 'ANALYZE HOOSIERS', 181)\n",
      "(11, 'Horror', 535, 'LOVE SUICIDES', 181)\n",
      "(12, 'Music', 426, 'HOME PITY', 185)\n",
      "(13, 'New', 340, 'FRONTIER CABIN', 183)\n",
      "(14, 'Sci-Fi', 817, 'SOLDIERS EVOLUTION', 185)\n",
      "(15, 'Sports', 813, 'SMOOCHY CONTROL', 184)\n",
      "(16, 'Travel', 609, 'MUSCLE BRIGHT', 185)\n",
      "(16, 'Travel', 872, 'SWEET BROTHERHOOD', 185)\n"
     ]
    }
   ],
   "source": [
    "db(\"\"\"\n",
    "SELECT\n",
    "    fc.category_id,\n",
    "    md.name,\n",
    "    f.film_id,\n",
    "    f.title,\n",
    "    f.length\n",
    "FROM\n",
    "    film f\n",
    "    INNER JOIN film_category fc USING (film_id)\n",
    "    INNER JOIN max_duration md USING (category_id)\n",
    "WHERE\n",
    "    f.length = md.max_len\n",
    "\"\"\")"
   ]
  },
  {
   "cell_type": "markdown",
   "metadata": {},
   "source": [
    "- delete a tabela temporária"
   ]
  },
  {
   "cell_type": "code",
   "execution_count": null,
   "metadata": {},
   "outputs": [],
   "source": [
    "db(\"\"\"\n",
    "DROP TABLE max_duration\n",
    "\"\"\")"
   ]
  },
  {
   "cell_type": "markdown",
   "metadata": {
    "tags": []
   },
   "source": [
    "## Variáveis\n",
    "\n",
    "Podemos montar uma query que retorne um valor só e armazenar este valor em uma variável, para uso posterior em outras queries. Para isso vamos usar o prefixo '@' para indicar variáveis, e o comando `SELECT ... INTO`.\n",
    "\n",
    "Exemplo: quais são os filmes \"caros\" da nossa base sakila? Vamos descobrir quais filmes custam mais que um desvio padrão acima da média de preços de locação.\n",
    "\n",
    "Primeiro vamos calcular a média e o desvio padrão dos preços de aluguel:"
   ]
  },
  {
   "cell_type": "code",
   "execution_count": null,
   "metadata": {},
   "outputs": [],
   "source": [
    "db(\"\"\"\n",
    "SELECT \n",
    "    AVG(rental_rate), \n",
    "    STDDEV(rental_rate)\n",
    "INTO \n",
    "    @avg_rate, \n",
    "    @stddev_rate \n",
    "FROM\n",
    "    film;\n",
    "\"\"\")"
   ]
  },
  {
   "cell_type": "markdown",
   "metadata": {},
   "source": [
    "Note que a query não retorna um resultado: o resultado foi armazenado direto nas variáveis `@avg_rate` e `@stddev_rate`. Vamos usar um `SELECT` sem tabelas para ver o resultado:"
   ]
  },
  {
   "cell_type": "code",
   "execution_count": null,
   "metadata": {},
   "outputs": [],
   "source": [
    "db(\"SELECT @avg_rate, @stddev_rate\")"
   ]
  },
  {
   "cell_type": "markdown",
   "metadata": {},
   "source": [
    "Agora podemos selecionar os filmes caros!"
   ]
  },
  {
   "cell_type": "code",
   "execution_count": null,
   "metadata": {
    "tags": []
   },
   "outputs": [],
   "source": [
    "db(\"\"\"\n",
    "SELECT \n",
    "    title, rental_rate\n",
    "FROM\n",
    "    film\n",
    "WHERE\n",
    "    rental_rate > @avg_rate + @stddev_rate\n",
    "LIMIT 10\n",
    "\"\"\")"
   ]
  },
  {
   "cell_type": "markdown",
   "metadata": {},
   "source": [
    "### Vamos praticar"
   ]
  },
  {
   "cell_type": "markdown",
   "metadata": {},
   "source": [
    "Armazene na variável temporária `max_films` a quantidade de filmes feitos pelo ator ou atriz que mais participou de filmes."
   ]
  },
  {
   "cell_type": "code",
   "execution_count": 27,
   "metadata": {},
   "outputs": [],
   "source": [
    "sql_ex06 = \"\"\"\n",
    "    SELECT MAX(film_count) INTO @max_films\n",
    "    FROM (\n",
    "        SELECT \n",
    "            fa.actor_id,\n",
    "            COUNT(fa.film_id) AS film_count\n",
    "        FROM film_actor fa\n",
    "        GROUP BY fa.actor_id\n",
    "    ) t;\n",
    "\"\"\"\n",
    "\n",
    "# db(sql_ex06)"
   ]
  },
  {
   "cell_type": "code",
   "execution_count": 28,
   "metadata": {},
   "outputs": [
    {
     "ename": "NameError",
     "evalue": "name 'db' is not defined",
     "output_type": "error",
     "traceback": [
      "\u001b[31m---------------------------------------------------------------------------\u001b[39m",
      "\u001b[31mNameError\u001b[39m                                 Traceback (most recent call last)",
      "\u001b[36mCell\u001b[39m\u001b[36m \u001b[39m\u001b[32mIn[28]\u001b[39m\u001b[32m, line 1\u001b[39m\n\u001b[32m----> \u001b[39m\u001b[32m1\u001b[39m \u001b[43mdb\u001b[49m(\u001b[33m\"\"\"\u001b[39m\n\u001b[32m      2\u001b[39m \u001b[33mSELECT @max_films\u001b[39m\n\u001b[32m      3\u001b[39m \u001b[33m\"\"\"\u001b[39m)\n",
      "\u001b[31mNameError\u001b[39m: name 'db' is not defined"
     ]
    }
   ],
   "source": [
    "db(\"\"\"\n",
    "SELECT @max_films\n",
    "\"\"\")"
   ]
  },
  {
   "cell_type": "code",
   "execution_count": 29,
   "metadata": {},
   "outputs": [
    {
     "data": {
      "application/vnd.jupyter.widget-view+json": {
       "model_id": "1a1364c2ef5b4df8964ee6dcf0a71406",
       "version_major": 2,
       "version_minor": 0
      },
      "text/plain": [
       "interactive(children=(Button(description='Enviar ex06', style=ButtonStyle()), Output()), _dom_classes=('widget…"
      ]
     },
     "metadata": {},
     "output_type": "display_data"
    }
   ],
   "source": [
    "ia.sender(answer=\"sql_ex06\", task=\"views\", question=\"ex06\", answer_type=\"pyvar\")"
   ]
  },
  {
   "cell_type": "markdown",
   "metadata": {},
   "source": [
    "## Operador `IN`"
   ]
  },
  {
   "cell_type": "markdown",
   "metadata": {},
   "source": [
    "Suponha que desejamos listar todos os filmes dos 3 atores mais populares. Podemos começar listando os 3 atores mais populares:"
   ]
  },
  {
   "cell_type": "code",
   "execution_count": null,
   "metadata": {},
   "outputs": [],
   "source": [
    "db(\"\"\"\n",
    "SELECT \n",
    "    actor_id, first_name, last_name, COUNT(film_id) AS num_films\n",
    "FROM\n",
    "    actor\n",
    "    INNER JOIN film_actor USING (actor_id)\n",
    "GROUP BY \n",
    "    actor_id\n",
    "ORDER BY \n",
    "    num_films DESC\n",
    "LIMIT 3\n",
    "\"\"\")"
   ]
  },
  {
   "cell_type": "markdown",
   "metadata": {},
   "source": [
    "Vamos criar uma tabela temporária para guardar a informação de `actor_id` desses atores:"
   ]
  },
  {
   "cell_type": "code",
   "execution_count": null,
   "metadata": {},
   "outputs": [],
   "source": [
    "db(\"DROP TABLE IF EXISTS temp_pop_actors\")\n",
    "db(\"\"\"\n",
    "CREATE TEMPORARY TABLE temp_pop_actors\n",
    "    SELECT first_name, last_name, actor_id FROM\n",
    "        actor\n",
    "        INNER JOIN film_actor USING (actor_id)\n",
    "    GROUP BY \n",
    "        actor_id\n",
    "    ORDER BY \n",
    "        COUNT(film_id) DESC\n",
    "    LIMIT 3\n",
    "\"\"\")\n",
    "db(\"\"\"\n",
    "SELECT * from temp_pop_actors\n",
    "\"\"\")"
   ]
  },
  {
   "cell_type": "markdown",
   "metadata": {},
   "source": [
    "Por fim, vamos usar essa informação para listar os filmes dos atores populares:"
   ]
  },
  {
   "cell_type": "code",
   "execution_count": null,
   "metadata": {},
   "outputs": [],
   "source": [
    "db(\"\"\"\n",
    "SELECT DISTINCT\n",
    "    title\n",
    "FROM\n",
    "    film\n",
    "    INNER JOIN film_actor USING (film_id)\n",
    "WHERE\n",
    "    actor_id IN (SELECT actor_id FROM temp_pop_actors);\n",
    "\"\"\")"
   ]
  },
  {
   "cell_type": "markdown",
   "metadata": {},
   "source": [
    "Note o uso de *subqueries*!\n",
    "\n",
    "Não se esqueça de limpar tudo no final!"
   ]
  },
  {
   "cell_type": "code",
   "execution_count": null,
   "metadata": {},
   "outputs": [],
   "source": [
    "db(\"DROP TABLE temp_pop_actors\")"
   ]
  },
  {
   "cell_type": "markdown",
   "metadata": {},
   "source": [
    "### Vamos praticar"
   ]
  },
  {
   "cell_type": "markdown",
   "metadata": {},
   "source": [
    "Liste os atores (id, nome e sobrenome) que participaram dos 3 filmes mais rentáveis (aqueles que mais geraram receita para a locadora) ordenados pelo id do ator de modo crescente. Para isso, crie uma tabela temporária contendo o id do filme e a quantia total e use essa tabela para listar os atores."
   ]
  },
  {
   "cell_type": "code",
   "execution_count": null,
   "metadata": {},
   "outputs": [],
   "source": [
    "db(\"\"\"\n",
    "-- SUA QUERY CRIA a tabela temporaria AQUI!\n",
    "\"\"\")\n",
    "db(\"\"\"\n",
    "-- SUA QUERY que UTILIZA a tabela temporaria AQUI!\n",
    "\"\"\")"
   ]
  },
  {
   "cell_type": "code",
   "execution_count": 33,
   "metadata": {},
   "outputs": [
    {
     "data": {
      "application/vnd.jupyter.widget-view+json": {
       "model_id": "e98339ede25f4c6d827665b8abba93ab",
       "version_major": 2,
       "version_minor": 0
      },
      "text/plain": [
       "interactive(children=(Button(description='Enviar ex07', style=ButtonStyle()), Output()), _dom_classes=('widget…"
      ]
     },
     "metadata": {},
     "output_type": "display_data"
    }
   ],
   "source": [
    "sql_ex07 = [\"\"\"\n",
    "    CREATE TEMPORARY TABLE film_revenue AS\n",
    "    SELECT \n",
    "        i.film_id,\n",
    "        SUM(p.amount) AS total_amount\n",
    "    FROM payment p\n",
    "    JOIN rental   r ON p.rental_id   = r.rental_id\n",
    "    JOIN inventory i ON r.inventory_id = i.inventory_id\n",
    "    GROUP BY i.film_id\n",
    "    ORDER BY total_amount DESC\n",
    "    LIMIT 3;\n",
    "\"\"\",\n",
    "\"\"\"\n",
    "    SELECT DISTINCT\n",
    "        a.actor_id,\n",
    "        a.first_name,\n",
    "        a.last_name\n",
    "    FROM actor a\n",
    "    JOIN film_actor fa ON fa.actor_id = a.actor_id\n",
    "    WHERE fa.film_id IN (SELECT film_id FROM film_revenue)\n",
    "    ORDER BY a.actor_id ASC;\n",
    "\"\"\"]\n",
    "\n",
    "ia.sender(answer=\"sql_ex07\", task=\"views\", question=\"ex07\", answer_type=\"pyvar\")"
   ]
  },
  {
   "cell_type": "markdown",
   "metadata": {},
   "source": [
    "## Subqueries"
   ]
  },
  {
   "cell_type": "markdown",
   "metadata": {},
   "source": [
    "Os tópicos discutidos acima poderiam ser resolvidos, em grande parte, com subqueries. As subqueries são queries `SELECT` criadas dentro de outras queries. \n",
    "\n",
    "Poderíamos ter usado subqueries nos mesmos lugares onde usamos tabelas temporárias, nos tópicos acima. Quando a subquery pode ser transformada em uma tabela temporária independente, separada da query exterior, dizemos que a subquery é **não-correlacionada** com a query exterior.\n",
    "\n",
    "Usar subqueries não-correlacionadas é um tópico controverso: podemos sempre usar uma tabela temporária ou, ás vezes, pensar em um `JOIN` simples. Aliás, muitas vezes o otimizador de queries do banco de dados transformará a subquery em `JOIN`, se isso for vantajoso em termos de desempenho.\n",
    "\n",
    "Uma subquery que depende da query externa (e portanto não pode ser separada em uma tabela temporária independente) é chamada de **subquery correlacionada**. Nestes casos podemos ter que executar a subquery para cada linha da query exterior! "
   ]
  },
  {
   "cell_type": "markdown",
   "metadata": {},
   "source": [
    "### Exemplo 1 (subquery)\n",
    "\n",
    "Query para retornar o autor e a quantidade de músicas vinculadas a cada autor.\n",
    "\n",
    "```sql\n",
    "USE musica;\n",
    "```\n",
    "\n",
    "- Versão **sem subquery**:\n",
    "\n",
    "```sql\n",
    "SELECT \n",
    "    a.Nome_Autor, COUNT(*) qtde_musicas\n",
    "FROM\n",
    "    AUTOR a\n",
    "        INNER JOIN\n",
    "    MUSICA_AUTOR ma USING (Codigo_Autor)\n",
    "GROUP BY Codigo_Autor;\n",
    "```\n",
    "\n",
    "- Versão **com subquery**:\n",
    "\n",
    "```sql\n",
    "SELECT \n",
    "    a.Nome_Autor,\n",
    "    (SELECT \n",
    "            COUNT(*)\n",
    "        FROM\n",
    "            MUSICA_AUTOR ma\n",
    "        WHERE\n",
    "            ma.Codigo_Autor = a.Codigo_Autor) qtde_musicas\n",
    "FROM\n",
    "    AUTOR a;\n",
    "```"
   ]
  },
  {
   "cell_type": "markdown",
   "metadata": {},
   "source": [
    "### Exemplo 2 (subquery)\n",
    "\n",
    "Query para retornar o autor e a média de duração de suas músicas, apenas para as músicas que possuem `a` em seu título e, então, filtrar apenas os autores com duração média entre `3.5` e `3.8`.\n",
    "\n",
    "```sql\n",
    "USE musica;\n",
    "```\n",
    "\n",
    "- Versão **sem subquery** usando `HAVING`:\n",
    "\n",
    "```sql\n",
    "SELECT \n",
    "    a.Nome_Autor AS nome, AVG(m.Duracao) AS duracao_media\n",
    "FROM\n",
    "    MUSICA AS m\n",
    "        INNER JOIN\n",
    "    MUSICA_AUTOR AS ma USING (Codigo_Musica)\n",
    "        INNER JOIN\n",
    "    AUTOR AS a USING (Codigo_Autor)\n",
    "WHERE\n",
    "    m.Nome_Musica LIKE '%a%'\n",
    "GROUP BY a.Codigo_Autor\n",
    "HAVING AVG(m.Duracao) BETWEEN 3.5 AND 3.8\n",
    "ORDER BY duracao_media DESC;\n",
    "```\n",
    "\n",
    "- Versão **com subquery**:\n",
    "\n",
    "```sql\n",
    "SELECT \n",
    "    t.nome, t.duracao_media\n",
    "FROM -- Vamos utilizar subquery\n",
    "    (SELECT \n",
    "        a.Nome_Autor AS nome, AVG(m.Duracao) AS duracao_media\n",
    "    FROM\n",
    "        MUSICA AS m\n",
    "    INNER JOIN MUSICA_AUTOR AS ma USING (Codigo_Musica)\n",
    "    INNER JOIN AUTOR AS a USING (Codigo_Autor)\n",
    "    WHERE\n",
    "        m.Nome_Musica LIKE '%a%'\n",
    "    GROUP BY a.Codigo_Autor\n",
    "    ORDER BY duracao_media DESC) AS t -- Vamos criar um alias para a nossa subquery\n",
    "WHERE\n",
    "    t.duracao_media BETWEEN 3.5 AND 3.8;\n",
    "```"
   ]
  },
  {
   "cell_type": "markdown",
   "metadata": {},
   "source": [
    "### Vamos praticar"
   ]
  },
  {
   "cell_type": "markdown",
   "metadata": {},
   "source": [
    "Vamos refazer a atividade dos atores dos filmes mais rentáveis, usando subqueries. \n",
    "\n",
    "Temos um problema: o MySQL não suporta ``LIMIT`` em subqueries com o operador ``IN``. Vamos investigar isso mais de perto. \n",
    "\n",
    "Em primeiro lugar faça uma tradução direta da implementação da atividade anterior trocando tabela temporária por subquery."
   ]
  },
  {
   "cell_type": "code",
   "execution_count": null,
   "metadata": {},
   "outputs": [],
   "source": [
    "try:\n",
    "    db(\"\"\"\n",
    "-- SUA QUERY AQUI!\n",
    "    \"\"\")\n",
    "except mysql.connector.ProgrammingError as e:\n",
    "    print(f\"ProgrammingError: {e}\")"
   ]
  },
  {
   "cell_type": "markdown",
   "metadata": {},
   "source": [
    "Ok, apareceu o problema. Mas considere que o problema original não precisava de IN desde o começo! Construa essa solução."
   ]
  },
  {
   "cell_type": "code",
   "execution_count": 34,
   "metadata": {},
   "outputs": [],
   "source": [
    "sql_ex08 = \"\"\"\n",
    "    SELECT DISTINCT\n",
    "        a.actor_id,\n",
    "        a.first_name,\n",
    "        a.last_name\n",
    "    FROM actor a\n",
    "    JOIN film_actor fa ON fa.actor_id = a.actor_id\n",
    "    JOIN (\n",
    "        /* Top 3 filmes por receita (subquery) */\n",
    "        SELECT i.film_id\n",
    "        FROM payment p\n",
    "        JOIN rental   r ON r.rental_id   = p.rental_id\n",
    "        JOIN inventory i ON i.inventory_id = r.inventory_id\n",
    "        GROUP BY i.film_id\n",
    "        ORDER BY SUM(p.amount) DESC\n",
    "        LIMIT 3\n",
    "    ) top3 ON top3.film_id = fa.film_id\n",
    "    ORDER BY a.actor_id ASC;\n",
    "\"\"\"\n",
    "\n",
    "# db(sql_ex08)"
   ]
  },
  {
   "cell_type": "code",
   "execution_count": 35,
   "metadata": {},
   "outputs": [
    {
     "data": {
      "application/vnd.jupyter.widget-view+json": {
       "model_id": "52ec1ea248ce460aa7563e81d21674c9",
       "version_major": 2,
       "version_minor": 0
      },
      "text/plain": [
       "interactive(children=(Button(description='Enviar ex08', style=ButtonStyle()), Output()), _dom_classes=('widget…"
      ]
     },
     "metadata": {},
     "output_type": "display_data"
    }
   ],
   "source": [
    "ia.sender(answer=\"sql_ex08\", task=\"views\", question=\"ex08\", answer_type=\"pyvar\")"
   ]
  },
  {
   "cell_type": "markdown",
   "metadata": {},
   "source": [
    "# `UNION`\n",
    "\n",
    "Quando duas tabelas tem **EXATAMENTE** as mesmas colunas, podemos concatená-las e formar uma grande tabela unificada usando o operador `UNION`. Por exemplo: suponha que desejamos montar uma lista dos nomes e sobrenomes de todos os clientes E de todos os funcionários. Eis uma solução possível:"
   ]
  },
  {
   "cell_type": "code",
   "execution_count": null,
   "metadata": {},
   "outputs": [],
   "source": [
    "db(\"DROP TABLE IF EXISTS nomes_clientes\")\n",
    "db(\"\"\"\n",
    "CREATE TEMPORARY TABLE nomes_clientes \n",
    "    SELECT first_name, last_name FROM customer\n",
    "\"\"\")"
   ]
  },
  {
   "cell_type": "code",
   "execution_count": null,
   "metadata": {},
   "outputs": [],
   "source": [
    "db(\"DESCRIBE nomes_clientes\")\n",
    "db(\"SELECT * FROM nomes_clientes LIMIT 5\")"
   ]
  },
  {
   "cell_type": "code",
   "execution_count": null,
   "metadata": {},
   "outputs": [],
   "source": [
    "db(\"DROP TABLE IF EXISTS nomes_staff\")\n",
    "db(\"\"\"\n",
    "CREATE TEMPORARY TABLE nomes_staff \n",
    "    SELECT first_name, last_name FROM staff\n",
    "\"\"\")"
   ]
  },
  {
   "cell_type": "code",
   "execution_count": null,
   "metadata": {},
   "outputs": [],
   "source": [
    "db(\"DESCRIBE nomes_staff\")\n",
    "db(\"SELECT * FROM nomes_staff LIMIT 5\")"
   ]
  },
  {
   "cell_type": "code",
   "execution_count": null,
   "metadata": {},
   "outputs": [],
   "source": [
    "db(\"DROP TABLE IF EXISTS nomes_all\")\n",
    "db(\"\"\"\n",
    "CREATE TEMPORARY TABLE nomes_all \n",
    "    (SELECT * FROM nomes_staff)\n",
    "    UNION \n",
    "    (SELECT * FROM nomes_clientes)\n",
    "\"\"\")"
   ]
  },
  {
   "cell_type": "code",
   "execution_count": null,
   "metadata": {},
   "outputs": [],
   "source": [
    "db(\"DESCRIBE nomes_all\")\n",
    "db(\"SELECT * FROM nomes_all LIMIT 5\")"
   ]
  },
  {
   "cell_type": "code",
   "execution_count": null,
   "metadata": {},
   "outputs": [],
   "source": [
    "db(\"DROP TABLE IF EXISTS nomes_clientes\")\n",
    "db(\"DROP TABLE IF EXISTS nomes_staff\")\n",
    "db(\"DROP TABLE IF EXISTS nomes_all\")"
   ]
  },
  {
   "cell_type": "markdown",
   "metadata": {},
   "source": [
    "**Vamos praticar:** refaça o exemplo acima mas use *subqueries* ao invés de *temp tables*. Ordene de forma ascendente por first_name e last_name. Também é possível resolver apenas com união de `SELECT`s, sem *subquery*."
   ]
  },
  {
   "cell_type": "code",
   "execution_count": 37,
   "metadata": {},
   "outputs": [],
   "source": [
    "sql_ex09 = \"\"\"\n",
    "    SELECT first_name, last_name FROM customer\n",
    "    UNION\n",
    "    SELECT first_name, last_name FROM staff\n",
    "    ORDER BY first_name ASC, last_name ASC\n",
    "\"\"\"\n",
    "\n",
    "# db(sql_ex09)"
   ]
  },
  {
   "cell_type": "code",
   "execution_count": 38,
   "metadata": {},
   "outputs": [
    {
     "data": {
      "application/vnd.jupyter.widget-view+json": {
       "model_id": "39c1370af48c4be58c89821124af227e",
       "version_major": 2,
       "version_minor": 0
      },
      "text/plain": [
       "interactive(children=(Button(description='Enviar ex09', style=ButtonStyle()), Output()), _dom_classes=('widget…"
      ]
     },
     "metadata": {},
     "output_type": "display_data"
    }
   ],
   "source": [
    "ia.sender(answer=\"sql_ex09\", task=\"views\", question=\"ex09\", answer_type=\"pyvar\")"
   ]
  },
  {
   "cell_type": "markdown",
   "metadata": {},
   "source": [
    "## Desafios!"
   ]
  },
  {
   "cell_type": "markdown",
   "metadata": {},
   "source": [
    "Faça uma lista de filmes que tenham mais de dois atores cujo nome inicia com a mesma letra do título do filme! Apresente o nome e a quantidade de atores. Ordene pelo id do filme. Dica: Pesquise a função `LEFT`"
   ]
  },
  {
   "cell_type": "code",
   "execution_count": 39,
   "metadata": {},
   "outputs": [],
   "source": [
    "sql_ex10 = \"\"\"\n",
    "    SELECT \n",
    "        f.title AS film,\n",
    "        COUNT(*) AS actor_count\n",
    "    FROM film f\n",
    "    JOIN film_actor fa ON fa.film_id = f.film_id\n",
    "    JOIN actor a       ON a.actor_id = fa.actor_id\n",
    "    WHERE LEFT(UPPER(a.first_name), 1) = LEFT(UPPER(f.title), 1)\n",
    "    GROUP BY f.film_id, f.title\n",
    "    HAVING COUNT(*) > 2\n",
    "    ORDER BY f.film_id ASC;\n",
    "\"\"\"\n",
    "\n",
    "# db(sql_ex10)"
   ]
  },
  {
   "cell_type": "code",
   "execution_count": 40,
   "metadata": {},
   "outputs": [
    {
     "data": {
      "application/vnd.jupyter.widget-view+json": {
       "model_id": "886a278656bb43cdb76e65ea981b0c7b",
       "version_major": 2,
       "version_minor": 0
      },
      "text/plain": [
       "interactive(children=(Button(description='Enviar ex10', style=ButtonStyle()), Output()), _dom_classes=('widget…"
      ]
     },
     "metadata": {},
     "output_type": "display_data"
    }
   ],
   "source": [
    "ia.sender(answer=\"sql_ex10\", task=\"views\", question=\"ex10\", answer_type=\"pyvar\")"
   ]
  },
  {
   "cell_type": "markdown",
   "metadata": {},
   "source": [
    "Semana do \"DAN HARRIS\": liste os clientes (nome e sobrenome) que nunca assistiram um filme do ator \"DAN HARRIS\" ou que já assistiram mas a ultima vez em que assistiram um filme dele foi antes de '2005-06-01'. Ordene pelo nome e sobrenome do cliente.\n",
    "\n",
    "Considerem que a pessoa pode ter assistido um filme de Dan Harris se:\n",
    "\n",
    "- Devolveu em 2005-06-01 ou depois\n",
    "- Alugou em 2005-06-01 ou depois\n",
    "- Alugou antes de 2005-06-01 e ainda não devolveu"
   ]
  },
  {
   "cell_type": "code",
   "execution_count": 43,
   "metadata": {},
   "outputs": [],
   "source": [
    "sql_ex11 = \"\"\"\n",
    "    SELECT \n",
    "        c.first_name,\n",
    "        c.last_name\n",
    "    FROM customer c\n",
    "    WHERE NOT EXISTS (\n",
    "        SELECT 1\n",
    "        FROM actor a\n",
    "        JOIN film_actor fa   ON fa.actor_id   = a.actor_id\n",
    "        JOIN inventory i     ON i.film_id     = fa.film_id\n",
    "        JOIN rental r        ON r.inventory_id = i.inventory_id\n",
    "        WHERE a.first_name = 'DAN'\n",
    "            AND a.last_name  = 'HARRIS'\n",
    "            AND r.customer_id = c.customer_id\n",
    "            AND (\n",
    "                r.rental_date >= '2005-06-01'         -- alugou em/apos 2005-06-01\n",
    "            OR r.return_date >= '2005-06-01'         -- devolveu em/apos 2005-06-01\n",
    "            OR (r.rental_date < '2005-06-01' AND r.return_date IS NULL)  -- alugou antes e não devolveu\n",
    "            )\n",
    "        )\n",
    "    ORDER BY c.first_name ASC, c.last_name ASC;\n",
    "\"\"\"\n",
    "# db(sql_ex11)"
   ]
  },
  {
   "cell_type": "code",
   "execution_count": 44,
   "metadata": {},
   "outputs": [
    {
     "data": {
      "application/vnd.jupyter.widget-view+json": {
       "model_id": "30f7b2ed085e4f28902030a337580338",
       "version_major": 2,
       "version_minor": 0
      },
      "text/plain": [
       "interactive(children=(Button(description='Enviar ex11', style=ButtonStyle()), Output()), _dom_classes=('widget…"
      ]
     },
     "metadata": {},
     "output_type": "display_data"
    }
   ],
   "source": [
    "ia.sender(answer=\"sql_ex11\", task=\"views\", question=\"ex11\", answer_type=\"pyvar\")"
   ]
  },
  {
   "cell_type": "markdown",
   "metadata": {},
   "source": [
    "- Faça uma consulta que retorne, para cada ator, a seguinte informação:\n",
    "\n",
    "| first_name | last_name | filmes por categoria |\n",
    "|--|--|--|\n",
    "| PENELOPE | GUINESS | Animation: ANACONDA CONFESSIONS; Children: LANGUAGE COWBOY; Classics: COLOR PHILADELPHIA, WESTWARD SEABISCUIT; Comedy: VERTIGO NORTHWEST; Documentary: ACADEMY DINOSAUR; Family: KING EVOLUTION, SPLASH GUMP; Foreign: MULHOLLAND BEAST; Games: BULWORTH COMMANDMENTS, HUMAN GRAFFITI; Horror: ELEPHANT TROJAN, LADY STAGE, RULES HUMAN; Music: WIZARD COLDBLOODED; New: ANGELS LIFE, OKLAHOMA JUMANJI; Sci-Fi: CHEAPER CLYDE; Sports: GLEAMING JAWBREAKER |\n",
    "| NICK | WAHLBERG | Action: BULL SHAWSHANK; Animation: FIGHT JAWBREAKER; Children: JERSEY SASSY; Classics: DRACULA CRYSTAL, GILBERT PELICAN; Comedy: MALLRATS UNITED, RUSHMORE MERMAID; Documentary: ADAPTATION HOLES; Drama: WARDROBE PHANTOM; Family: APACHE DIVINE, CHISUM BEHAVIOR, INDIAN LOVE, MAGUIRE APACHE; Foreign: BABY HALL, HAPPINESS UNITED; Games: ROOF CHAMPION; Music: LUCKY FLYING; New: DESTINY SATURDAY, FLASH WARS, JEKYLL FROGMEN, MASK PEACH; Sci-Fi: CHAINSAW UPTOWN, GOODFELLAS SALUTE; Travel: LIAISONS SWEET, SMILE EARRING |\n",
    "| etc | etc | etc |\n",
    "\n",
    "Ordene pelo nome e sobrenome do ator.\n",
    "\n",
    "Dica: use `GROUP_CONCAT` para agrupar todas as strings de uma coluna em uma string só, e `CONCAT` para unir strings particulares."
   ]
  },
  {
   "cell_type": "code",
   "execution_count": 45,
   "metadata": {},
   "outputs": [],
   "source": [
    "sql_ex12 = \"\"\"\n",
    "SELECT \n",
    "a.first_name,\n",
    "  a.last_name,\n",
    "  GROUP_CONCAT(t.cat_block ORDER BY t.category SEPARATOR '; ') AS `filmes por categoria`\n",
    "FROM actor a\n",
    "JOIN (\n",
    "  SELECT \n",
    "    fa.actor_id,\n",
    "    c.name AS category,\n",
    "    CONCAT(c.name, ': ', GROUP_CONCAT(DISTINCT f.title ORDER BY f.title SEPARATOR ', ')) AS cat_block\n",
    "  FROM film_actor fa\n",
    "  JOIN film f           ON f.film_id = fa.film_id\n",
    "  JOIN film_category fc ON fc.film_id = f.film_id\n",
    "  JOIN category c       ON c.category_id = fc.category_id\n",
    "  GROUP BY fa.actor_id, c.category_id, c.name\n",
    ") AS t\n",
    "  ON t.actor_id = a.actor_id\n",
    "GROUP BY a.actor_id, a.first_name, a.last_name\n",
    "ORDER BY a.first_name ASC, a.last_name ASC;\n",
    "\"\"\"\n",
    "\n",
    "# db(sql_ex12)"
   ]
  },
  {
   "cell_type": "code",
   "execution_count": 46,
   "metadata": {},
   "outputs": [
    {
     "data": {
      "application/vnd.jupyter.widget-view+json": {
       "model_id": "5dabe3fff50542b69bbdd9c85aaa51af",
       "version_major": 2,
       "version_minor": 0
      },
      "text/plain": [
       "interactive(children=(Button(description='Enviar ex12', style=ButtonStyle()), Output()), _dom_classes=('widget…"
      ]
     },
     "metadata": {},
     "output_type": "display_data"
    }
   ],
   "source": [
    "ia.sender(answer=\"sql_ex12\", task=\"views\", question=\"ex12\", answer_type=\"pyvar\")"
   ]
  },
  {
   "cell_type": "markdown",
   "metadata": {},
   "source": [
    "## Conclusão"
   ]
  },
  {
   "cell_type": "markdown",
   "metadata": {},
   "source": [
    "Façamos uma pausa para apreciar quão longe estamos: já conseguimos criar nossas tabelas, inserir informação, removê-la, atualizá-la, e consultar nossa base de maneiras bem sofisticadas! Vimos desde `SELECT` simples até buscas mais complexas envolvendo várias etapas de processamento para obter o dado desejado.\n",
    "\n",
    "Por hoje é só, feche sua conexão e bom descanso!"
   ]
  },
  {
   "cell_type": "code",
   "execution_count": null,
   "metadata": {},
   "outputs": [],
   "source": [
    "connection.close()"
   ]
  },
  {
   "cell_type": "markdown",
   "metadata": {},
   "source": [
    "## Conferir Notas\n",
    "\n",
    "Confira se as notas na atividade são as esperadas!\n",
    "\n",
    "Primeiro na atividade atual!"
   ]
  },
  {
   "cell_type": "code",
   "execution_count": 47,
   "metadata": {},
   "outputs": [
    {
     "data": {
      "text/markdown": [
       "|    | Tarefa   |   Nota | Conta como ATV?   |\n",
       "|---:|:---------|-------:|:------------------|\n",
       "|  0 | views    |     10 | Sim               |"
      ],
      "text/plain": [
       "<IPython.core.display.Markdown object>"
      ]
     },
     "metadata": {},
     "output_type": "display_data"
    }
   ],
   "source": [
    "ia.grades(by=\"TASK\", task=\"views\")"
   ]
  },
  {
   "cell_type": "code",
   "execution_count": 48,
   "metadata": {},
   "outputs": [
    {
     "data": {
      "text/markdown": [
       "|    | Atividade   | Exercício   |   Peso |   Nota |   Nota Sem Atraso |   Nota Com Atraso |\n",
       "|---:|:------------|:------------|-------:|-------:|------------------:|------------------:|\n",
       "|  0 | views       | ex01        |      1 |     10 |                10 |                 0 |\n",
       "|  1 | views       | ex02        |      1 |     10 |                10 |                 0 |\n",
       "|  2 | views       | ex03        |      1 |     10 |                10 |                 0 |\n",
       "|  3 | views       | ex04        |      1 |     10 |                10 |                 0 |\n",
       "|  4 | views       | ex05        |      1 |     10 |                10 |                 0 |\n",
       "|  5 | views       | ex06        |      1 |     10 |                10 |                 0 |\n",
       "|  6 | views       | ex07        |      1 |     10 |                10 |                 0 |\n",
       "|  7 | views       | ex08        |      1 |     10 |                10 |                 0 |\n",
       "|  8 | views       | ex09        |      1 |     10 |                10 |                 0 |\n",
       "|  9 | views       | ex10        |      1 |     10 |                10 |                 0 |\n",
       "| 10 | views       | ex11        |      1 |     10 |                10 |                 0 |\n",
       "| 11 | views       | ex12        |      1 |     10 |                10 |                 0 |"
      ],
      "text/plain": [
       "<IPython.core.display.Markdown object>"
      ]
     },
     "metadata": {},
     "output_type": "display_data"
    }
   ],
   "source": [
    "ia.grades(task=\"views\")"
   ]
  },
  {
   "cell_type": "code",
   "execution_count": 49,
   "metadata": {},
   "outputs": [
    {
     "data": {
      "text/markdown": [
       "|    | Tarefa       |   Nota | Conta como ATV?   |\n",
       "|---:|:-------------|-------:|:------------------|\n",
       "|  0 | newborn      |     10 | Não               |\n",
       "|  1 | select01     |     10 | Sim               |\n",
       "|  2 | ddl          |     10 | Sim               |\n",
       "|  3 | dml          |     10 | Sim               |\n",
       "|  4 | agg_join     |     10 | Sim               |\n",
       "|  5 | group_having |     10 | Sim               |\n",
       "|  6 | views        |     10 | Sim               |"
      ],
      "text/plain": [
       "<IPython.core.display.Markdown object>"
      ]
     },
     "metadata": {},
     "output_type": "display_data"
    }
   ],
   "source": [
    "ia.grades(by=\"task\")"
   ]
  },
  {
   "cell_type": "markdown",
   "metadata": {},
   "source": [
    "Média de ATV:"
   ]
  },
  {
   "cell_type": "code",
   "execution_count": 50,
   "metadata": {},
   "outputs": [
    {
     "data": {
      "text/markdown": [
       "|    |   Média de ATV |\n",
       "|---:|---------------:|\n",
       "|  0 |             10 |"
      ],
      "text/plain": [
       "<IPython.core.display.Markdown object>"
      ]
     },
     "metadata": {},
     "output_type": "display_data"
    }
   ],
   "source": [
    "# Média de ATV, dividindo por n-2\n",
    "ia.average(excluded_count=2)"
   ]
  }
 ],
 "metadata": {
  "kernelspec": {
   "display_name": "venv",
   "language": "python",
   "name": "python3"
  },
  "language_info": {
   "codemirror_mode": {
    "name": "ipython",
    "version": 3
   },
   "file_extension": ".py",
   "mimetype": "text/x-python",
   "name": "python",
   "nbconvert_exporter": "python",
   "pygments_lexer": "ipython3",
   "version": "3.11.4"
  }
 },
 "nbformat": 4,
 "nbformat_minor": 4
}
