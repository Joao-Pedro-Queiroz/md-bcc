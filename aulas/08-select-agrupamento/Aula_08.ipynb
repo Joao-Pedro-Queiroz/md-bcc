{
 "cells": [
  {
   "cell_type": "markdown",
   "metadata": {},
   "source": [
    "# Mais sobre `SELECT`: agrupamentos"
   ]
  },
  {
   "cell_type": "markdown",
   "metadata": {},
   "source": [
    "## Introdução"
   ]
  },
  {
   "cell_type": "markdown",
   "metadata": {},
   "source": [
    "Vamos continuar nossa investigação sobre o comando `SELECT`. Desta vez usaremos a base de dados `'sakila'`, uma famosa base de dados de teste construída pelos autores do MySQL. \n",
    "\n",
    "Abra a URL [**https://dev.mysql.com/doc/sakila/en/**](https://dev.mysql.com/doc/sakila/en/) para conhecer melhor esta base de dados, que modela uma locadora de DVDs (riam, vocês também serão velhos um dia!).\n",
    "\n",
    "Se você não possui esta base, siga as instruções de instalação na página ou faça o download direto pelo link [**https://downloads.mysql.com/docs/sakila-db.zip**](https://downloads.mysql.com/docs/sakila-db.zip)\n",
    "\n",
    "Vamos também construir nosso objeto auxiliar para conectar com a base de dados, como fizemos na última aula."
   ]
  },
  {
   "cell_type": "code",
   "execution_count": 1,
   "metadata": {
    "tags": []
   },
   "outputs": [
    {
     "ename": "ProgrammingError",
     "evalue": "1049 (42000): Unknown database 'sakila'",
     "output_type": "error",
     "traceback": [
      "\u001b[31m---------------------------------------------------------------------------\u001b[39m",
      "\u001b[31mMySQLInterfaceError\u001b[39m                       Traceback (most recent call last)",
      "\u001b[36mFile \u001b[39m\u001b[32mc:\\Users\\jpqv0\\VSCodeProjects\\Insper\\2025\\5-Semestre\\Megadados\\md-bcc\\venv\\Lib\\site-packages\\mysql\\connector\\connection_cext.py:323\u001b[39m, in \u001b[36mCMySQLConnection._open_connection\u001b[39m\u001b[34m(self)\u001b[39m\n\u001b[32m    322\u001b[39m \u001b[38;5;28;01mtry\u001b[39;00m:\n\u001b[32m--> \u001b[39m\u001b[32m323\u001b[39m     \u001b[38;5;28;43mself\u001b[39;49m\u001b[43m.\u001b[49m\u001b[43m_cmysql\u001b[49m\u001b[43m.\u001b[49m\u001b[43mconnect\u001b[49m\u001b[43m(\u001b[49m\u001b[43m*\u001b[49m\u001b[43m*\u001b[49m\u001b[43mcnx_kwargs\u001b[49m\u001b[43m)\u001b[49m\n\u001b[32m    324\u001b[39m     \u001b[38;5;28mself\u001b[39m._cmysql.converter_str_fallback = \u001b[38;5;28mself\u001b[39m._converter_str_fallback\n",
      "\u001b[31mMySQLInterfaceError\u001b[39m: Unknown database 'sakila'",
      "\nThe above exception was the direct cause of the following exception:\n",
      "\u001b[31mProgrammingError\u001b[39m                          Traceback (most recent call last)",
      "\u001b[36mCell\u001b[39m\u001b[36m \u001b[39m\u001b[32mIn[1]\u001b[39m\u001b[32m, line 9\u001b[39m\n\u001b[32m      5\u001b[39m \u001b[38;5;28;01mimport\u001b[39;00m\u001b[38;5;250m \u001b[39m\u001b[34;01mos\u001b[39;00m\n\u001b[32m      7\u001b[39m load_dotenv(override=\u001b[38;5;28;01mTrue\u001b[39;00m)\n\u001b[32m----> \u001b[39m\u001b[32m9\u001b[39m connection = \u001b[43mmysql\u001b[49m\u001b[43m.\u001b[49m\u001b[43mconnector\u001b[49m\u001b[43m.\u001b[49m\u001b[43mconnect\u001b[49m\u001b[43m(\u001b[49m\n\u001b[32m     10\u001b[39m \u001b[43m    \u001b[49m\u001b[43mhost\u001b[49m\u001b[43m=\u001b[49m\u001b[43mos\u001b[49m\u001b[43m.\u001b[49m\u001b[43mgetenv\u001b[49m\u001b[43m(\u001b[49m\u001b[33;43m\"\u001b[39;49m\u001b[33;43mMD_DB_SERVER\u001b[39;49m\u001b[33;43m\"\u001b[39;49m\u001b[43m)\u001b[49m\u001b[43m,\u001b[49m\n\u001b[32m     11\u001b[39m \u001b[43m    \u001b[49m\u001b[43muser\u001b[49m\u001b[43m=\u001b[49m\u001b[43mos\u001b[49m\u001b[43m.\u001b[49m\u001b[43mgetenv\u001b[49m\u001b[43m(\u001b[49m\u001b[33;43m\"\u001b[39;49m\u001b[33;43mMD_DB_USERNAME\u001b[39;49m\u001b[33;43m\"\u001b[39;49m\u001b[43m)\u001b[49m\u001b[43m,\u001b[49m\n\u001b[32m     12\u001b[39m \u001b[43m    \u001b[49m\u001b[43mpassword\u001b[49m\u001b[43m=\u001b[49m\u001b[43mos\u001b[49m\u001b[43m.\u001b[49m\u001b[43mgetenv\u001b[49m\u001b[43m(\u001b[49m\u001b[33;43m\"\u001b[39;49m\u001b[33;43mMD_DB_PASSWORD\u001b[39;49m\u001b[33;43m\"\u001b[39;49m\u001b[43m)\u001b[49m\u001b[43m,\u001b[49m\n\u001b[32m     13\u001b[39m \u001b[43m    \u001b[49m\u001b[43mport\u001b[49m\u001b[43m=\u001b[49m\u001b[38;5;28;43mint\u001b[39;49m\u001b[43m(\u001b[49m\u001b[43mos\u001b[49m\u001b[43m.\u001b[49m\u001b[43mgetenv\u001b[49m\u001b[43m(\u001b[49m\u001b[33;43m\"\u001b[39;49m\u001b[33;43mMD_DB_PORT\u001b[39;49m\u001b[33;43m\"\u001b[39;49m\u001b[43m,\u001b[49m\u001b[43m \u001b[49m\u001b[32;43m3306\u001b[39;49m\u001b[43m)\u001b[49m\u001b[43m)\u001b[49m\u001b[43m,\u001b[49m\n\u001b[32m     14\u001b[39m \u001b[43m    \u001b[49m\u001b[43mdatabase\u001b[49m\u001b[43m=\u001b[49m\u001b[33;43m\"\u001b[39;49m\u001b[33;43msakila\u001b[39;49m\u001b[33;43m\"\u001b[39;49m\n\u001b[32m     15\u001b[39m \u001b[43m)\u001b[49m\n\u001b[32m     17\u001b[39m \u001b[38;5;28;01mdef\u001b[39;00m\u001b[38;5;250m \u001b[39m\u001b[34mrun_db_query\u001b[39m(connection, query, args=\u001b[38;5;28;01mNone\u001b[39;00m):\n\u001b[32m     18\u001b[39m     \u001b[38;5;28;01mwith\u001b[39;00m connection.cursor() \u001b[38;5;28;01mas\u001b[39;00m cursor:\n",
      "\u001b[36mFile \u001b[39m\u001b[32mc:\\Users\\jpqv0\\VSCodeProjects\\Insper\\2025\\5-Semestre\\Megadados\\md-bcc\\venv\\Lib\\site-packages\\mysql\\connector\\pooling.py:322\u001b[39m, in \u001b[36mconnect\u001b[39m\u001b[34m(*args, **kwargs)\u001b[39m\n\u001b[32m    319\u001b[39m         \u001b[38;5;28;01mraise\u001b[39;00m \u001b[38;5;167;01mImportError\u001b[39;00m(ERROR_NO_CEXT)\n\u001b[32m    321\u001b[39m \u001b[38;5;28;01mif\u001b[39;00m CMySQLConnection \u001b[38;5;129;01mand\u001b[39;00m \u001b[38;5;129;01mnot\u001b[39;00m use_pure:\n\u001b[32m--> \u001b[39m\u001b[32m322\u001b[39m     \u001b[38;5;28;01mreturn\u001b[39;00m \u001b[43mCMySQLConnection\u001b[49m\u001b[43m(\u001b[49m\u001b[43m*\u001b[49m\u001b[43margs\u001b[49m\u001b[43m,\u001b[49m\u001b[43m \u001b[49m\u001b[43m*\u001b[49m\u001b[43m*\u001b[49m\u001b[43mkwargs\u001b[49m\u001b[43m)\u001b[49m\n\u001b[32m    323\u001b[39m \u001b[38;5;28;01mreturn\u001b[39;00m MySQLConnection(*args, **kwargs)\n",
      "\u001b[36mFile \u001b[39m\u001b[32mc:\\Users\\jpqv0\\VSCodeProjects\\Insper\\2025\\5-Semestre\\Megadados\\md-bcc\\venv\\Lib\\site-packages\\mysql\\connector\\connection_cext.py:140\u001b[39m, in \u001b[36mCMySQLConnection.__init__\u001b[39m\u001b[34m(self, **kwargs)\u001b[39m\n\u001b[32m    138\u001b[39m \u001b[38;5;28;01mif\u001b[39;00m kwargs:\n\u001b[32m    139\u001b[39m     \u001b[38;5;28;01mtry\u001b[39;00m:\n\u001b[32m--> \u001b[39m\u001b[32m140\u001b[39m         \u001b[38;5;28;43mself\u001b[39;49m\u001b[43m.\u001b[49m\u001b[43mconnect\u001b[49m\u001b[43m(\u001b[49m\u001b[43m*\u001b[49m\u001b[43m*\u001b[49m\u001b[43mkwargs\u001b[49m\u001b[43m)\u001b[49m\n\u001b[32m    141\u001b[39m     \u001b[38;5;28;01mexcept\u001b[39;00m \u001b[38;5;167;01mException\u001b[39;00m:\n\u001b[32m    142\u001b[39m         \u001b[38;5;28mself\u001b[39m.close()\n",
      "\u001b[36mFile \u001b[39m\u001b[32mc:\\Users\\jpqv0\\VSCodeProjects\\Insper\\2025\\5-Semestre\\Megadados\\md-bcc\\venv\\Lib\\site-packages\\mysql\\connector\\abstracts.py:1363\u001b[39m, in \u001b[36mMySQLConnectionAbstract.connect\u001b[39m\u001b[34m(self, **kwargs)\u001b[39m\n\u001b[32m   1360\u001b[39m     \u001b[38;5;28mself\u001b[39m.config(**kwargs)\n\u001b[32m   1362\u001b[39m \u001b[38;5;28mself\u001b[39m.disconnect()\n\u001b[32m-> \u001b[39m\u001b[32m1363\u001b[39m \u001b[38;5;28;43mself\u001b[39;49m\u001b[43m.\u001b[49m\u001b[43m_open_connection\u001b[49m\u001b[43m(\u001b[49m\u001b[43m)\u001b[49m\n\u001b[32m   1365\u001b[39m charset, collation = (\n\u001b[32m   1366\u001b[39m     kwargs.pop(\u001b[33m\"\u001b[39m\u001b[33mcharset\u001b[39m\u001b[33m\"\u001b[39m, \u001b[38;5;28;01mNone\u001b[39;00m),\n\u001b[32m   1367\u001b[39m     kwargs.pop(\u001b[33m\"\u001b[39m\u001b[33mcollation\u001b[39m\u001b[33m\"\u001b[39m, \u001b[38;5;28;01mNone\u001b[39;00m),\n\u001b[32m   1368\u001b[39m )\n\u001b[32m   1369\u001b[39m \u001b[38;5;28;01mif\u001b[39;00m charset \u001b[38;5;129;01mor\u001b[39;00m collation:\n",
      "\u001b[36mFile \u001b[39m\u001b[32mc:\\Users\\jpqv0\\VSCodeProjects\\Insper\\2025\\5-Semestre\\Megadados\\md-bcc\\venv\\Lib\\site-packages\\mysql\\connector\\connection_cext.py:328\u001b[39m, in \u001b[36mCMySQLConnection._open_connection\u001b[39m\u001b[34m(self)\u001b[39m\n\u001b[32m    326\u001b[39m         \u001b[38;5;28mself\u001b[39m.converter.str_fallback = \u001b[38;5;28mself\u001b[39m._converter_str_fallback\n\u001b[32m    327\u001b[39m \u001b[38;5;28;01mexcept\u001b[39;00m MySQLInterfaceError \u001b[38;5;28;01mas\u001b[39;00m err:\n\u001b[32m--> \u001b[39m\u001b[32m328\u001b[39m     \u001b[38;5;28;01mraise\u001b[39;00m get_mysql_exception(\n\u001b[32m    329\u001b[39m         msg=err.msg, errno=err.errno, sqlstate=err.sqlstate\n\u001b[32m    330\u001b[39m     ) \u001b[38;5;28;01mfrom\u001b[39;00m\u001b[38;5;250m \u001b[39m\u001b[34;01merr\u001b[39;00m\n\u001b[32m    332\u001b[39m \u001b[38;5;28mself\u001b[39m._do_handshake()\n",
      "\u001b[31mProgrammingError\u001b[39m: 1049 (42000): Unknown database 'sakila'"
     ]
    }
   ],
   "source": [
    "from functools import partial\n",
    "from dotenv import load_dotenv\n",
    "import insperautograder.jupyter as ia\n",
    "import mysql.connector\n",
    "import os\n",
    "\n",
    "load_dotenv(override=True)\n",
    "\n",
    "connection = mysql.connector.connect(\n",
    "    host=os.getenv(\"MD_DB_SERVER\"),\n",
    "    user=os.getenv(\"MD_DB_USERNAME\"),\n",
    "    password=os.getenv(\"MD_DB_PASSWORD\"),\n",
    "    port=int(os.getenv(\"MD_DB_PORT\", 3306)),\n",
    "    database=\"sakila\"\n",
    ")\n",
    "\n",
    "def run_db_query(connection, query, args=None):\n",
    "    with connection.cursor() as cursor:\n",
    "        print(\"Executando query:\")\n",
    "        for result in cursor.execute(query, multi=True):\n",
    "            if result.with_rows:\n",
    "                for row in result.fetchall():\n",
    "                    print(row)\n",
    "            else:\n",
    "                print(f\"{result.rowcount} linhas afetadas.\")\n",
    "\n",
    "db = partial(run_db_query, connection)"
   ]
  },
  {
   "cell_type": "markdown",
   "metadata": {},
   "source": [
    "## Exercícios para entrega\n",
    "\n",
    "Esta aula tem atividade para entrega, confira os prazos e exercícios"
   ]
  },
  {
   "cell_type": "code",
   "execution_count": 2,
   "metadata": {},
   "outputs": [
    {
     "data": {
      "text/markdown": [
       "|    | Atividade    | De                  | Até                 | Conta como ATV?   | % Nota Atraso   |\n",
       "|---:|:-------------|:--------------------|:--------------------|:------------------|:----------------|\n",
       "|  0 | newborn      | 2025-08-11 00:00:00 | 2025-11-30 00:00:00 | Não               | 0%              |\n",
       "|  1 | select01     | 2025-08-14 00:00:00 | 2025-08-22 23:59:59 | Sim               | 25%             |\n",
       "|  2 | ddl          | 2025-08-25 12:00:00 | 2025-08-31 23:59:59 | Sim               | 25%             |\n",
       "|  3 | dml          | 2025-08-28 16:30:00 | 2025-09-04 23:59:59 | Sim               | 25%             |\n",
       "|  4 | agg_join     | 2025-09-01 14:00:00 | 2025-09-07 23:59:59 | Sim               | 25%             |\n",
       "|  5 | group_having | 2025-09-04 16:30:00 | 2025-09-11 23:59:59 | Sim               | 25%             |"
      ],
      "text/plain": [
       "<IPython.core.display.Markdown object>"
      ]
     },
     "metadata": {},
     "output_type": "display_data"
    }
   ],
   "source": [
    "ia.tasks()"
   ]
  },
  {
   "cell_type": "code",
   "execution_count": 3,
   "metadata": {},
   "outputs": [
    {
     "data": {
      "text/markdown": [
       "|    | Atividade    | Exercício   |   Peso |   Nota |   Nota Sem Atraso |   Nota Com Atraso |\n",
       "|---:|:-------------|:------------|-------:|-------:|------------------:|------------------:|\n",
       "|  0 | group_having | ex01        |      1 |      0 |                 0 |                 0 |\n",
       "|  1 | group_having | ex02        |      4 |      0 |                 0 |                 0 |\n",
       "|  2 | group_having | ex03        |      4 |      0 |                 0 |                 0 |\n",
       "|  3 | group_having | ex04        |      4 |      0 |                 0 |                 0 |\n",
       "|  4 | group_having | ex05        |      4 |      0 |                 0 |                 0 |\n",
       "|  5 | group_having | ex06        |      8 |      0 |                 0 |                 0 |\n",
       "|  6 | group_having | ex07        |      6 |      0 |                 0 |                 0 |\n",
       "|  7 | group_having | ex08        |      6 |      0 |                 0 |                 0 |\n",
       "|  8 | group_having | ex09        |     12 |      0 |                 0 |                 0 |\n",
       "|  9 | group_having | ex10        |     10 |      0 |                 0 |                 0 |\n",
       "| 10 | group_having | ex11        |     10 |      0 |                 0 |                 0 |\n",
       "| 11 | group_having | ex12        |      6 |      0 |                 0 |                 0 |\n",
       "| 12 | group_having | ex13        |     12 |      0 |                 0 |                 0 |"
      ],
      "text/plain": [
       "<IPython.core.display.Markdown object>"
      ]
     },
     "metadata": {},
     "output_type": "display_data"
    }
   ],
   "source": [
    "ia.grades(task=\"group_having\")"
   ]
  },
  {
   "cell_type": "code",
   "execution_count": 4,
   "metadata": {},
   "outputs": [
    {
     "data": {
      "text/markdown": [
       "|    | Tarefa       |   Nota | Conta como ATV?   |\n",
       "|---:|:-------------|-------:|:------------------|\n",
       "|  0 | group_having |      0 | Sim               |"
      ],
      "text/plain": [
       "<IPython.core.display.Markdown object>"
      ]
     },
     "metadata": {},
     "output_type": "display_data"
    }
   ],
   "source": [
    "ia.grades(by=\"task\", task=\"group_having\")"
   ]
  },
  {
   "cell_type": "code",
   "execution_count": 5,
   "metadata": {},
   "outputs": [
    {
     "data": {
      "text/markdown": [
       "|    | Tarefa       |   Nota | Conta como ATV?   |\n",
       "|---:|:-------------|-------:|:------------------|\n",
       "|  0 | newborn      |     10 | Não               |\n",
       "|  1 | select01     |     10 | Sim               |\n",
       "|  2 | ddl          |     10 | Sim               |\n",
       "|  3 | dml          |     10 | Sim               |\n",
       "|  4 | agg_join     |     10 | Sim               |\n",
       "|  5 | group_having |      0 | Sim               |"
      ],
      "text/plain": [
       "<IPython.core.display.Markdown object>"
      ]
     },
     "metadata": {},
     "output_type": "display_data"
    }
   ],
   "source": [
    "# Nota em todas ATVs\n",
    "ia.grades(by=\"task\")"
   ]
  },
  {
   "cell_type": "code",
   "execution_count": 6,
   "metadata": {},
   "outputs": [
    {
     "data": {
      "text/markdown": [
       "|    |   Média de ATV |\n",
       "|---:|---------------:|\n",
       "|  0 |             10 |"
      ],
      "text/plain": [
       "<IPython.core.display.Markdown object>"
      ]
     },
     "metadata": {},
     "output_type": "display_data"
    }
   ],
   "source": [
    "# Média de ATV, dividindo por n-2\n",
    "ia.average(excluded_count=2)"
   ]
  },
  {
   "cell_type": "markdown",
   "metadata": {},
   "source": [
    "## Aquecimento"
   ]
  },
  {
   "cell_type": "markdown",
   "metadata": {},
   "source": [
    "**Exercício 1**: Quais os nomes das categorias de filme? Ordene de forma crescente."
   ]
  },
  {
   "cell_type": "code",
   "execution_count": 7,
   "metadata": {},
   "outputs": [],
   "source": [
    "sql_ex01 = \"\"\"\n",
    "    SELECT name\n",
    "    FROM category\n",
    "    ORDER BY name ASC;\n",
    "\"\"\"\n",
    "\n",
    "#db(sql_ex01)"
   ]
  },
  {
   "cell_type": "code",
   "execution_count": 8,
   "metadata": {},
   "outputs": [
    {
     "data": {
      "application/vnd.jupyter.widget-view+json": {
       "model_id": "e217cc50a8964f728c8a7207bc2e9c13",
       "version_major": 2,
       "version_minor": 0
      },
      "text/plain": [
       "interactive(children=(Button(description='Enviar ex01', style=ButtonStyle()), Output()), _dom_classes=('widget…"
      ]
     },
     "metadata": {},
     "output_type": "display_data"
    }
   ],
   "source": [
    "ia.sender(answer=\"sql_ex01\", task=\"group_having\", question=\"ex01\", answer_type=\"pyvar\")"
   ]
  },
  {
   "cell_type": "markdown",
   "metadata": {},
   "source": [
    "**Exercício 2**: Quais atores tem as iniciais \"J.D.\"? Exiba todos os atributos. Ordene de forma crescente pelo primeiro nome."
   ]
  },
  {
   "cell_type": "code",
   "execution_count": 9,
   "metadata": {},
   "outputs": [],
   "source": [
    "sql_ex02 = \"\"\"\n",
    "    SELECT *\n",
    "    FROM actor\n",
    "    WHERE first_name LIKE 'J%' \n",
    "    AND last_name LIKE 'D%'\n",
    "    ORDER BY first_name ASC;\n",
    "\"\"\"\n",
    "\n",
    "# db(sql_ex02)"
   ]
  },
  {
   "cell_type": "code",
   "execution_count": 10,
   "metadata": {},
   "outputs": [
    {
     "data": {
      "application/vnd.jupyter.widget-view+json": {
       "model_id": "5a42bd82c4cb4200acadd1e393e1e886",
       "version_major": 2,
       "version_minor": 0
      },
      "text/plain": [
       "interactive(children=(Button(description='Enviar ex02', style=ButtonStyle()), Output()), _dom_classes=('widget…"
      ]
     },
     "metadata": {},
     "output_type": "display_data"
    }
   ],
   "source": [
    "ia.sender(answer=\"sql_ex02\", task=\"group_having\", question=\"ex02\", answer_type=\"pyvar\")"
   ]
  },
  {
   "cell_type": "markdown",
   "metadata": {},
   "source": [
    "**Exercício 3**: Liste as cidades brasileiras presentes na base de dados. Ordene de forma decrescente."
   ]
  },
  {
   "cell_type": "code",
   "execution_count": 11,
   "metadata": {},
   "outputs": [],
   "source": [
    "sql_ex03 = \"\"\"\n",
    "    SELECT c.city\n",
    "    FROM city c\n",
    "    JOIN country co ON c.country_id = co.country_id\n",
    "    WHERE co.country = 'Brazil'\n",
    "    ORDER BY c.city DESC;\n",
    "\"\"\"\n",
    "\n",
    "# db(sql_ex03)"
   ]
  },
  {
   "cell_type": "code",
   "execution_count": 12,
   "metadata": {},
   "outputs": [
    {
     "data": {
      "application/vnd.jupyter.widget-view+json": {
       "model_id": "10440d49166d4a75b6f64c1b1ef7cebc",
       "version_major": 2,
       "version_minor": 0
      },
      "text/plain": [
       "interactive(children=(Button(description='Enviar ex03', style=ButtonStyle()), Output()), _dom_classes=('widget…"
      ]
     },
     "metadata": {},
     "output_type": "display_data"
    }
   ],
   "source": [
    "ia.sender(answer=\"sql_ex03\", task=\"group_having\", question=\"ex03\", answer_type=\"pyvar\")"
   ]
  },
  {
   "cell_type": "markdown",
   "metadata": {},
   "source": [
    "**Exercício 4**: *Quantas* cidades brasileiras tem na base de dados? Renomeie para `qt_city`"
   ]
  },
  {
   "cell_type": "code",
   "execution_count": 13,
   "metadata": {},
   "outputs": [],
   "source": [
    "sql_ex04 = \"\"\"\n",
    "    SELECT COUNT(*) AS qt_city\n",
    "    FROM city c\n",
    "    JOIN country co ON c.country_id = co.country_id\n",
    "    WHERE co.country = 'Brazil';\n",
    "\"\"\"\n",
    "\n",
    "# db(sql_ex04)"
   ]
  },
  {
   "cell_type": "code",
   "execution_count": 14,
   "metadata": {},
   "outputs": [
    {
     "data": {
      "application/vnd.jupyter.widget-view+json": {
       "model_id": "3f5f50944c0747de92123c154e7358fd",
       "version_major": 2,
       "version_minor": 0
      },
      "text/plain": [
       "interactive(children=(Button(description='Enviar ex04', style=ButtonStyle()), Output()), _dom_classes=('widget…"
      ]
     },
     "metadata": {},
     "output_type": "display_data"
    }
   ],
   "source": [
    "ia.sender(answer=\"sql_ex04\", task=\"group_having\", question=\"ex04\", answer_type=\"pyvar\")"
   ]
  },
  {
   "cell_type": "markdown",
   "metadata": {},
   "source": [
    "**Exercício 5**: Liste os filmes do ator (fictício) \"Dan Harris\". Ordene de forma crescente. Renomeie para `movie_title`."
   ]
  },
  {
   "cell_type": "code",
   "execution_count": 15,
   "metadata": {},
   "outputs": [],
   "source": [
    "sql_ex05 = \"\"\"\n",
    "    SELECT f.title AS movie_title\n",
    "    FROM film f\n",
    "    JOIN film_actor fa ON f.film_id = fa.film_id\n",
    "    JOIN actor a ON fa.actor_id = a.actor_id\n",
    "    WHERE a.first_name = 'Dan'\n",
    "        AND a.last_name = 'Harris'\n",
    "    ORDER BY f.title ASC;\n",
    "\"\"\"\n",
    "\n",
    "# db(sql_ex05)"
   ]
  },
  {
   "cell_type": "code",
   "execution_count": 16,
   "metadata": {},
   "outputs": [
    {
     "data": {
      "application/vnd.jupyter.widget-view+json": {
       "model_id": "0563ec1da94f4029a7b2b4e7df6d720e",
       "version_major": 2,
       "version_minor": 0
      },
      "text/plain": [
       "interactive(children=(Button(description='Enviar ex05', style=ButtonStyle()), Output()), _dom_classes=('widget…"
      ]
     },
     "metadata": {},
     "output_type": "display_data"
    }
   ],
   "source": [
    "ia.sender(answer=\"sql_ex05\", task=\"group_having\", question=\"ex05\", answer_type=\"pyvar\")"
   ]
  },
  {
   "cell_type": "markdown",
   "metadata": {},
   "source": [
    "**Exercício 6**: Quais filmes estão alugados por Florence Woods?\n",
    "\n",
    "Retorne:\n",
    "- O primeiro nome\n",
    "- O sobrenome\n",
    "- O id do cliente\n",
    "- O título do filme\n",
    "\n",
    "Ordene pelo:\n",
    "- Título do filme, decrescente"
   ]
  },
  {
   "cell_type": "code",
   "execution_count": 19,
   "metadata": {},
   "outputs": [],
   "source": [
    "sql_ex06 = \"\"\"\n",
    "    SELECT c.first_name,\n",
    "        c.last_name,\n",
    "        c.customer_id,\n",
    "        f.title\n",
    "    FROM customer c\n",
    "    JOIN rental r ON c.customer_id = r.customer_id\n",
    "    JOIN inventory i ON r.inventory_id = i.inventory_id\n",
    "    JOIN film f ON i.film_id = f.film_id\n",
    "    WHERE c.first_name = 'Florence'\n",
    "        AND c.last_name = 'Woods'\n",
    "        AND r.return_date IS NULL\n",
    "    ORDER BY f.title DESC;\n",
    "\"\"\"\n",
    "\n",
    "# db(sql_ex06)"
   ]
  },
  {
   "cell_type": "code",
   "execution_count": 20,
   "metadata": {},
   "outputs": [
    {
     "data": {
      "application/vnd.jupyter.widget-view+json": {
       "model_id": "e7983931571142a99f6ec4207574e3be",
       "version_major": 2,
       "version_minor": 0
      },
      "text/plain": [
       "interactive(children=(Button(description='Enviar ex06', style=ButtonStyle()), Output()), _dom_classes=('widget…"
      ]
     },
     "metadata": {},
     "output_type": "display_data"
    }
   ],
   "source": [
    "ia.sender(answer=\"sql_ex06\", task=\"group_having\", question=\"ex06\", answer_type=\"pyvar\")"
   ]
  },
  {
   "cell_type": "markdown",
   "metadata": {},
   "source": [
    "**Exercício 7**: Para quais línguas não tem nenhum filme na locadora? Ordene de forma crescente.\n",
    "\n",
    "**Dica**: use `LEFT OUTER JOIN`"
   ]
  },
  {
   "cell_type": "code",
   "execution_count": 24,
   "metadata": {},
   "outputs": [],
   "source": [
    "sql_ex07 = \"\"\"\n",
    "    SELECT l.name \n",
    "    FROM language l\n",
    "    LEFT JOIN film f ON l.language_id = f.language_id\n",
    "    WHERE f.film_id IS NULL\n",
    "    ORDER BY l.name ASC;\n",
    "\"\"\"\n",
    "\n",
    "# db(sql_ex07)"
   ]
  },
  {
   "cell_type": "code",
   "execution_count": 25,
   "metadata": {},
   "outputs": [
    {
     "data": {
      "application/vnd.jupyter.widget-view+json": {
       "model_id": "cb30f3153127415ab20bb3a60d0da3aa",
       "version_major": 2,
       "version_minor": 0
      },
      "text/plain": [
       "interactive(children=(Button(description='Enviar ex07', style=ButtonStyle()), Output()), _dom_classes=('widget…"
      ]
     },
     "metadata": {},
     "output_type": "display_data"
    }
   ],
   "source": [
    "ia.sender(answer=\"sql_ex07\", task=\"group_having\", question=\"ex07\", answer_type=\"pyvar\")"
   ]
  },
  {
   "cell_type": "markdown",
   "metadata": {},
   "source": [
    "## `DISTINCT`"
   ]
  },
  {
   "cell_type": "markdown",
   "metadata": {},
   "source": [
    "As vezes desejamos consultar quais os valores distintos de uma coluna. Para isso usamos o qualificador `DISTINCT`. \n",
    "\n",
    "Por exemplo: Quais os anos de lançamento dos filmes da base? "
   ]
  },
  {
   "cell_type": "code",
   "execution_count": null,
   "metadata": {
    "scrolled": true
   },
   "outputs": [],
   "source": [
    "# Vai aparecer muitas cópias de \"(2006,)\"\n",
    "db(\"SELECT release_year FROM film LIMIT 20\")"
   ]
  },
  {
   "cell_type": "markdown",
   "metadata": {},
   "source": [
    "Ops, parece que não tem muita variedade nesta base! Usando `DISTINCT` podemos limpar esse resultado:"
   ]
  },
  {
   "cell_type": "code",
   "execution_count": null,
   "metadata": {},
   "outputs": [],
   "source": [
    "db(\"SELECT DISTINCT release_year FROM film\")"
   ]
  },
  {
   "cell_type": "markdown",
   "metadata": {},
   "source": [
    "### Praticando"
   ]
  },
  {
   "cell_type": "markdown",
   "metadata": {},
   "source": [
    "**Exercício 8**: Quais clientes estão alugando um DVD agora? Ordene pelo nome e sobrenome. Retorne o id, nome e sobrenome do cliente."
   ]
  },
  {
   "cell_type": "code",
   "execution_count": 27,
   "metadata": {},
   "outputs": [],
   "source": [
    "sql_ex08 = \"\"\"\n",
    "    SELECT DISTINCT c.customer_id,\n",
    "        c.first_name,\n",
    "        c.last_name\n",
    "    FROM customer c\n",
    "    JOIN rental r ON c.customer_id = r.customer_id\n",
    "    WHERE r.return_date IS NULL\n",
    "    ORDER BY c.first_name ASC, c.last_name ASC;\n",
    "\"\"\"\n",
    "\n",
    "# db(sql_ex08)"
   ]
  },
  {
   "cell_type": "code",
   "execution_count": 28,
   "metadata": {},
   "outputs": [
    {
     "data": {
      "application/vnd.jupyter.widget-view+json": {
       "model_id": "5631a2669cd14e62a6ad8f0fef4e7001",
       "version_major": 2,
       "version_minor": 0
      },
      "text/plain": [
       "interactive(children=(Button(description='Enviar ex08', style=ButtonStyle()), Output()), _dom_classes=('widget…"
      ]
     },
     "metadata": {},
     "output_type": "display_data"
    }
   ],
   "source": [
    "ia.sender(answer=\"sql_ex08\", task=\"group_having\", question=\"ex08\", answer_type=\"pyvar\")"
   ]
  },
  {
   "cell_type": "markdown",
   "metadata": {},
   "source": [
    "## Agrupamento"
   ]
  },
  {
   "cell_type": "markdown",
   "metadata": {},
   "source": [
    "Uma das características mais valiosas de banco de dados é o *agrupamento*. Podemos agrupar os resultados de uma query indicando uma coluna cujos valores serão usados para agrupar os dados.\n",
    "\n",
    "Por exemplo, considere a seguinte tabela, que chamaremos de `vendas`:\n",
    "\n",
    "| id | id_item | item | preco |\n",
    "|--|--|--|--|\n",
    "| 1 | 1 | A | 5 |\n",
    "| 2 | 2 | B | 6 |\n",
    "| 3 | 1 | A | 3 |\n",
    "| 4 | 3 | C | 7 |\n",
    "| 5 | 3 | C | 5 |\n",
    "| 6 | 1 | A | 2 |\n",
    "\n",
    "Se agruparmos pela coluna `id_item` teremos 3 conjuntos de resultados:\n",
    "\n",
    "id_item = 1:\n",
    "\n",
    "| id | id_item | item | preco |\n",
    "|--|--|--|--|\n",
    "| 1 | 1 | A | 5 |\n",
    "| 3 | 1 | A | 3 |\n",
    "| 6 | 1 | A | 2 |\n",
    "\n",
    "id_item = 2:\n",
    "\n",
    "| id | id_item | item | preco |\n",
    "|--|--|--|--|\n",
    "| 2 | 2 | B | 6 |\n",
    "\n",
    "id_item = 3:\n",
    "\n",
    "| id | id_item | item | preco |\n",
    "|--|--|--|--|\n",
    "| 4 | 3 | C | 7 |\n",
    "| 5 | 3 | C | 5 |\n",
    "\n",
    "É como se tivessemos uma lista de tabelas! Isso não é permitido em SQL. Temos que **resumir** a informação de cada uma das tabelas a uma linha só, o que significa que, para cada coluna, devemos escolher uma dessas opções:\n",
    "- Resumir a informação da coluna usando uma **função de grupo**. Podemos somar, tirar a média, contar itens, concatená-los em uma única string, entre outras;\n",
    "- Para colunas que se relacionam 1 para 1 com a coluna de agrupamento (como a coluna de agrupamento em si, ou a coluna `item` neste exemplo), manter este valor. Isso acontece frequentemente quando fazemos `JOIN`.\n",
    "- Não incluir a coluna, caso contrário.\n",
    "\n",
    "Neste exemplo, podemos tomar a seguinte decisão para cada coluna:\n",
    "- `id`: descartar\n",
    "- `id_item`: manter valor\n",
    "- `item`: manter valor\n",
    "- `preco`: vamos calcular a soma dos valores, e renomear esta informação para `total`\n",
    "\n",
    "Com isso, obtemos a seguinte tabela:\n",
    "\n",
    "| id_item | item | total |\n",
    "|--|--|--|\n",
    "| 1 | A | 10 |\n",
    "| 2 | B | 6 |\n",
    "| 3 | C | 12 |\n",
    "\n",
    "Por fim, se não queremos id_item, ficamos com a seguinte tabela:\n",
    "\n",
    "| item | total |\n",
    "|--|--|\n",
    "| A | 10 |\n",
    "| B | 6 |\n",
    "| C | 12 |\n",
    "\n",
    "Para obter essa tabela podemos usar o seguinte comando SQL:\n",
    "\n",
    "```SQL\n",
    "SELECT \n",
    "    item, SUM(preco) as total \n",
    "FROM \n",
    "    vendas\n",
    "GROUP BY\n",
    "    id_item\n",
    "```\n",
    "\n",
    "Consulte o capítulo 9 do seu livro texto para conhecer mais sobre agrupamentos."
   ]
  },
  {
   "cell_type": "markdown",
   "metadata": {},
   "source": [
    "### Praticando"
   ]
  },
  {
   "cell_type": "markdown",
   "metadata": {},
   "source": [
    "**Exercício 9**: Quais os 10 atores que mais apareceram em filmes?\n",
    "\n",
    "Retorne o id, nome, sobrenome e a quantidade de filmes que o ator atua (nomeie esta coluna como `film_count`).\n",
    "\n",
    "Ordene de forma descrescente pela quantidade, crescente pelo primeiro nome e crescente pelo segundo nome."
   ]
  },
  {
   "cell_type": "code",
   "execution_count": 29,
   "metadata": {},
   "outputs": [],
   "source": [
    "sql_ex09 = \"\"\"\n",
    "    SELECT a.actor_id,\n",
    "        a.first_name,\n",
    "        a.last_name,\n",
    "        COUNT(fa.film_id) AS film_count\n",
    "    FROM actor a\n",
    "    JOIN film_actor fa ON a.actor_id = fa.actor_id\n",
    "    GROUP BY a.actor_id, a.first_name, a.last_name\n",
    "    ORDER BY film_count DESC,\n",
    "            a.first_name ASC,\n",
    "            a.last_name ASC\n",
    "    LIMIT 10;\n",
    "\"\"\"\n",
    "\n",
    "# db(sql_ex09)"
   ]
  },
  {
   "cell_type": "code",
   "execution_count": 30,
   "metadata": {},
   "outputs": [
    {
     "data": {
      "application/vnd.jupyter.widget-view+json": {
       "model_id": "ecbfe74abf25467c841e450a7a903d37",
       "version_major": 2,
       "version_minor": 0
      },
      "text/plain": [
       "interactive(children=(Button(description='Enviar ex09', style=ButtonStyle()), Output()), _dom_classes=('widget…"
      ]
     },
     "metadata": {},
     "output_type": "display_data"
    }
   ],
   "source": [
    "ia.sender(answer=\"sql_ex09\", task=\"group_having\", question=\"ex09\", answer_type=\"pyvar\")"
   ]
  },
  {
   "cell_type": "markdown",
   "metadata": {},
   "source": [
    "## Pipeline do comando `SELECT`"
   ]
  },
  {
   "cell_type": "markdown",
   "metadata": {},
   "source": [
    "Uma versão mais completa do `SELECT` (mas não inteiramente completa - consulte o manual do MySQL) é vista abaixo:\n",
    "\n",
    "```\n",
    "SELECT [DISTINCT] <select_header> \n",
    "FROM <source_tables>\n",
    "WHERE <filter_expression>\n",
    "GROUP BY <grouping_expressions>\n",
    "HAVING <filter_expression>\n",
    "ORDER BY <ordering_expressions>\n",
    "LIMIT <count> \n",
    "OFFSET <count>\n",
    "```\n",
    "\n",
    "Você já deve ter percebido que o comando `SELECT` tem uma sequência própria de avaliação. Por exemplo, para saber quais filmes custam mais que 3 dinheiros, podemos escrever:"
   ]
  },
  {
   "cell_type": "code",
   "execution_count": null,
   "metadata": {},
   "outputs": [],
   "source": [
    "db(\"\"\"\n",
    "SELECT\n",
    "    COUNT(f.rental_rate)\n",
    "FROM\n",
    "    film f\n",
    "WHERE\n",
    "    f.rental_rate > 3\n",
    "\"\"\")"
   ]
  },
  {
   "cell_type": "markdown",
   "metadata": {},
   "source": [
    "Observe que o 'apelido' f para a tabela 'film' é definido na cláusula `FROM`, mas usado em `SELECT` e também em `WHERE`.\n",
    "\n",
    "A ordem de execução do comando `SELECT` é aproximadamente como segue:\n",
    "\n",
    "1. `FROM <source_tables>`: indica as tabelas que serão usadas nesta query e, conceitualmente, combina estas tabelas através de *produto cartesiano* em uma grande tabela. (Note o termo \"*conceitualmente*\" que usei: em termos de implementação da query este produto cartesiano raramente é construído.)\n",
    "\n",
    "2. `WHERE <filter_expression>`: filtra linhas.\n",
    "\n",
    "3. `GROUP BY <grouping_expressions>`: agrupa conjuntos de linhas.\n",
    "\n",
    "4. `SELECT <select_heading>`: escolha de colunas e de agregados.\n",
    "\n",
    "5. `HAVING <filter_expression>`: outra filtragem, esta aplicada apenas **depois** da agregação. Pode usar resultados do processo de agregação. Obriga o uso de `GROUP BY`.\n",
    "\n",
    "6. `DISTINCT`: Elimina linhas duplicadas.\n",
    "\n",
    "7. `ORDER BY`: ordena as linhas do resultado.\n",
    "\n",
    "8. `OFFSET <count>`: Pula linhas do resultado. Requer LIMIT.\n",
    "\n",
    "9. `LIMIT <count>`: Mantém apenas um número máximo de linhas.\n",
    "\n",
    "Esta sequencia também serve como dica de como projetar uma query! \n",
    "- Comece identificando as tabelas que você deseja usar\n",
    "- Monte o filtro de linhas, incluindo critérios de `JOIN`\n",
    "- Agrupe\n",
    "- Selecione colunas e aplique funções de agregação, conforme necessário\n",
    "- Filtre com `HAVING`, agora que temos agregação\n",
    "- O resto é mais fácil, aplique conforme requerido"
   ]
  },
  {
   "cell_type": "markdown",
   "metadata": {},
   "source": [
    "## `WHERE` versus `HAVING`"
   ]
  },
  {
   "cell_type": "markdown",
   "metadata": {},
   "source": [
    "Conforme visto acima, temos a cláusula `HAVING` para fazer filtragens *APÓS* agregação.\n",
    "\n",
    "**Para que serve isso?** Por exemplo, suponha que queremos saber quais categorias de filme possuem a letra `a` em seu nome **E** menos que sessenta filmes cadastrados na base.\n",
    "\n",
    "**A seguinte query irá falhar! Continue a leitura do *handout***"
   ]
  },
  {
   "cell_type": "code",
   "execution_count": null,
   "metadata": {
    "scrolled": true
   },
   "outputs": [],
   "source": [
    "db(\"\"\"\n",
    "SELECT \n",
    "    ca.category_id,\n",
    "    ca.name,\n",
    "    COUNT(f.film_id) AS film_count\n",
    "FROM\n",
    "    category ca\n",
    "    INNER JOIN film_category fc USING(category_id)\n",
    "    INNER JOIN film f USING(film_id)\n",
    "WHERE\n",
    "    lower(ca.name) LIKE '%a%' AND\n",
    "COUNT(f.film_id) < 60 -- FALHA AQUI!!!!!!!!!!!!!!!!!!!!\n",
    "GROUP BY\n",
    "    ca.category_id\n",
    "ORDER BY\n",
    "    film_count DESC\n",
    "\"\"\")"
   ]
  },
  {
   "cell_type": "markdown",
   "metadata": {},
   "source": [
    "A query falha porque a função de agregação `COUNT` necessita que as linhas já tenham sido selecionadas / filtradas. Então, ao tentar utilizar no `WHERE` uma função que depende das linhas filtradas pelo `WHERE`, criamos uma situação de conflito!\n",
    "\n",
    "Para solucionar, iremos utilizar `HAVING`:"
   ]
  },
  {
   "cell_type": "code",
   "execution_count": null,
   "metadata": {},
   "outputs": [],
   "source": [
    "db(\"\"\"\n",
    "SELECT \n",
    "    ca.category_id,\n",
    "    ca.name,\n",
    "    COUNT(f.film_id) AS film_count\n",
    "FROM\n",
    "    category ca\n",
    "    INNER JOIN film_category fc USING(category_id)\n",
    "    INNER JOIN film f USING(film_id)\n",
    "WHERE\n",
    "    lower(ca.name) LIKE '%a%'\n",
    "GROUP BY\n",
    "    ca.category_id\n",
    "HAVING\n",
    "    film_count < 60\n",
    "ORDER BY\n",
    "    film_count DESC\n",
    "\"\"\")"
   ]
  },
  {
   "cell_type": "markdown",
   "metadata": {},
   "source": [
    "## Praticando"
   ]
  },
  {
   "cell_type": "markdown",
   "metadata": {},
   "source": [
    "**Exercício 10**: Liste a duração média dos filmes na categoria 'Drama'. Renomeie o atributo retornado para `duracao_media_drama`."
   ]
  },
  {
   "cell_type": "code",
   "execution_count": 31,
   "metadata": {},
   "outputs": [],
   "source": [
    "sql_ex10 = \"\"\"\n",
    "    SELECT \n",
    "        AVG(f.length) AS duracao_media_drama\n",
    "    FROM film f\n",
    "    INNER JOIN film_category fc ON f.film_id = fc.film_id\n",
    "    INNER JOIN category c ON fc.category_id = c.category_id\n",
    "    WHERE c.name = 'Drama';\n",
    "\"\"\"\n",
    "\n",
    "# db(sql_ex10)"
   ]
  },
  {
   "cell_type": "code",
   "execution_count": 32,
   "metadata": {},
   "outputs": [
    {
     "data": {
      "application/vnd.jupyter.widget-view+json": {
       "model_id": "b363e76558074e8d9e360c8ef8eb4887",
       "version_major": 2,
       "version_minor": 0
      },
      "text/plain": [
       "interactive(children=(Button(description='Enviar ex10', style=ButtonStyle()), Output()), _dom_classes=('widget…"
      ]
     },
     "metadata": {},
     "output_type": "display_data"
    }
   ],
   "source": [
    "ia.sender(answer=\"sql_ex10\", task=\"group_having\", question=\"ex10\", answer_type=\"pyvar\")"
   ]
  },
  {
   "cell_type": "markdown",
   "metadata": {},
   "source": [
    "**Exercício 11**: Liste o nome da categoria e a duração média dos filmes por categoria. Renomeie o atributo de média para `avg_len`. Ordene de forma decrescente por `avg_len`."
   ]
  },
  {
   "cell_type": "code",
   "execution_count": 36,
   "metadata": {},
   "outputs": [],
   "source": [
    "sql_ex11 = \"\"\"\n",
    "    SELECT \n",
    "        c.name,\n",
    "        AVG(f.length) AS avg_len\n",
    "    FROM film f\n",
    "    INNER JOIN film_category fc ON f.film_id = fc.film_id\n",
    "    INNER JOIN category c ON fc.category_id = c.category_id\n",
    "    GROUP BY c.name\n",
    "    ORDER BY avg_len DESC;\n",
    "\"\"\"\n",
    "\n",
    "# db(sql_ex11)"
   ]
  },
  {
   "cell_type": "code",
   "execution_count": 37,
   "metadata": {},
   "outputs": [
    {
     "data": {
      "application/vnd.jupyter.widget-view+json": {
       "model_id": "e803d105921c4de2bd011920579e10b8",
       "version_major": 2,
       "version_minor": 0
      },
      "text/plain": [
       "interactive(children=(Button(description='Enviar ex11', style=ButtonStyle()), Output()), _dom_classes=('widget…"
      ]
     },
     "metadata": {},
     "output_type": "display_data"
    }
   ],
   "source": [
    "ia.sender(answer=\"sql_ex11\", task=\"group_having\", question=\"ex11\", answer_type=\"pyvar\")"
   ]
  },
  {
   "cell_type": "markdown",
   "metadata": {},
   "source": [
    "**Exercício 12**: Liste o nome da categoria e a duração média dos filmes por categoria, apenas para categorias cuja duração média de filme excede 120 minutos. Renomeie o atributo de média para `avg_len`. Ordene de forma decrescente por `avg_len`."
   ]
  },
  {
   "cell_type": "code",
   "execution_count": 42,
   "metadata": {},
   "outputs": [],
   "source": [
    "sql_ex12 = \"\"\"\n",
    "    SELECT \n",
    "        c.name,\n",
    "        AVG(f.length) AS avg_len\n",
    "    FROM film f\n",
    "    INNER JOIN film_category fc ON f.film_id = fc.film_id\n",
    "    INNER JOIN category c ON fc.category_id = c.category_id\n",
    "    GROUP BY c.name\n",
    "    HAVING AVG(f.length) > 120\n",
    "    ORDER BY avg_len DESC;\n",
    "\"\"\"\n",
    "\n",
    "# db(sql_ex12)"
   ]
  },
  {
   "cell_type": "code",
   "execution_count": 43,
   "metadata": {},
   "outputs": [
    {
     "data": {
      "application/vnd.jupyter.widget-view+json": {
       "model_id": "41d3d44d1c844e9f815598fb64d14cc8",
       "version_major": 2,
       "version_minor": 0
      },
      "text/plain": [
       "interactive(children=(Button(description='Enviar ex12', style=ButtonStyle()), Output()), _dom_classes=('widget…"
      ]
     },
     "metadata": {},
     "output_type": "display_data"
    }
   ],
   "source": [
    "ia.sender(answer=\"sql_ex12\", task=\"group_having\", question=\"ex12\", answer_type=\"pyvar\")"
   ]
  },
  {
   "cell_type": "markdown",
   "metadata": {},
   "source": [
    "**Exercício 13**: Quais atores participaram de 35 a 40 filmes (intervalo fechado)?\n",
    "\n",
    "Retorne:\n",
    "\n",
    "- Nome\n",
    "- Sobrenome\n",
    "- Quantidade de filmes\n",
    "\n",
    "Ordene por:\n",
    "- Quantidade de filmes (Decrescente)\n",
    "- Se houver empate na quantidade de filmes, ordene de forma crescente pelo nome e sobrenome."
   ]
  },
  {
   "cell_type": "code",
   "execution_count": 50,
   "metadata": {},
   "outputs": [],
   "source": [
    "sql_ex13 = \"\"\"\n",
    "    SELECT \n",
    "        a.first_name,\n",
    "        a.last_name,\n",
    "        COUNT(fa.film_id) AS film_count\n",
    "    FROM actor a\n",
    "    INNER JOIN film_actor fa ON a.actor_id = fa.actor_id\n",
    "    GROUP BY a.actor_id, a.first_name, a.last_name\n",
    "    HAVING COUNT(fa.film_id) BETWEEN 35 AND 40\n",
    "    ORDER BY film_count DESC, \n",
    "            a.first_name ASC, \n",
    "            a.last_name ASC;\n",
    "\"\"\"\n",
    "\n",
    "# db(sql_ex13)"
   ]
  },
  {
   "cell_type": "code",
   "execution_count": 51,
   "metadata": {},
   "outputs": [
    {
     "data": {
      "application/vnd.jupyter.widget-view+json": {
       "model_id": "d55642aeae7b4500afd519341f99e8ef",
       "version_major": 2,
       "version_minor": 0
      },
      "text/plain": [
       "interactive(children=(Button(description='Enviar ex13', style=ButtonStyle()), Output()), _dom_classes=('widget…"
      ]
     },
     "metadata": {},
     "output_type": "display_data"
    }
   ],
   "source": [
    "ia.sender(answer=\"sql_ex13\", task=\"group_having\", question=\"ex13\", answer_type=\"pyvar\")"
   ]
  },
  {
   "cell_type": "markdown",
   "metadata": {},
   "source": [
    "# Conclusão"
   ]
  },
  {
   "cell_type": "markdown",
   "metadata": {},
   "source": [
    "Esta aula de hoje foi bastante densa! Dicas de estudo:\n",
    "\n",
    "- Pratique no seu livro-texto, capítulo 9. Lembre-se que a base 'música' pode ser usada para praticar os comandos SQL vistos no livro.\n",
    "- Tente criar queries que sirvam de exemplo para os conceitos do livro! A tarefa de criar exemplos é muito instrutiva!\n",
    "\n",
    "**Leitura prévia**:\n",
    "Para a próxima aula vamos continuar praticando, com os assuntos dos capítulos 10 e 11, prepare-se para a aula, ok?\n",
    "\n",
    "Até a próxima!"
   ]
  },
  {
   "cell_type": "code",
   "execution_count": 52,
   "metadata": {},
   "outputs": [
    {
     "ename": "NameError",
     "evalue": "name 'connection' is not defined",
     "output_type": "error",
     "traceback": [
      "\u001b[31m---------------------------------------------------------------------------\u001b[39m",
      "\u001b[31mNameError\u001b[39m                                 Traceback (most recent call last)",
      "\u001b[36mCell\u001b[39m\u001b[36m \u001b[39m\u001b[32mIn[52]\u001b[39m\u001b[32m, line 1\u001b[39m\n\u001b[32m----> \u001b[39m\u001b[32m1\u001b[39m \u001b[43mconnection\u001b[49m.close()\n",
      "\u001b[31mNameError\u001b[39m: name 'connection' is not defined"
     ]
    }
   ],
   "source": [
    "connection.close()"
   ]
  },
  {
   "cell_type": "markdown",
   "metadata": {},
   "source": [
    "## Conferir Notas\n",
    "\n",
    "Confira se as notas na atividade são as esperadas!\n",
    "\n",
    "Primeiro na atividade atual!"
   ]
  },
  {
   "cell_type": "code",
   "execution_count": 53,
   "metadata": {},
   "outputs": [
    {
     "data": {
      "text/markdown": [
       "|    | Tarefa       |   Nota | Conta como ATV?   |\n",
       "|---:|:-------------|-------:|:------------------|\n",
       "|  0 | group_having |     10 | Sim               |"
      ],
      "text/plain": [
       "<IPython.core.display.Markdown object>"
      ]
     },
     "metadata": {},
     "output_type": "display_data"
    }
   ],
   "source": [
    "ia.grades(by=\"task\", task=\"group_having\")"
   ]
  },
  {
   "cell_type": "code",
   "execution_count": 54,
   "metadata": {},
   "outputs": [
    {
     "data": {
      "text/markdown": [
       "|    | Atividade    | Exercício   |   Peso |   Nota |   Nota Sem Atraso |   Nota Com Atraso |\n",
       "|---:|:-------------|:------------|-------:|-------:|------------------:|------------------:|\n",
       "|  0 | group_having | ex01        |      1 |     10 |                10 |                 0 |\n",
       "|  1 | group_having | ex02        |      4 |     10 |                10 |                 0 |\n",
       "|  2 | group_having | ex03        |      4 |     10 |                10 |                 0 |\n",
       "|  3 | group_having | ex04        |      4 |     10 |                10 |                 0 |\n",
       "|  4 | group_having | ex05        |      4 |     10 |                10 |                 0 |\n",
       "|  5 | group_having | ex06        |      8 |     10 |                10 |                 0 |\n",
       "|  6 | group_having | ex07        |      6 |     10 |                10 |                 0 |\n",
       "|  7 | group_having | ex08        |      6 |     10 |                10 |                 0 |\n",
       "|  8 | group_having | ex09        |     12 |     10 |                10 |                 0 |\n",
       "|  9 | group_having | ex10        |     10 |     10 |                10 |                 0 |\n",
       "| 10 | group_having | ex11        |     10 |     10 |                10 |                 0 |\n",
       "| 11 | group_having | ex12        |      6 |     10 |                10 |                 0 |\n",
       "| 12 | group_having | ex13        |     12 |     10 |                10 |                 0 |"
      ],
      "text/plain": [
       "<IPython.core.display.Markdown object>"
      ]
     },
     "metadata": {},
     "output_type": "display_data"
    }
   ],
   "source": [
    "ia.grades(task=\"group_having\")"
   ]
  },
  {
   "cell_type": "code",
   "execution_count": 55,
   "metadata": {},
   "outputs": [
    {
     "data": {
      "text/markdown": [
       "|    | Tarefa       |   Nota | Conta como ATV?   |\n",
       "|---:|:-------------|-------:|:------------------|\n",
       "|  0 | newborn      |     10 | Não               |\n",
       "|  1 | select01     |     10 | Sim               |\n",
       "|  2 | ddl          |     10 | Sim               |\n",
       "|  3 | dml          |     10 | Sim               |\n",
       "|  4 | agg_join     |     10 | Sim               |\n",
       "|  5 | group_having |     10 | Sim               |"
      ],
      "text/plain": [
       "<IPython.core.display.Markdown object>"
      ]
     },
     "metadata": {},
     "output_type": "display_data"
    }
   ],
   "source": [
    "ia.grades(by=\"task\")"
   ]
  },
  {
   "cell_type": "code",
   "execution_count": 56,
   "metadata": {},
   "outputs": [
    {
     "data": {
      "text/markdown": [
       "|    |   Média de ATV |\n",
       "|---:|---------------:|\n",
       "|  0 |             10 |"
      ],
      "text/plain": [
       "<IPython.core.display.Markdown object>"
      ]
     },
     "metadata": {},
     "output_type": "display_data"
    }
   ],
   "source": [
    "# Média de ATV, dividindo por n-2\n",
    "ia.average(excluded_count=2)"
   ]
  }
 ],
 "metadata": {
  "kernelspec": {
   "display_name": "venv",
   "language": "python",
   "name": "python3"
  },
  "language_info": {
   "codemirror_mode": {
    "name": "ipython",
    "version": 3
   },
   "file_extension": ".py",
   "mimetype": "text/x-python",
   "name": "python",
   "nbconvert_exporter": "python",
   "pygments_lexer": "ipython3",
   "version": "3.11.4"
  }
 },
 "nbformat": 4,
 "nbformat_minor": 4
}
